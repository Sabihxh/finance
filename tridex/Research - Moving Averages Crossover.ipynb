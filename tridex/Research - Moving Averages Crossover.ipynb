{
 "cells": [
  {
   "cell_type": "markdown",
   "metadata": {},
   "source": [
    "## FTSE 100 - Moving Averages Crossover \n",
    "\n",
    "How long does it take moving averages to crossover?\n",
    "\n",
    "**Strategy:**\n",
    "1. Find the difference in days between the first time the moving average cross over and when they cross over again.\n",
    "- Do this for the entire history of stock and for every stock in FTSE 100.\n",
    "- Calculate the average."
   ]
  },
  {
   "cell_type": "code",
   "execution_count": null,
   "metadata": {},
   "outputs": [],
   "source": []
  }
 ],
 "metadata": {
  "kernelspec": {
   "display_name": "Python 3",
   "language": "python",
   "name": "python3"
  },
  "language_info": {
   "codemirror_mode": {
    "name": "ipython",
    "version": 3
   },
   "file_extension": ".py",
   "mimetype": "text/x-python",
   "name": "python",
   "nbconvert_exporter": "python",
   "pygments_lexer": "ipython3",
   "version": "3.6.5"
  }
 },
 "nbformat": 4,
 "nbformat_minor": 2
}
