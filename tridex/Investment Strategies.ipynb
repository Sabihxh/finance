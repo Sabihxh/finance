{
 "cells": [
  {
   "cell_type": "markdown",
   "metadata": {},
   "source": [
    "# Investment Strategies\n",
    "Create an investment strategy to beat the benchmark strategy.\n",
    "\n",
    "### Product:\n",
    "    FTSE 100 ETF - ISF\n",
    "\n",
    "### Limit:\n",
    "    £20,000 per year\n",
    "\n",
    "### Rules:\n",
    "    Atleast 4 investments per year\n",
    "\n",
    "### Goal:\n",
    "    Buy as many shares as possible\n",
    "    \n",
    "### Benchmark strategy:\n",
    "    Pound cost averaging\n",
    "    \n",
    "\n",
    "#### Usefull links:\n",
    "Inflation calculator:\n",
    "https://www.bankofengland.co.uk/monetary-policy/inflation/inflation-calculator"
   ]
  },
  {
   "cell_type": "code",
   "execution_count": 162,
   "metadata": {},
   "outputs": [],
   "source": [
    "import numpy as np\n",
    "import pandas as pd\n",
    "\n",
    "import plotly.graph_objects as go\n",
    "\n",
    "import utils\n",
    "\n",
    "import plotly.io as pio\n",
    "pio.renderers.default = \"iframe_connected\"\n"
   ]
  },
  {
   "cell_type": "code",
   "execution_count": 163,
   "metadata": {},
   "outputs": [
    {
     "data": {
      "text/plain": [
       "Renderers configuration\n",
       "-----------------------\n",
       "    Default renderer: 'iframe_connected'\n",
       "    Available renderers:\n",
       "        ['plotly_mimetype', 'jupyterlab', 'nteract', 'vscode',\n",
       "         'notebook', 'notebook_connected', 'kaggle', 'azure', 'colab',\n",
       "         'cocalc', 'databricks', 'json', 'png', 'jpeg', 'jpg', 'svg',\n",
       "         'pdf', 'browser', 'firefox', 'chrome', 'chromium', 'iframe',\n",
       "         'iframe_connected', 'sphinx_gallery']"
      ]
     },
     "execution_count": 163,
     "metadata": {},
     "output_type": "execute_result"
    }
   ],
   "source": [
    "pio.renderers"
   ]
  },
  {
   "cell_type": "code",
   "execution_count": 164,
   "metadata": {},
   "outputs": [],
   "source": [
    "BASE_URL = 'https://docs.google.com/spreadsheets/d/10cihRP6XxJOSrWsASfW5C7VeHufD32TS0JKCXLoWhL8/export?format=csv&{}'\n",
    "\n",
    "UKX_sheet = BASE_URL.format('gid=134530274')\n",
    "\n",
    "ISF_sheet = BASE_URL.format('gid=1374752918')\n"
   ]
  },
  {
   "cell_type": "code",
   "execution_count": 165,
   "metadata": {},
   "outputs": [],
   "source": [
    "# Read data\n",
    "df = pd.read_csv(ISF_sheet)\n",
    "\n",
    "# Rename columns\n",
    "df = df.rename(columns={'Unnamed: 1': 'Open'})\n",
    "\n",
    "# Convert to datetime\n",
    "df['Date'] = pd.to_datetime(df['Date'].str[:10], format=\"%d/%m/%Y\")\n",
    "\n",
    "# Get datetime related fields\n",
    "df['month'] = df['Date'].dt.month_name()\n",
    "df['year'] = df['Date'].dt.year\n",
    "df['day'] = df['Date'].dt.day\n",
    "df['day_name'] = df['Date'].dt.day_name()\n",
    "df['weekofyear'] = df['Date'].dt.weekofyear\n",
    "df['is_quarter_end'] = df['Date'].dt.is_quarter_end\n",
    "df['is_quarter_start'] = df['Date'].dt.is_quarter_start\n",
    "df['quarter'] = df['Date'].dt.quarter\n",
    "df['avg'] = round((df['High'] + df['Low']) / 2, 2) # $\\frac{high + low}{2}$\n",
    "\n",
    "# df = df.set_index('Date')"
   ]
  },
  {
   "cell_type": "code",
   "execution_count": 166,
   "metadata": {},
   "outputs": [],
   "source": [
    "LIMIT = 2000000 # £20,000 per year\n",
    "FEE = 995\n",
    "\n",
    "\n",
    "# From 1999 to 2019, the average inflation was 2.7%\n",
    "# https://www.bankofengland.co.uk/monetary-policy/inflation/inflation-calculator\n",
    "INFLATION = 2.8\n",
    "\n",
    "\n",
    "jan_2020_mean_price = df.loc[(df['year'] == 2020) & (df['month'] == 'January'), 'avg'].mean()"
   ]
  },
  {
   "cell_type": "markdown",
   "metadata": {},
   "source": [
    "## Utility functions"
   ]
  },
  {
   "cell_type": "code",
   "execution_count": 167,
   "metadata": {},
   "outputs": [],
   "source": [
    "def get_stats(strategy_df):\n",
    "    tmp = strategy_df.copy()\n",
    "    \n",
    "    total_shares = tmp['shares'].sum()\n",
    "    amount_invested = int((LIMIT * tmp.shape[0])/100)\n",
    "\n",
    "    value = int((total_shares * jan_2020_mean_price)/100)\n",
    "    profit = value - amount_invested\n",
    "    value_increase = round((profit/amount_invested)*100, 2)\n",
    "\n",
    "    print('Total no. of Shares:', int(total_shares))\n",
    "    print('Amount invested: £{:,}'.format(amount_invested))\n",
    "    print('Total value of Shares in Jan 2020: £{:,}'.format(value))\n",
    "    print('Total profit in {} years: £{:,}'.format(tmp.shape[0], profit))\n",
    "    print('Total value increased: {}%'.format(value_increase))"
   ]
  },
  {
   "cell_type": "markdown",
   "metadata": {},
   "source": [
    "## Strategy 1 (Benchmark) - Pound Cost Averaging, first monday of every month\n",
    "- This serves as the benchmark"
   ]
  },
  {
   "cell_type": "code",
   "execution_count": 168,
   "metadata": {},
   "outputs": [],
   "source": [
    "monthly_limit = (LIMIT/12) - FEE\n",
    "\n",
    "strategy_1 = (\n",
    "        monthly_limit/(df\n",
    "            .loc[\n",
    "                df['Date'].isin(\n",
    "                    df\n",
    "                    .loc[(df['day_name'] == 'Monday') & (df['year'] >= 2001) & (df['year'] <= 2019), ['Date', 'year', 'month']]\n",
    "                    .groupby(['year', 'month'])\n",
    "                    .agg({'Date': min})\n",
    "                    .reset_index()\n",
    "                    .loc[:, 'Date']\n",
    "                    .to_list()\n",
    "                    ), \n",
    "                ['Date', 'avg']\n",
    "            ]\n",
    "        )    \n",
    "        .set_index('Date')\n",
    "    )\n",
    "\n",
    "strategy_1 = strategy_1.reset_index()\n",
    "strategy_1 = strategy_1.groupby(strategy_1['Date'].dt.year).sum().rename(columns={'avg': 'shares'})\n"
   ]
  },
  {
   "cell_type": "code",
   "execution_count": 169,
   "metadata": {},
   "outputs": [
    {
     "data": {
      "text/html": [
       "<div>\n",
       "<style scoped>\n",
       "    .dataframe tbody tr th:only-of-type {\n",
       "        vertical-align: middle;\n",
       "    }\n",
       "\n",
       "    .dataframe tbody tr th {\n",
       "        vertical-align: top;\n",
       "    }\n",
       "\n",
       "    .dataframe thead th {\n",
       "        text-align: right;\n",
       "    }\n",
       "</style>\n",
       "<table border=\"1\" class=\"dataframe\">\n",
       "  <thead>\n",
       "    <tr style=\"text-align: right;\">\n",
       "      <th></th>\n",
       "      <th>shares</th>\n",
       "    </tr>\n",
       "    <tr>\n",
       "      <th>Date</th>\n",
       "      <th></th>\n",
       "    </tr>\n",
       "  </thead>\n",
       "  <tbody>\n",
       "    <tr>\n",
       "      <th>2015</th>\n",
       "      <td>3016.652342</td>\n",
       "    </tr>\n",
       "    <tr>\n",
       "      <th>2016</th>\n",
       "      <td>3104.066541</td>\n",
       "    </tr>\n",
       "    <tr>\n",
       "      <th>2017</th>\n",
       "      <td>2718.113402</td>\n",
       "    </tr>\n",
       "    <tr>\n",
       "      <th>2018</th>\n",
       "      <td>2698.566427</td>\n",
       "    </tr>\n",
       "    <tr>\n",
       "      <th>2019</th>\n",
       "      <td>2783.042830</td>\n",
       "    </tr>\n",
       "  </tbody>\n",
       "</table>\n",
       "</div>"
      ],
      "text/plain": [
       "           shares\n",
       "Date             \n",
       "2015  3016.652342\n",
       "2016  3104.066541\n",
       "2017  2718.113402\n",
       "2018  2698.566427\n",
       "2019  2783.042830"
      ]
     },
     "execution_count": 169,
     "metadata": {},
     "output_type": "execute_result"
    }
   ],
   "source": [
    "strategy_1.tail()"
   ]
  },
  {
   "cell_type": "markdown",
   "metadata": {},
   "source": [
    "### Strategy Performance"
   ]
  },
  {
   "cell_type": "code",
   "execution_count": 170,
   "metadata": {},
   "outputs": [
    {
     "name": "stdout",
     "output_type": "stream",
     "text": [
      "Total no. of Shares: 66457\n",
      "Amount invested: £380,000\n",
      "Total value of Shares in Jan 2020: £495,486\n",
      "Total profit in 19 years: £115,486\n",
      "Total value increased: 30.39%\n"
     ]
    }
   ],
   "source": [
    "get_stats(strategy_1)"
   ]
  },
  {
   "cell_type": "markdown",
   "metadata": {},
   "source": [
    "## Theoritcal Perfect Strategy (Upper Limit) - Buy at the lowest price every quarter\n",
    "This serves as an upper limit of how many shares it is possible to buy if we bought at the lower price every quarter."
   ]
  },
  {
   "cell_type": "code",
   "execution_count": 171,
   "metadata": {},
   "outputs": [],
   "source": [
    "quarterly_limit = (LIMIT/4) - FEE\n",
    "\n",
    "upper_limit = (    \n",
    "        (\n",
    "            quarterly_limit/(df\n",
    "                .loc[(df['year'] >= 2001) & (df['year'] <= 2019)]\n",
    "                .groupby(['year', 'quarter'])\n",
    "                .agg({'Low': min})\n",
    "                .reset_index()\n",
    "                .set_index('year')\n",
    "                .loc[:, ['Low']]\n",
    "            )\n",
    "        )\n",
    "        .reset_index()\n",
    "        .rename(columns={'Low': 'shares'})\n",
    "        .groupby('year')\n",
    "        .agg({'shares': 'sum'})\n",
    ")\n"
   ]
  },
  {
   "cell_type": "code",
   "execution_count": 172,
   "metadata": {},
   "outputs": [
    {
     "data": {
      "text/html": [
       "<div>\n",
       "<style scoped>\n",
       "    .dataframe tbody tr th:only-of-type {\n",
       "        vertical-align: middle;\n",
       "    }\n",
       "\n",
       "    .dataframe tbody tr th {\n",
       "        vertical-align: top;\n",
       "    }\n",
       "\n",
       "    .dataframe thead th {\n",
       "        text-align: right;\n",
       "    }\n",
       "</style>\n",
       "<table border=\"1\" class=\"dataframe\">\n",
       "  <thead>\n",
       "    <tr style=\"text-align: right;\">\n",
       "      <th></th>\n",
       "      <th>shares</th>\n",
       "    </tr>\n",
       "    <tr>\n",
       "      <th>year</th>\n",
       "      <th></th>\n",
       "    </tr>\n",
       "  </thead>\n",
       "  <tbody>\n",
       "    <tr>\n",
       "      <th>2017</th>\n",
       "      <td>2813.301685</td>\n",
       "    </tr>\n",
       "    <tr>\n",
       "      <th>2018</th>\n",
       "      <td>2924.115972</td>\n",
       "    </tr>\n",
       "    <tr>\n",
       "      <th>2019</th>\n",
       "      <td>2905.515526</td>\n",
       "    </tr>\n",
       "  </tbody>\n",
       "</table>\n",
       "</div>"
      ],
      "text/plain": [
       "           shares\n",
       "year             \n",
       "2017  2813.301685\n",
       "2018  2924.115972\n",
       "2019  2905.515526"
      ]
     },
     "execution_count": 172,
     "metadata": {},
     "output_type": "execute_result"
    }
   ],
   "source": [
    "upper_limit.tail(3)"
   ]
  },
  {
   "cell_type": "code",
   "execution_count": 173,
   "metadata": {},
   "outputs": [
    {
     "name": "stdout",
     "output_type": "stream",
     "text": [
      "Total no. of Shares: 72195\n",
      "Amount invested: £380,000\n",
      "Total value of Shares in Jan 2020: £538,267\n",
      "Total profit in 19 years: £158,267\n",
      "Total value increased: 41.65%\n"
     ]
    }
   ],
   "source": [
    "get_stats(upper_limit)"
   ]
  },
  {
   "cell_type": "markdown",
   "metadata": {},
   "source": [
    "## Theoritcal Worst Strategy (Lower Limit) - Buy at the highest price every quarter\n",
    "This serves as an lower limit of how many shares can be bought if bought at the highest price every quarter."
   ]
  },
  {
   "cell_type": "code",
   "execution_count": 174,
   "metadata": {},
   "outputs": [],
   "source": [
    "quarterly_limit = (LIMIT/4) - FEE\n",
    "\n",
    "lower_limit = (    \n",
    "        (\n",
    "            quarterly_limit/(df\n",
    "                .loc[(df['year'] >= 2001) & (df['year'] <= 2019)]\n",
    "                .groupby(['year', 'quarter'])\n",
    "                .agg({'High': max})\n",
    "                .reset_index()\n",
    "                .set_index('year')\n",
    "                .loc[:, ['High']]\n",
    "            )\n",
    "        )\n",
    "        .reset_index()\n",
    "        .rename(columns={'High': 'shares'})\n",
    "        .groupby('year')\n",
    "        .agg({'shares': 'sum'})\n",
    ")"
   ]
  },
  {
   "cell_type": "code",
   "execution_count": 175,
   "metadata": {},
   "outputs": [
    {
     "data": {
      "text/html": [
       "<div>\n",
       "<style scoped>\n",
       "    .dataframe tbody tr th:only-of-type {\n",
       "        vertical-align: middle;\n",
       "    }\n",
       "\n",
       "    .dataframe tbody tr th {\n",
       "        vertical-align: top;\n",
       "    }\n",
       "\n",
       "    .dataframe thead th {\n",
       "        text-align: right;\n",
       "    }\n",
       "</style>\n",
       "<table border=\"1\" class=\"dataframe\">\n",
       "  <thead>\n",
       "    <tr style=\"text-align: right;\">\n",
       "      <th></th>\n",
       "      <th>shares</th>\n",
       "    </tr>\n",
       "    <tr>\n",
       "      <th>year</th>\n",
       "      <th></th>\n",
       "    </tr>\n",
       "  </thead>\n",
       "  <tbody>\n",
       "    <tr>\n",
       "      <th>2017</th>\n",
       "      <td>2656.761892</td>\n",
       "    </tr>\n",
       "    <tr>\n",
       "      <th>2018</th>\n",
       "      <td>2600.432537</td>\n",
       "    </tr>\n",
       "    <tr>\n",
       "      <th>2019</th>\n",
       "      <td>2667.975212</td>\n",
       "    </tr>\n",
       "  </tbody>\n",
       "</table>\n",
       "</div>"
      ],
      "text/plain": [
       "           shares\n",
       "year             \n",
       "2017  2656.761892\n",
       "2018  2600.432537\n",
       "2019  2667.975212"
      ]
     },
     "execution_count": 175,
     "metadata": {},
     "output_type": "execute_result"
    }
   ],
   "source": [
    "lower_limit.tail(3)"
   ]
  },
  {
   "cell_type": "code",
   "execution_count": 176,
   "metadata": {},
   "outputs": [
    {
     "name": "stdout",
     "output_type": "stream",
     "text": [
      "Total no. of Shares: 63288\n",
      "Amount invested: £380,000\n",
      "Total value of Shares in Jan 2020: £471,859\n",
      "Total profit in 19 years: £91,859\n",
      "Total value increased: 24.17%\n"
     ]
    }
   ],
   "source": [
    "get_stats(lower_limit)"
   ]
  },
  {
   "cell_type": "markdown",
   "metadata": {},
   "source": [
    "## Strategies Performance Plots"
   ]
  },
  {
   "cell_type": "code",
   "execution_count": 177,
   "metadata": {},
   "outputs": [
    {
     "data": {
      "text/html": [
       "<div>\n",
       "<style scoped>\n",
       "    .dataframe tbody tr th:only-of-type {\n",
       "        vertical-align: middle;\n",
       "    }\n",
       "\n",
       "    .dataframe tbody tr th {\n",
       "        vertical-align: top;\n",
       "    }\n",
       "\n",
       "    .dataframe thead th {\n",
       "        text-align: right;\n",
       "    }\n",
       "</style>\n",
       "<table border=\"1\" class=\"dataframe\">\n",
       "  <thead>\n",
       "    <tr style=\"text-align: right;\">\n",
       "      <th></th>\n",
       "      <th>strategy_1</th>\n",
       "      <th>upper_limit</th>\n",
       "      <th>lower_limit</th>\n",
       "    </tr>\n",
       "  </thead>\n",
       "  <tbody>\n",
       "    <tr>\n",
       "      <th>2017-12-31</th>\n",
       "      <td>2718.113402</td>\n",
       "      <td>2813.301685</td>\n",
       "      <td>2656.761892</td>\n",
       "    </tr>\n",
       "    <tr>\n",
       "      <th>2018-12-31</th>\n",
       "      <td>2698.566427</td>\n",
       "      <td>2924.115972</td>\n",
       "      <td>2600.432537</td>\n",
       "    </tr>\n",
       "    <tr>\n",
       "      <th>2019-12-31</th>\n",
       "      <td>2783.042830</td>\n",
       "      <td>2905.515526</td>\n",
       "      <td>2667.975212</td>\n",
       "    </tr>\n",
       "  </tbody>\n",
       "</table>\n",
       "</div>"
      ],
      "text/plain": [
       "             strategy_1  upper_limit  lower_limit\n",
       "2017-12-31  2718.113402  2813.301685  2656.761892\n",
       "2018-12-31  2698.566427  2924.115972  2600.432537\n",
       "2019-12-31  2783.042830  2905.515526  2667.975212"
      ]
     },
     "execution_count": 177,
     "metadata": {},
     "output_type": "execute_result"
    }
   ],
   "source": [
    "result = pd.DataFrame(index=pd.date_range(start='2001-12-31', end='2019-12-31', freq='Y'))\n",
    "\n",
    "result['strategy_1'] = strategy_1['shares'].to_list()\n",
    "result['upper_limit'] = upper_limit['shares'].to_list()\n",
    "result['lower_limit'] = lower_limit['shares'].to_list()\n",
    "\n",
    "result.tail(3)"
   ]
  },
  {
   "cell_type": "markdown",
   "metadata": {},
   "source": [
    "## No. of shares by year"
   ]
  },
  {
   "cell_type": "code",
   "execution_count": 178,
   "metadata": {},
   "outputs": [
    {
     "data": {
      "text/html": [
       "<iframe\n",
       "    scrolling=\"no\"\n",
       "    width=\"100%\"\n",
       "    height=\"545px\"\n",
       "    src=\"iframe_figures/figure_178.html\"\n",
       "    frameborder=\"0\"\n",
       "    allowfullscreen\n",
       "></iframe>\n"
      ]
     },
     "metadata": {},
     "output_type": "display_data"
    }
   ],
   "source": [
    "fig = go.Figure()\n",
    "\n",
    "fig.add_trace(go.Scatter(\n",
    "                x=result.index,\n",
    "                y=result['strategy_1'],\n",
    "                name=\"Strategy 1\",\n",
    "                line_color='grey',\n",
    "                opacity=0.8)\n",
    "             )\n",
    "\n",
    "fig.add_trace(go.Scatter(\n",
    "                x=result.index,\n",
    "                y=result['upper_limit'],\n",
    "                name=\"Upper Limit\",\n",
    "                line_color='deepskyblue',\n",
    "                opacity=0.8)\n",
    "             )\n",
    "\n",
    "fig.add_trace(go.Scatter(\n",
    "                x=result.index,\n",
    "                y=result['lower_limit'],\n",
    "                name=\"Lower Limit\",\n",
    "                line_color='red',\n",
    "                opacity=0.8)\n",
    "             )\n",
    "\n",
    "\n",
    "# Use date string to set xaxis range\n",
    "fig.update_layout(\n",
    "    title_text=\"No. of Shares purchased by year\",\n",
    "    # xaxis_range=['2016-07-01','2016-12-31'],\n",
    ")\n",
    "\n",
    "\n",
    "fig.show()"
   ]
  },
  {
   "cell_type": "markdown",
   "metadata": {},
   "source": [
    "## Cumulative No. of Shares"
   ]
  },
  {
   "cell_type": "code",
   "execution_count": 179,
   "metadata": {},
   "outputs": [
    {
     "data": {
      "text/html": [
       "<iframe\n",
       "    scrolling=\"no\"\n",
       "    width=\"100%\"\n",
       "    height=\"545px\"\n",
       "    src=\"iframe_figures/figure_179.html\"\n",
       "    frameborder=\"0\"\n",
       "    allowfullscreen\n",
       "></iframe>\n"
      ]
     },
     "metadata": {},
     "output_type": "display_data"
    }
   ],
   "source": [
    "fig = go.Figure()\n",
    "\n",
    "fig.add_trace(go.Scatter(\n",
    "                x=result.index,\n",
    "                y=result['strategy_1'].cumsum(),\n",
    "                name=\"Strategy 1\",\n",
    "                line_color='grey',\n",
    "                opacity=0.8)\n",
    "             )\n",
    "\n",
    "fig.add_trace(go.Scatter(\n",
    "                x=result.index,\n",
    "                y=result['upper_limit'].cumsum(),\n",
    "                name=\"Upper Limit\",\n",
    "                line_color='deepskyblue',\n",
    "                opacity=0.8)\n",
    "             )\n",
    "\n",
    "fig.add_trace(go.Scatter(\n",
    "                x=result.index,\n",
    "                y=result['lower_limit'].cumsum(),\n",
    "                name=\"Lower Limit\",\n",
    "                line_color='red',\n",
    "                opacity=0.8)\n",
    "             )\n",
    "\n",
    "# Use date string to set xaxis range\n",
    "fig.update_layout(\n",
    "    title_text=\"Total no. of Shares by year\",\n",
    "#     xaxis_range=['2016-07-01','2016-12-31'],\n",
    ")\n",
    "\n",
    "\n",
    "fig.show()"
   ]
  },
  {
   "cell_type": "code",
   "execution_count": null,
   "metadata": {},
   "outputs": [],
   "source": []
  },
  {
   "cell_type": "code",
   "execution_count": null,
   "metadata": {},
   "outputs": [],
   "source": []
  },
  {
   "cell_type": "code",
   "execution_count": null,
   "metadata": {},
   "outputs": [],
   "source": []
  },
  {
   "cell_type": "code",
   "execution_count": null,
   "metadata": {},
   "outputs": [],
   "source": []
  },
  {
   "cell_type": "code",
   "execution_count": null,
   "metadata": {},
   "outputs": [],
   "source": []
  },
  {
   "cell_type": "code",
   "execution_count": null,
   "metadata": {},
   "outputs": [],
   "source": []
  }
 ],
 "metadata": {
  "kernelspec": {
   "display_name": "Python 3",
   "language": "python",
   "name": "python3"
  },
  "language_info": {
   "codemirror_mode": {
    "name": "ipython",
    "version": 3
   },
   "file_extension": ".py",
   "mimetype": "text/x-python",
   "name": "python",
   "nbconvert_exporter": "python",
   "pygments_lexer": "ipython3",
   "version": "3.7.4"
  }
 },
 "nbformat": 4,
 "nbformat_minor": 4
}
