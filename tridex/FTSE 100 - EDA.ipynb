{
 "cells": [
  {
   "cell_type": "markdown",
   "metadata": {},
   "source": [
    "# Investment Strategy\n",
    "Investing into Indexes is a lower risk investment strategy than indivually picking out stocks. The benchmark to beat market returns is hard and many active funds make worse than average returns.\n",
    "\n",
    "Instead of speculating the market and trying to pick out invidual stocks, it might be better to invest into an index fund and get the average market return. However, instead of setting up a regular payment to invest into a fund, what if we could take advantage of price movements to invest into indexes.\n",
    "\n",
    "Index tracking ETFs allow investors to place limit orders hence making it possible to take advantage of markets ups and downs to invest. We need a strategy to take advantage of price swings of indexes.\n",
    "\n",
    "\n",
    "### Quest to find an optimum strategy to invest £25,000 a year into index tracking ETFs\n",
    "\n",
    "Stocks and Shares ISA account allows £20,000 and \n",
    "Lifetime ISA allows £4,000 (+£1,000 government bonus) to be invested annually\n",
    "tax free. This gives us a total of £25,000 to be invested tax free.\n",
    "\n",
    "The goal is to get better return than **pound cost averaging** strategy. If the strategy works then it should be extended to other indexes like FTSE 250, S&P 500 etc. to diversify the portfolio.\n",
    "\n",
    "\n",
    "### Benchmark:\n",
    "Our benchmark is total return of FTSE 100 tracking fund which invests regularly on the 10th of every month.\n",
    "\n",
    "\n",
    "### The main challenge\n",
    "The hard part of this strategy is to beat the benchmark despite the higher dealing charges and fees of trading ETFs. Low cost index fund for FTSE 100 have an ongoing annual charge of 0.06% with £1.50 cost to buy or sell. On the other hand, investing into ETF's cost £9.95 (AJBell) to buy, as well as an ongoing annual charge of 0.07%. The investment strategy must give slightly better return to cover the dealing cost, otherwise we might do worse than the market.\n",
    "\n",
    "\n",
    "#### Summary\n",
    "\n",
    "- Invest £1,500 to £4,500 per trade.\n",
    "- Invest 4-12 throughout the year.\n",
    "- Try to invest before end of each quarter (dividends).\n",
    "- Predict the price movement of FTSE 100 and invest on lows.\n",
    "- Find a strategy to take advantage of daily price movements.\n",
    "- Find a strategy to sell (not urgent as we're investing for mid/long term).\n"
   ]
  },
  {
   "cell_type": "markdown",
   "metadata": {},
   "source": [
    "## FTSE 100 - EDA"
   ]
  },
  {
   "cell_type": "code",
   "execution_count": 1,
   "metadata": {},
   "outputs": [],
   "source": [
    "import pandas as pd\n",
    "import plotly.graph_objects as go\n",
    "\n",
    "import utils"
   ]
  },
  {
   "cell_type": "code",
   "execution_count": 2,
   "metadata": {},
   "outputs": [],
   "source": [
    "BASE_URL = 'https://docs.google.com/spreadsheets/d/10cihRP6XxJOSrWsASfW5C7VeHufD32TS0JKCXLoWhL8/export?format=csv&{}'\n",
    "\n",
    "UKX_sheet = BASE_URL.format('gid=134530274')\n",
    "\n",
    "ISF_sheet = BASE_URL.format('gid=1374752918')\n"
   ]
  },
  {
   "cell_type": "markdown",
   "metadata": {},
   "source": [
    "### Read data and add new columns"
   ]
  },
  {
   "cell_type": "code",
   "execution_count": 27,
   "metadata": {},
   "outputs": [],
   "source": [
    "# Read data\n",
    "df = pd.read_csv(ISF_sheet)\n",
    "\n",
    "# Rename columns\n",
    "df = df.rename(columns={'Unnamed: 1': 'Open'})\n",
    "\n",
    "# Convert to datetime\n",
    "df['Date'] = pd.to_datetime(df['Date'].str[:10], format=\"%d/%m/%Y\")\n",
    "\n",
    "# Get datetime related fields\n",
    "df['month'] = df['Date'].dt.month_name()\n",
    "df['year'] = df['Date'].dt.year\n",
    "df['dat_name'] = df['Date'].dt.day_name()\n",
    "df['weekofyear'] = df['Date'].dt.weekofyear\n",
    "df['is_quarter_end'] = df['Date'].dt.is_quarter_end\n",
    "df['is_quarter_start'] = df['Date'].dt.is_quarter_start\n",
    "df['quarter'] = df['Date'].dt.quarter\n",
    "df['avg'] = round((df['High'] + df['Low']) / 2, 2) # $\\frac{high + low}{2}$"
   ]
  },
  {
   "cell_type": "code",
   "execution_count": 28,
   "metadata": {},
   "outputs": [
    {
     "data": {
      "text/html": [
       "<div>\n",
       "<style scoped>\n",
       "    .dataframe tbody tr th:only-of-type {\n",
       "        vertical-align: middle;\n",
       "    }\n",
       "\n",
       "    .dataframe tbody tr th {\n",
       "        vertical-align: top;\n",
       "    }\n",
       "\n",
       "    .dataframe thead th {\n",
       "        text-align: right;\n",
       "    }\n",
       "</style>\n",
       "<table border=\"1\" class=\"dataframe\">\n",
       "  <thead>\n",
       "    <tr style=\"text-align: right;\">\n",
       "      <th></th>\n",
       "      <th>Date</th>\n",
       "      <th>Open</th>\n",
       "      <th>High</th>\n",
       "      <th>Low</th>\n",
       "      <th>Close</th>\n",
       "      <th>Volume</th>\n",
       "      <th>month</th>\n",
       "      <th>year</th>\n",
       "      <th>dat_name</th>\n",
       "      <th>weekofyear</th>\n",
       "      <th>is_quarter_end</th>\n",
       "      <th>is_quarter_start</th>\n",
       "      <th>quarter</th>\n",
       "      <th>avg</th>\n",
       "    </tr>\n",
       "  </thead>\n",
       "  <tbody>\n",
       "    <tr>\n",
       "      <th>0</th>\n",
       "      <td>2000-05-02</td>\n",
       "      <td>641.85</td>\n",
       "      <td>641.85</td>\n",
       "      <td>634.43</td>\n",
       "      <td>636.90</td>\n",
       "      <td>288807</td>\n",
       "      <td>May</td>\n",
       "      <td>2000</td>\n",
       "      <td>Tuesday</td>\n",
       "      <td>18</td>\n",
       "      <td>False</td>\n",
       "      <td>False</td>\n",
       "      <td>2</td>\n",
       "      <td>638.14</td>\n",
       "    </tr>\n",
       "    <tr>\n",
       "      <th>1</th>\n",
       "      <td>2000-05-03</td>\n",
       "      <td>630.72</td>\n",
       "      <td>630.72</td>\n",
       "      <td>620.21</td>\n",
       "      <td>620.21</td>\n",
       "      <td>291088</td>\n",
       "      <td>May</td>\n",
       "      <td>2000</td>\n",
       "      <td>Wednesday</td>\n",
       "      <td>18</td>\n",
       "      <td>False</td>\n",
       "      <td>False</td>\n",
       "      <td>2</td>\n",
       "      <td>625.46</td>\n",
       "    </tr>\n",
       "  </tbody>\n",
       "</table>\n",
       "</div>"
      ],
      "text/plain": [
       "        Date    Open    High     Low   Close  Volume month  year   dat_name  \\\n",
       "0 2000-05-02  641.85  641.85  634.43  636.90  288807   May  2000    Tuesday   \n",
       "1 2000-05-03  630.72  630.72  620.21  620.21  291088   May  2000  Wednesday   \n",
       "\n",
       "   weekofyear  is_quarter_end  is_quarter_start  quarter     avg  \n",
       "0          18           False             False        2  638.14  \n",
       "1          18           False             False        2  625.46  "
      ]
     },
     "execution_count": 28,
     "metadata": {},
     "output_type": "execute_result"
    }
   ],
   "source": [
    "df.head(2)"
   ]
  },
  {
   "cell_type": "markdown",
   "metadata": {},
   "source": [
    "### Highest, Lowest and Average Price by Quarter"
   ]
  },
  {
   "cell_type": "code",
   "execution_count": 31,
   "metadata": {},
   "outputs": [
    {
     "data": {
      "text/html": [
       "<div>\n",
       "<style scoped>\n",
       "    .dataframe tbody tr th:only-of-type {\n",
       "        vertical-align: middle;\n",
       "    }\n",
       "\n",
       "    .dataframe tbody tr th {\n",
       "        vertical-align: top;\n",
       "    }\n",
       "\n",
       "    .dataframe thead th {\n",
       "        text-align: right;\n",
       "    }\n",
       "</style>\n",
       "<table border=\"1\" class=\"dataframe\">\n",
       "  <thead>\n",
       "    <tr style=\"text-align: right;\">\n",
       "      <th></th>\n",
       "      <th>year</th>\n",
       "      <th>quarter</th>\n",
       "      <th>Low</th>\n",
       "      <th>avg</th>\n",
       "      <th>High</th>\n",
       "      <th>date</th>\n",
       "    </tr>\n",
       "  </thead>\n",
       "  <tbody>\n",
       "    <tr>\n",
       "      <th>0</th>\n",
       "      <td>2000</td>\n",
       "      <td>2</td>\n",
       "      <td>601.65</td>\n",
       "      <td>635.445581</td>\n",
       "      <td>665.34</td>\n",
       "      <td>2000-06-01</td>\n",
       "    </tr>\n",
       "    <tr>\n",
       "      <th>1</th>\n",
       "      <td>2000</td>\n",
       "      <td>3</td>\n",
       "      <td>603.82</td>\n",
       "      <td>648.619365</td>\n",
       "      <td>685.75</td>\n",
       "      <td>2000-09-01</td>\n",
       "    </tr>\n",
       "    <tr>\n",
       "      <th>2</th>\n",
       "      <td>2000</td>\n",
       "      <td>4</td>\n",
       "      <td>608.15</td>\n",
       "      <td>633.060317</td>\n",
       "      <td>654.21</td>\n",
       "      <td>2000-12-01</td>\n",
       "    </tr>\n",
       "  </tbody>\n",
       "</table>\n",
       "</div>"
      ],
      "text/plain": [
       "   year  quarter     Low         avg    High       date\n",
       "0  2000        2  601.65  635.445581  665.34 2000-06-01\n",
       "1  2000        3  603.82  648.619365  685.75 2000-09-01\n",
       "2  2000        4  608.15  633.060317  654.21 2000-12-01"
      ]
     },
     "execution_count": 31,
     "metadata": {},
     "output_type": "execute_result"
    }
   ],
   "source": [
    "price_type = 'Low'\n",
    "tmp = (\n",
    "    df[['Low', 'avg', 'High', 'year', 'quarter']]\n",
    "    .groupby(['year', 'quarter'])\n",
    "    .agg({'Low': 'min', 'avg': 'mean', 'High': 'max'})\n",
    "    .reset_index()\n",
    ")\n",
    "\n",
    "tmp['date'] = pd.to_datetime(tmp['year'].astype(str) + '-' + (tmp['quarter']*3).astype(str) + '-01')\n",
    "\n",
    "tmp.head(3)"
   ]
  },
  {
   "cell_type": "code",
   "execution_count": 41,
   "metadata": {},
   "outputs": [
    {
     "data": {
      "application/vnd.plotly.v1+json": {
       "config": {
        "plotlyServerURL": "https://plot.ly"
       },
       "data": [
        {
         "line": {
          "color": "red"
         },
         "name": "High",
         "opacity": 0.8,
         "type": "scatter",
         "x": [
          "2000-06-01T00:00:00",
          "2000-09-01T00:00:00",
          "2000-12-01T00:00:00",
          "2001-03-01T00:00:00",
          "2001-06-01T00:00:00",
          "2001-09-01T00:00:00",
          "2001-12-01T00:00:00",
          "2002-03-01T00:00:00",
          "2002-06-01T00:00:00",
          "2002-09-01T00:00:00",
          "2002-12-01T00:00:00",
          "2003-03-01T00:00:00",
          "2003-06-01T00:00:00",
          "2003-09-01T00:00:00",
          "2003-12-01T00:00:00",
          "2004-03-01T00:00:00",
          "2004-06-01T00:00:00",
          "2004-09-01T00:00:00",
          "2004-12-01T00:00:00",
          "2005-03-01T00:00:00",
          "2005-06-01T00:00:00",
          "2005-09-01T00:00:00",
          "2005-12-01T00:00:00",
          "2006-03-01T00:00:00",
          "2006-06-01T00:00:00",
          "2006-09-01T00:00:00",
          "2006-12-01T00:00:00",
          "2007-03-01T00:00:00",
          "2007-06-01T00:00:00",
          "2007-09-01T00:00:00",
          "2007-12-01T00:00:00",
          "2008-03-01T00:00:00",
          "2008-06-01T00:00:00",
          "2008-09-01T00:00:00",
          "2008-12-01T00:00:00",
          "2009-03-01T00:00:00",
          "2009-06-01T00:00:00",
          "2009-09-01T00:00:00",
          "2009-12-01T00:00:00",
          "2010-03-01T00:00:00",
          "2010-06-01T00:00:00",
          "2010-09-01T00:00:00",
          "2010-12-01T00:00:00",
          "2011-03-01T00:00:00",
          "2011-06-01T00:00:00",
          "2011-09-01T00:00:00",
          "2011-12-01T00:00:00",
          "2012-03-01T00:00:00",
          "2012-06-01T00:00:00",
          "2012-09-01T00:00:00",
          "2012-12-01T00:00:00",
          "2013-03-01T00:00:00",
          "2013-06-01T00:00:00",
          "2013-09-01T00:00:00",
          "2013-12-01T00:00:00",
          "2014-03-01T00:00:00",
          "2014-06-01T00:00:00",
          "2014-09-01T00:00:00",
          "2014-12-01T00:00:00",
          "2015-03-01T00:00:00",
          "2015-06-01T00:00:00",
          "2015-09-01T00:00:00",
          "2015-12-01T00:00:00",
          "2016-03-01T00:00:00",
          "2016-06-01T00:00:00",
          "2016-09-01T00:00:00",
          "2016-12-01T00:00:00",
          "2017-03-01T00:00:00",
          "2017-06-01T00:00:00",
          "2017-09-01T00:00:00",
          "2017-12-01T00:00:00",
          "2018-03-01T00:00:00",
          "2018-06-01T00:00:00",
          "2018-09-01T00:00:00",
          "2018-12-01T00:00:00",
          "2019-03-01T00:00:00",
          "2019-06-01T00:00:00",
          "2019-09-01T00:00:00",
          "2019-12-01T00:00:00",
          "2020-03-01T00:00:00"
         ],
         "y": [
          665.34,
          685.75,
          654.21,
          638.14,
          609.07,
          576.3,
          546,
          542,
          538.75,
          472.07,
          437.5,
          437.5,
          437.5,
          450,
          452.75,
          467,
          472.55,
          467,
          484.15,
          510.42,
          517.25,
          553,
          577.5,
          611,
          622,
          602,
          629.25,
          645.75,
          677.75,
          677.5,
          678.5,
          654.25,
          645,
          566.75,
          507,
          470,
          455,
          519.6,
          544.4,
          576,
          586.8,
          563.9,
          601,
          614,
          613.12,
          608.22,
          600,
          599.3,
          589.92,
          592.94,
          598.51,
          651.5,
          691.7,
          669.7,
          680.5,
          687.8,
          692.26,
          687.6,
          681.6,
          704.5,
          713,
          680.4,
          649.2,
          619.38,
          643,
          692.3,
          705.2,
          736.7,
          759,
          748.7,
          761.3,
          768.2,
          788.9,
          771.6,
          743,
          728.1,
          745.9,
          762.9,
          756.6,
          758.1
         ]
        },
        {
         "line": {
          "color": "deepskyblue"
         },
         "name": "Avg",
         "opacity": 0.8,
         "type": "scatter",
         "x": [
          "2000-06-01T00:00:00",
          "2000-09-01T00:00:00",
          "2000-12-01T00:00:00",
          "2001-03-01T00:00:00",
          "2001-06-01T00:00:00",
          "2001-09-01T00:00:00",
          "2001-12-01T00:00:00",
          "2002-03-01T00:00:00",
          "2002-06-01T00:00:00",
          "2002-09-01T00:00:00",
          "2002-12-01T00:00:00",
          "2003-03-01T00:00:00",
          "2003-06-01T00:00:00",
          "2003-09-01T00:00:00",
          "2003-12-01T00:00:00",
          "2004-03-01T00:00:00",
          "2004-06-01T00:00:00",
          "2004-09-01T00:00:00",
          "2004-12-01T00:00:00",
          "2005-03-01T00:00:00",
          "2005-06-01T00:00:00",
          "2005-09-01T00:00:00",
          "2005-12-01T00:00:00",
          "2006-03-01T00:00:00",
          "2006-06-01T00:00:00",
          "2006-09-01T00:00:00",
          "2006-12-01T00:00:00",
          "2007-03-01T00:00:00",
          "2007-06-01T00:00:00",
          "2007-09-01T00:00:00",
          "2007-12-01T00:00:00",
          "2008-03-01T00:00:00",
          "2008-06-01T00:00:00",
          "2008-09-01T00:00:00",
          "2008-12-01T00:00:00",
          "2009-03-01T00:00:00",
          "2009-06-01T00:00:00",
          "2009-09-01T00:00:00",
          "2009-12-01T00:00:00",
          "2010-03-01T00:00:00",
          "2010-06-01T00:00:00",
          "2010-09-01T00:00:00",
          "2010-12-01T00:00:00",
          "2011-03-01T00:00:00",
          "2011-06-01T00:00:00",
          "2011-09-01T00:00:00",
          "2011-12-01T00:00:00",
          "2012-03-01T00:00:00",
          "2012-06-01T00:00:00",
          "2012-09-01T00:00:00",
          "2012-12-01T00:00:00",
          "2013-03-01T00:00:00",
          "2013-06-01T00:00:00",
          "2013-09-01T00:00:00",
          "2013-12-01T00:00:00",
          "2014-03-01T00:00:00",
          "2014-06-01T00:00:00",
          "2014-09-01T00:00:00",
          "2014-12-01T00:00:00",
          "2015-03-01T00:00:00",
          "2015-06-01T00:00:00",
          "2015-09-01T00:00:00",
          "2015-12-01T00:00:00",
          "2016-03-01T00:00:00",
          "2016-06-01T00:00:00",
          "2016-09-01T00:00:00",
          "2016-12-01T00:00:00",
          "2017-03-01T00:00:00",
          "2017-06-01T00:00:00",
          "2017-09-01T00:00:00",
          "2017-12-01T00:00:00",
          "2018-03-01T00:00:00",
          "2018-06-01T00:00:00",
          "2018-09-01T00:00:00",
          "2018-12-01T00:00:00",
          "2019-03-01T00:00:00",
          "2019-06-01T00:00:00",
          "2019-09-01T00:00:00",
          "2019-12-01T00:00:00",
          "2020-03-01T00:00:00"
         ],
         "y": [
          635.4455813953489,
          648.6193650793651,
          633.0603174603175,
          605.6253125000001,
          586.3231147540982,
          530.475,
          518.87671875,
          522.0962903225807,
          511.1826229508197,
          418.1513846153847,
          403.86546875000005,
          375.75338709677413,
          405.8468852459018,
          420.8253846153845,
          437.7253125,
          449.00624999999997,
          452.96836065573774,
          446.23032258064524,
          472.435625,
          494.9003278688523,
          500.62571428571414,
          534.5915384615384,
          546.4058730158731,
          586.0376562499998,
          590.6595081967214,
          589.5259375,
          616.6344444444444,
          627.6521875000002,
          656.9672131147538,
          639.8220634920633,
          648.521935483871,
          590.4879032258065,
          602.8553968253967,
          539.3944615384615,
          428.58328125,
          405.38206349206337,
          427.9532786885245,
          472.6915384615384,
          524.5796875000001,
          543.6682539682539,
          539.6868852459016,
          532.3950769230769,
          575.5351562499999,
          593.6690476190477,
          592.1251666666668,
          547.2396875000001,
          541.6546031746032,
          580.8709375000001,
          557.3791666666668,
          574.80140625,
          584.6264062500002,
          627.8730645161289,
          644.7879032258065,
          653.5160000000003,
          658.87828125,
          664.6855555555557,
          675.1381967213115,
          673.4324615384616,
          650.2070312499999,
          674.3539682539682,
          691.8613114754097,
          640.8503076923076,
          626.2778125000001,
          594.0062903225808,
          616.8512698412701,
          670.4201538461537,
          685.7807936507936,
          720.3771875000001,
          734.9129508196721,
          732.0404687499998,
          740.1642857142858,
          728.0438095238095,
          750.5588709677423,
          749.58203125,
          694.5937499999997,
          699.1095238095236,
          729.6368852459015,
          729.802,
          723.74296875,
          681.4743548387097
         ]
        },
        {
         "line": {
          "color": "dimgray"
         },
         "name": "Low",
         "opacity": 0.8,
         "type": "scatter",
         "x": [
          "2000-06-01T00:00:00",
          "2000-09-01T00:00:00",
          "2000-12-01T00:00:00",
          "2001-03-01T00:00:00",
          "2001-06-01T00:00:00",
          "2001-09-01T00:00:00",
          "2001-12-01T00:00:00",
          "2002-03-01T00:00:00",
          "2002-06-01T00:00:00",
          "2002-09-01T00:00:00",
          "2002-12-01T00:00:00",
          "2003-03-01T00:00:00",
          "2003-06-01T00:00:00",
          "2003-09-01T00:00:00",
          "2003-12-01T00:00:00",
          "2004-03-01T00:00:00",
          "2004-06-01T00:00:00",
          "2004-09-01T00:00:00",
          "2004-12-01T00:00:00",
          "2005-03-01T00:00:00",
          "2005-06-01T00:00:00",
          "2005-09-01T00:00:00",
          "2005-12-01T00:00:00",
          "2006-03-01T00:00:00",
          "2006-06-01T00:00:00",
          "2006-09-01T00:00:00",
          "2006-12-01T00:00:00",
          "2007-03-01T00:00:00",
          "2007-06-01T00:00:00",
          "2007-09-01T00:00:00",
          "2007-12-01T00:00:00",
          "2008-03-01T00:00:00",
          "2008-06-01T00:00:00",
          "2008-09-01T00:00:00",
          "2008-12-01T00:00:00",
          "2009-03-01T00:00:00",
          "2009-06-01T00:00:00",
          "2009-09-01T00:00:00",
          "2009-12-01T00:00:00",
          "2010-03-01T00:00:00",
          "2010-06-01T00:00:00",
          "2010-09-01T00:00:00",
          "2010-12-01T00:00:00",
          "2011-03-01T00:00:00",
          "2011-06-01T00:00:00",
          "2011-09-01T00:00:00",
          "2011-12-01T00:00:00",
          "2012-03-01T00:00:00",
          "2012-06-01T00:00:00",
          "2012-09-01T00:00:00",
          "2012-12-01T00:00:00",
          "2013-03-01T00:00:00",
          "2013-06-01T00:00:00",
          "2013-09-01T00:00:00",
          "2013-12-01T00:00:00",
          "2014-03-01T00:00:00",
          "2014-06-01T00:00:00",
          "2014-09-01T00:00:00",
          "2014-12-01T00:00:00",
          "2015-03-01T00:00:00",
          "2015-06-01T00:00:00",
          "2015-09-01T00:00:00",
          "2015-12-01T00:00:00",
          "2016-03-01T00:00:00",
          "2016-06-01T00:00:00",
          "2016-09-01T00:00:00",
          "2016-12-01T00:00:00",
          "2017-03-01T00:00:00",
          "2017-06-01T00:00:00",
          "2017-09-01T00:00:00",
          "2017-12-01T00:00:00",
          "2018-03-01T00:00:00",
          "2018-06-01T00:00:00",
          "2018-09-01T00:00:00",
          "2018-12-01T00:00:00",
          "2019-03-01T00:00:00",
          "2019-06-01T00:00:00",
          "2019-09-01T00:00:00",
          "2019-12-01T00:00:00",
          "2020-03-01T00:00:00"
         ],
         "y": [
          601.65,
          603.82,
          608.15,
          535.65,
          542.76,
          429.13,
          473.47,
          492,
          444,
          350,
          365,
          332.5,
          367.5,
          398.25,
          400,
          422,
          435.5,
          431,
          457.25,
          477.1,
          470,
          505,
          516,
          566,
          549.75,
          568.75,
          591.5,
          599,
          633,
          588.25,
          609.25,
          533,
          550.5,
          466,
          369.75,
          345.75,
          385,
          411,
          496.2,
          504.3,
          492,
          481,
          550.8,
          523.15,
          564.7,
          483.3,
          487.7,
          541,
          522.58,
          545.6,
          564.6,
          594.54,
          602,
          619.1,
          630.4,
          637.1,
          650.09,
          652.46,
          605.3,
          624.2,
          650.7,
          581.2,
          582.42,
          546.11,
          570,
          636,
          660,
          701.1,
          704.1,
          708.92,
          724.3,
          679.9,
          690.7,
          717.6,
          646.1,
          652.2,
          706.7,
          699.83,
          691.85,
          482.25
         ]
        },
        {
         "line": {
          "color": "orange"
         },
         "name": "Invested",
         "opacity": 0.5,
         "type": "scatter",
         "x": [
          "2020-02-25"
         ],
         "y": [
          700,
          600
         ]
        }
       ],
       "layout": {
        "template": {
         "data": {
          "bar": [
           {
            "error_x": {
             "color": "#2a3f5f"
            },
            "error_y": {
             "color": "#2a3f5f"
            },
            "marker": {
             "line": {
              "color": "#E5ECF6",
              "width": 0.5
             }
            },
            "type": "bar"
           }
          ],
          "barpolar": [
           {
            "marker": {
             "line": {
              "color": "#E5ECF6",
              "width": 0.5
             }
            },
            "type": "barpolar"
           }
          ],
          "carpet": [
           {
            "aaxis": {
             "endlinecolor": "#2a3f5f",
             "gridcolor": "white",
             "linecolor": "white",
             "minorgridcolor": "white",
             "startlinecolor": "#2a3f5f"
            },
            "baxis": {
             "endlinecolor": "#2a3f5f",
             "gridcolor": "white",
             "linecolor": "white",
             "minorgridcolor": "white",
             "startlinecolor": "#2a3f5f"
            },
            "type": "carpet"
           }
          ],
          "choropleth": [
           {
            "colorbar": {
             "outlinewidth": 0,
             "ticks": ""
            },
            "type": "choropleth"
           }
          ],
          "contour": [
           {
            "colorbar": {
             "outlinewidth": 0,
             "ticks": ""
            },
            "colorscale": [
             [
              0,
              "#0d0887"
             ],
             [
              0.1111111111111111,
              "#46039f"
             ],
             [
              0.2222222222222222,
              "#7201a8"
             ],
             [
              0.3333333333333333,
              "#9c179e"
             ],
             [
              0.4444444444444444,
              "#bd3786"
             ],
             [
              0.5555555555555556,
              "#d8576b"
             ],
             [
              0.6666666666666666,
              "#ed7953"
             ],
             [
              0.7777777777777778,
              "#fb9f3a"
             ],
             [
              0.8888888888888888,
              "#fdca26"
             ],
             [
              1,
              "#f0f921"
             ]
            ],
            "type": "contour"
           }
          ],
          "contourcarpet": [
           {
            "colorbar": {
             "outlinewidth": 0,
             "ticks": ""
            },
            "type": "contourcarpet"
           }
          ],
          "heatmap": [
           {
            "colorbar": {
             "outlinewidth": 0,
             "ticks": ""
            },
            "colorscale": [
             [
              0,
              "#0d0887"
             ],
             [
              0.1111111111111111,
              "#46039f"
             ],
             [
              0.2222222222222222,
              "#7201a8"
             ],
             [
              0.3333333333333333,
              "#9c179e"
             ],
             [
              0.4444444444444444,
              "#bd3786"
             ],
             [
              0.5555555555555556,
              "#d8576b"
             ],
             [
              0.6666666666666666,
              "#ed7953"
             ],
             [
              0.7777777777777778,
              "#fb9f3a"
             ],
             [
              0.8888888888888888,
              "#fdca26"
             ],
             [
              1,
              "#f0f921"
             ]
            ],
            "type": "heatmap"
           }
          ],
          "heatmapgl": [
           {
            "colorbar": {
             "outlinewidth": 0,
             "ticks": ""
            },
            "colorscale": [
             [
              0,
              "#0d0887"
             ],
             [
              0.1111111111111111,
              "#46039f"
             ],
             [
              0.2222222222222222,
              "#7201a8"
             ],
             [
              0.3333333333333333,
              "#9c179e"
             ],
             [
              0.4444444444444444,
              "#bd3786"
             ],
             [
              0.5555555555555556,
              "#d8576b"
             ],
             [
              0.6666666666666666,
              "#ed7953"
             ],
             [
              0.7777777777777778,
              "#fb9f3a"
             ],
             [
              0.8888888888888888,
              "#fdca26"
             ],
             [
              1,
              "#f0f921"
             ]
            ],
            "type": "heatmapgl"
           }
          ],
          "histogram": [
           {
            "marker": {
             "colorbar": {
              "outlinewidth": 0,
              "ticks": ""
             }
            },
            "type": "histogram"
           }
          ],
          "histogram2d": [
           {
            "colorbar": {
             "outlinewidth": 0,
             "ticks": ""
            },
            "colorscale": [
             [
              0,
              "#0d0887"
             ],
             [
              0.1111111111111111,
              "#46039f"
             ],
             [
              0.2222222222222222,
              "#7201a8"
             ],
             [
              0.3333333333333333,
              "#9c179e"
             ],
             [
              0.4444444444444444,
              "#bd3786"
             ],
             [
              0.5555555555555556,
              "#d8576b"
             ],
             [
              0.6666666666666666,
              "#ed7953"
             ],
             [
              0.7777777777777778,
              "#fb9f3a"
             ],
             [
              0.8888888888888888,
              "#fdca26"
             ],
             [
              1,
              "#f0f921"
             ]
            ],
            "type": "histogram2d"
           }
          ],
          "histogram2dcontour": [
           {
            "colorbar": {
             "outlinewidth": 0,
             "ticks": ""
            },
            "colorscale": [
             [
              0,
              "#0d0887"
             ],
             [
              0.1111111111111111,
              "#46039f"
             ],
             [
              0.2222222222222222,
              "#7201a8"
             ],
             [
              0.3333333333333333,
              "#9c179e"
             ],
             [
              0.4444444444444444,
              "#bd3786"
             ],
             [
              0.5555555555555556,
              "#d8576b"
             ],
             [
              0.6666666666666666,
              "#ed7953"
             ],
             [
              0.7777777777777778,
              "#fb9f3a"
             ],
             [
              0.8888888888888888,
              "#fdca26"
             ],
             [
              1,
              "#f0f921"
             ]
            ],
            "type": "histogram2dcontour"
           }
          ],
          "mesh3d": [
           {
            "colorbar": {
             "outlinewidth": 0,
             "ticks": ""
            },
            "type": "mesh3d"
           }
          ],
          "parcoords": [
           {
            "line": {
             "colorbar": {
              "outlinewidth": 0,
              "ticks": ""
             }
            },
            "type": "parcoords"
           }
          ],
          "pie": [
           {
            "automargin": true,
            "type": "pie"
           }
          ],
          "scatter": [
           {
            "marker": {
             "colorbar": {
              "outlinewidth": 0,
              "ticks": ""
             }
            },
            "type": "scatter"
           }
          ],
          "scatter3d": [
           {
            "line": {
             "colorbar": {
              "outlinewidth": 0,
              "ticks": ""
             }
            },
            "marker": {
             "colorbar": {
              "outlinewidth": 0,
              "ticks": ""
             }
            },
            "type": "scatter3d"
           }
          ],
          "scattercarpet": [
           {
            "marker": {
             "colorbar": {
              "outlinewidth": 0,
              "ticks": ""
             }
            },
            "type": "scattercarpet"
           }
          ],
          "scattergeo": [
           {
            "marker": {
             "colorbar": {
              "outlinewidth": 0,
              "ticks": ""
             }
            },
            "type": "scattergeo"
           }
          ],
          "scattergl": [
           {
            "marker": {
             "colorbar": {
              "outlinewidth": 0,
              "ticks": ""
             }
            },
            "type": "scattergl"
           }
          ],
          "scattermapbox": [
           {
            "marker": {
             "colorbar": {
              "outlinewidth": 0,
              "ticks": ""
             }
            },
            "type": "scattermapbox"
           }
          ],
          "scatterpolar": [
           {
            "marker": {
             "colorbar": {
              "outlinewidth": 0,
              "ticks": ""
             }
            },
            "type": "scatterpolar"
           }
          ],
          "scatterpolargl": [
           {
            "marker": {
             "colorbar": {
              "outlinewidth": 0,
              "ticks": ""
             }
            },
            "type": "scatterpolargl"
           }
          ],
          "scatterternary": [
           {
            "marker": {
             "colorbar": {
              "outlinewidth": 0,
              "ticks": ""
             }
            },
            "type": "scatterternary"
           }
          ],
          "surface": [
           {
            "colorbar": {
             "outlinewidth": 0,
             "ticks": ""
            },
            "colorscale": [
             [
              0,
              "#0d0887"
             ],
             [
              0.1111111111111111,
              "#46039f"
             ],
             [
              0.2222222222222222,
              "#7201a8"
             ],
             [
              0.3333333333333333,
              "#9c179e"
             ],
             [
              0.4444444444444444,
              "#bd3786"
             ],
             [
              0.5555555555555556,
              "#d8576b"
             ],
             [
              0.6666666666666666,
              "#ed7953"
             ],
             [
              0.7777777777777778,
              "#fb9f3a"
             ],
             [
              0.8888888888888888,
              "#fdca26"
             ],
             [
              1,
              "#f0f921"
             ]
            ],
            "type": "surface"
           }
          ],
          "table": [
           {
            "cells": {
             "fill": {
              "color": "#EBF0F8"
             },
             "line": {
              "color": "white"
             }
            },
            "header": {
             "fill": {
              "color": "#C8D4E3"
             },
             "line": {
              "color": "white"
             }
            },
            "type": "table"
           }
          ]
         },
         "layout": {
          "annotationdefaults": {
           "arrowcolor": "#2a3f5f",
           "arrowhead": 0,
           "arrowwidth": 1
          },
          "coloraxis": {
           "colorbar": {
            "outlinewidth": 0,
            "ticks": ""
           }
          },
          "colorscale": {
           "diverging": [
            [
             0,
             "#8e0152"
            ],
            [
             0.1,
             "#c51b7d"
            ],
            [
             0.2,
             "#de77ae"
            ],
            [
             0.3,
             "#f1b6da"
            ],
            [
             0.4,
             "#fde0ef"
            ],
            [
             0.5,
             "#f7f7f7"
            ],
            [
             0.6,
             "#e6f5d0"
            ],
            [
             0.7,
             "#b8e186"
            ],
            [
             0.8,
             "#7fbc41"
            ],
            [
             0.9,
             "#4d9221"
            ],
            [
             1,
             "#276419"
            ]
           ],
           "sequential": [
            [
             0,
             "#0d0887"
            ],
            [
             0.1111111111111111,
             "#46039f"
            ],
            [
             0.2222222222222222,
             "#7201a8"
            ],
            [
             0.3333333333333333,
             "#9c179e"
            ],
            [
             0.4444444444444444,
             "#bd3786"
            ],
            [
             0.5555555555555556,
             "#d8576b"
            ],
            [
             0.6666666666666666,
             "#ed7953"
            ],
            [
             0.7777777777777778,
             "#fb9f3a"
            ],
            [
             0.8888888888888888,
             "#fdca26"
            ],
            [
             1,
             "#f0f921"
            ]
           ],
           "sequentialminus": [
            [
             0,
             "#0d0887"
            ],
            [
             0.1111111111111111,
             "#46039f"
            ],
            [
             0.2222222222222222,
             "#7201a8"
            ],
            [
             0.3333333333333333,
             "#9c179e"
            ],
            [
             0.4444444444444444,
             "#bd3786"
            ],
            [
             0.5555555555555556,
             "#d8576b"
            ],
            [
             0.6666666666666666,
             "#ed7953"
            ],
            [
             0.7777777777777778,
             "#fb9f3a"
            ],
            [
             0.8888888888888888,
             "#fdca26"
            ],
            [
             1,
             "#f0f921"
            ]
           ]
          },
          "colorway": [
           "#636efa",
           "#EF553B",
           "#00cc96",
           "#ab63fa",
           "#FFA15A",
           "#19d3f3",
           "#FF6692",
           "#B6E880",
           "#FF97FF",
           "#FECB52"
          ],
          "font": {
           "color": "#2a3f5f"
          },
          "geo": {
           "bgcolor": "white",
           "lakecolor": "white",
           "landcolor": "#E5ECF6",
           "showlakes": true,
           "showland": true,
           "subunitcolor": "white"
          },
          "hoverlabel": {
           "align": "left"
          },
          "hovermode": "closest",
          "mapbox": {
           "style": "light"
          },
          "paper_bgcolor": "white",
          "plot_bgcolor": "#E5ECF6",
          "polar": {
           "angularaxis": {
            "gridcolor": "white",
            "linecolor": "white",
            "ticks": ""
           },
           "bgcolor": "#E5ECF6",
           "radialaxis": {
            "gridcolor": "white",
            "linecolor": "white",
            "ticks": ""
           }
          },
          "scene": {
           "xaxis": {
            "backgroundcolor": "#E5ECF6",
            "gridcolor": "white",
            "gridwidth": 2,
            "linecolor": "white",
            "showbackground": true,
            "ticks": "",
            "zerolinecolor": "white"
           },
           "yaxis": {
            "backgroundcolor": "#E5ECF6",
            "gridcolor": "white",
            "gridwidth": 2,
            "linecolor": "white",
            "showbackground": true,
            "ticks": "",
            "zerolinecolor": "white"
           },
           "zaxis": {
            "backgroundcolor": "#E5ECF6",
            "gridcolor": "white",
            "gridwidth": 2,
            "linecolor": "white",
            "showbackground": true,
            "ticks": "",
            "zerolinecolor": "white"
           }
          },
          "shapedefaults": {
           "line": {
            "color": "#2a3f5f"
           }
          },
          "ternary": {
           "aaxis": {
            "gridcolor": "white",
            "linecolor": "white",
            "ticks": ""
           },
           "baxis": {
            "gridcolor": "white",
            "linecolor": "white",
            "ticks": ""
           },
           "bgcolor": "#E5ECF6",
           "caxis": {
            "gridcolor": "white",
            "linecolor": "white",
            "ticks": ""
           }
          },
          "title": {
           "x": 0.05
          },
          "xaxis": {
           "automargin": true,
           "gridcolor": "white",
           "linecolor": "white",
           "ticks": "",
           "title": {
            "standoff": 15
           },
           "zerolinecolor": "white",
           "zerolinewidth": 2
          },
          "yaxis": {
           "automargin": true,
           "gridcolor": "white",
           "linecolor": "white",
           "ticks": "",
           "title": {
            "standoff": 15
           },
           "zerolinecolor": "white",
           "zerolinewidth": 2
          }
         }
        },
        "title": {
         "text": "High, Low and Avg Price by Quarter"
        }
       }
      },
      "text/html": [
       "<div>\n",
       "        \n",
       "        \n",
       "            <div id=\"5955055d-61d3-4938-8c11-6a29ee73a3e0\" class=\"plotly-graph-div\" style=\"height:525px; width:100%;\"></div>\n",
       "            <script type=\"text/javascript\">\n",
       "                require([\"plotly\"], function(Plotly) {\n",
       "                    window.PLOTLYENV=window.PLOTLYENV || {};\n",
       "                    \n",
       "                if (document.getElementById(\"5955055d-61d3-4938-8c11-6a29ee73a3e0\")) {\n",
       "                    Plotly.newPlot(\n",
       "                        '5955055d-61d3-4938-8c11-6a29ee73a3e0',\n",
       "                        [{\"line\": {\"color\": \"red\"}, \"name\": \"High\", \"opacity\": 0.8, \"type\": \"scatter\", \"x\": [\"2000-06-01T00:00:00\", \"2000-09-01T00:00:00\", \"2000-12-01T00:00:00\", \"2001-03-01T00:00:00\", \"2001-06-01T00:00:00\", \"2001-09-01T00:00:00\", \"2001-12-01T00:00:00\", \"2002-03-01T00:00:00\", \"2002-06-01T00:00:00\", \"2002-09-01T00:00:00\", \"2002-12-01T00:00:00\", \"2003-03-01T00:00:00\", \"2003-06-01T00:00:00\", \"2003-09-01T00:00:00\", \"2003-12-01T00:00:00\", \"2004-03-01T00:00:00\", \"2004-06-01T00:00:00\", \"2004-09-01T00:00:00\", \"2004-12-01T00:00:00\", \"2005-03-01T00:00:00\", \"2005-06-01T00:00:00\", \"2005-09-01T00:00:00\", \"2005-12-01T00:00:00\", \"2006-03-01T00:00:00\", \"2006-06-01T00:00:00\", \"2006-09-01T00:00:00\", \"2006-12-01T00:00:00\", \"2007-03-01T00:00:00\", \"2007-06-01T00:00:00\", \"2007-09-01T00:00:00\", \"2007-12-01T00:00:00\", \"2008-03-01T00:00:00\", \"2008-06-01T00:00:00\", \"2008-09-01T00:00:00\", \"2008-12-01T00:00:00\", \"2009-03-01T00:00:00\", \"2009-06-01T00:00:00\", \"2009-09-01T00:00:00\", \"2009-12-01T00:00:00\", \"2010-03-01T00:00:00\", \"2010-06-01T00:00:00\", \"2010-09-01T00:00:00\", \"2010-12-01T00:00:00\", \"2011-03-01T00:00:00\", \"2011-06-01T00:00:00\", \"2011-09-01T00:00:00\", \"2011-12-01T00:00:00\", \"2012-03-01T00:00:00\", \"2012-06-01T00:00:00\", \"2012-09-01T00:00:00\", \"2012-12-01T00:00:00\", \"2013-03-01T00:00:00\", \"2013-06-01T00:00:00\", \"2013-09-01T00:00:00\", \"2013-12-01T00:00:00\", \"2014-03-01T00:00:00\", \"2014-06-01T00:00:00\", \"2014-09-01T00:00:00\", \"2014-12-01T00:00:00\", \"2015-03-01T00:00:00\", \"2015-06-01T00:00:00\", \"2015-09-01T00:00:00\", \"2015-12-01T00:00:00\", \"2016-03-01T00:00:00\", \"2016-06-01T00:00:00\", \"2016-09-01T00:00:00\", \"2016-12-01T00:00:00\", \"2017-03-01T00:00:00\", \"2017-06-01T00:00:00\", \"2017-09-01T00:00:00\", \"2017-12-01T00:00:00\", \"2018-03-01T00:00:00\", \"2018-06-01T00:00:00\", \"2018-09-01T00:00:00\", \"2018-12-01T00:00:00\", \"2019-03-01T00:00:00\", \"2019-06-01T00:00:00\", \"2019-09-01T00:00:00\", \"2019-12-01T00:00:00\", \"2020-03-01T00:00:00\"], \"y\": [665.34, 685.75, 654.21, 638.14, 609.07, 576.3, 546.0, 542.0, 538.75, 472.07, 437.5, 437.5, 437.5, 450.0, 452.75, 467.0, 472.55, 467.0, 484.15, 510.42, 517.25, 553.0, 577.5, 611.0, 622.0, 602.0, 629.25, 645.75, 677.75, 677.5, 678.5, 654.25, 645.0, 566.75, 507.0, 470.0, 455.0, 519.6, 544.4, 576.0, 586.8, 563.9, 601.0, 614.0, 613.12, 608.22, 600.0, 599.3, 589.92, 592.94, 598.51, 651.5, 691.7, 669.7, 680.5, 687.8, 692.26, 687.6, 681.6, 704.5, 713.0, 680.4, 649.2, 619.38, 643.0, 692.3, 705.2, 736.7, 759.0, 748.7, 761.3, 768.2, 788.9, 771.6, 743.0, 728.1, 745.9, 762.9, 756.6, 758.1]}, {\"line\": {\"color\": \"deepskyblue\"}, \"name\": \"Avg\", \"opacity\": 0.8, \"type\": \"scatter\", \"x\": [\"2000-06-01T00:00:00\", \"2000-09-01T00:00:00\", \"2000-12-01T00:00:00\", \"2001-03-01T00:00:00\", \"2001-06-01T00:00:00\", \"2001-09-01T00:00:00\", \"2001-12-01T00:00:00\", \"2002-03-01T00:00:00\", \"2002-06-01T00:00:00\", \"2002-09-01T00:00:00\", \"2002-12-01T00:00:00\", \"2003-03-01T00:00:00\", \"2003-06-01T00:00:00\", \"2003-09-01T00:00:00\", \"2003-12-01T00:00:00\", \"2004-03-01T00:00:00\", \"2004-06-01T00:00:00\", \"2004-09-01T00:00:00\", \"2004-12-01T00:00:00\", \"2005-03-01T00:00:00\", \"2005-06-01T00:00:00\", \"2005-09-01T00:00:00\", \"2005-12-01T00:00:00\", \"2006-03-01T00:00:00\", \"2006-06-01T00:00:00\", \"2006-09-01T00:00:00\", \"2006-12-01T00:00:00\", \"2007-03-01T00:00:00\", \"2007-06-01T00:00:00\", \"2007-09-01T00:00:00\", \"2007-12-01T00:00:00\", \"2008-03-01T00:00:00\", \"2008-06-01T00:00:00\", \"2008-09-01T00:00:00\", \"2008-12-01T00:00:00\", \"2009-03-01T00:00:00\", \"2009-06-01T00:00:00\", \"2009-09-01T00:00:00\", \"2009-12-01T00:00:00\", \"2010-03-01T00:00:00\", \"2010-06-01T00:00:00\", \"2010-09-01T00:00:00\", \"2010-12-01T00:00:00\", \"2011-03-01T00:00:00\", \"2011-06-01T00:00:00\", \"2011-09-01T00:00:00\", \"2011-12-01T00:00:00\", \"2012-03-01T00:00:00\", \"2012-06-01T00:00:00\", \"2012-09-01T00:00:00\", \"2012-12-01T00:00:00\", \"2013-03-01T00:00:00\", \"2013-06-01T00:00:00\", \"2013-09-01T00:00:00\", \"2013-12-01T00:00:00\", \"2014-03-01T00:00:00\", \"2014-06-01T00:00:00\", \"2014-09-01T00:00:00\", \"2014-12-01T00:00:00\", \"2015-03-01T00:00:00\", \"2015-06-01T00:00:00\", \"2015-09-01T00:00:00\", \"2015-12-01T00:00:00\", \"2016-03-01T00:00:00\", \"2016-06-01T00:00:00\", \"2016-09-01T00:00:00\", \"2016-12-01T00:00:00\", \"2017-03-01T00:00:00\", \"2017-06-01T00:00:00\", \"2017-09-01T00:00:00\", \"2017-12-01T00:00:00\", \"2018-03-01T00:00:00\", \"2018-06-01T00:00:00\", \"2018-09-01T00:00:00\", \"2018-12-01T00:00:00\", \"2019-03-01T00:00:00\", \"2019-06-01T00:00:00\", \"2019-09-01T00:00:00\", \"2019-12-01T00:00:00\", \"2020-03-01T00:00:00\"], \"y\": [635.4455813953489, 648.6193650793651, 633.0603174603175, 605.6253125000001, 586.3231147540982, 530.475, 518.87671875, 522.0962903225807, 511.1826229508197, 418.1513846153847, 403.86546875000005, 375.75338709677413, 405.8468852459018, 420.8253846153845, 437.7253125, 449.00624999999997, 452.96836065573774, 446.23032258064524, 472.435625, 494.9003278688523, 500.62571428571414, 534.5915384615384, 546.4058730158731, 586.0376562499998, 590.6595081967214, 589.5259375, 616.6344444444444, 627.6521875000002, 656.9672131147538, 639.8220634920633, 648.521935483871, 590.4879032258065, 602.8553968253967, 539.3944615384615, 428.58328125, 405.38206349206337, 427.9532786885245, 472.6915384615384, 524.5796875000001, 543.6682539682539, 539.6868852459016, 532.3950769230769, 575.5351562499999, 593.6690476190477, 592.1251666666668, 547.2396875000001, 541.6546031746032, 580.8709375000001, 557.3791666666668, 574.80140625, 584.6264062500002, 627.8730645161289, 644.7879032258065, 653.5160000000003, 658.87828125, 664.6855555555557, 675.1381967213115, 673.4324615384616, 650.2070312499999, 674.3539682539682, 691.8613114754097, 640.8503076923076, 626.2778125000001, 594.0062903225808, 616.8512698412701, 670.4201538461537, 685.7807936507936, 720.3771875000001, 734.9129508196721, 732.0404687499998, 740.1642857142858, 728.0438095238095, 750.5588709677423, 749.58203125, 694.5937499999997, 699.1095238095236, 729.6368852459015, 729.802, 723.74296875, 681.4743548387097]}, {\"line\": {\"color\": \"dimgray\"}, \"name\": \"Low\", \"opacity\": 0.8, \"type\": \"scatter\", \"x\": [\"2000-06-01T00:00:00\", \"2000-09-01T00:00:00\", \"2000-12-01T00:00:00\", \"2001-03-01T00:00:00\", \"2001-06-01T00:00:00\", \"2001-09-01T00:00:00\", \"2001-12-01T00:00:00\", \"2002-03-01T00:00:00\", \"2002-06-01T00:00:00\", \"2002-09-01T00:00:00\", \"2002-12-01T00:00:00\", \"2003-03-01T00:00:00\", \"2003-06-01T00:00:00\", \"2003-09-01T00:00:00\", \"2003-12-01T00:00:00\", \"2004-03-01T00:00:00\", \"2004-06-01T00:00:00\", \"2004-09-01T00:00:00\", \"2004-12-01T00:00:00\", \"2005-03-01T00:00:00\", \"2005-06-01T00:00:00\", \"2005-09-01T00:00:00\", \"2005-12-01T00:00:00\", \"2006-03-01T00:00:00\", \"2006-06-01T00:00:00\", \"2006-09-01T00:00:00\", \"2006-12-01T00:00:00\", \"2007-03-01T00:00:00\", \"2007-06-01T00:00:00\", \"2007-09-01T00:00:00\", \"2007-12-01T00:00:00\", \"2008-03-01T00:00:00\", \"2008-06-01T00:00:00\", \"2008-09-01T00:00:00\", \"2008-12-01T00:00:00\", \"2009-03-01T00:00:00\", \"2009-06-01T00:00:00\", \"2009-09-01T00:00:00\", \"2009-12-01T00:00:00\", \"2010-03-01T00:00:00\", \"2010-06-01T00:00:00\", \"2010-09-01T00:00:00\", \"2010-12-01T00:00:00\", \"2011-03-01T00:00:00\", \"2011-06-01T00:00:00\", \"2011-09-01T00:00:00\", \"2011-12-01T00:00:00\", \"2012-03-01T00:00:00\", \"2012-06-01T00:00:00\", \"2012-09-01T00:00:00\", \"2012-12-01T00:00:00\", \"2013-03-01T00:00:00\", \"2013-06-01T00:00:00\", \"2013-09-01T00:00:00\", \"2013-12-01T00:00:00\", \"2014-03-01T00:00:00\", \"2014-06-01T00:00:00\", \"2014-09-01T00:00:00\", \"2014-12-01T00:00:00\", \"2015-03-01T00:00:00\", \"2015-06-01T00:00:00\", \"2015-09-01T00:00:00\", \"2015-12-01T00:00:00\", \"2016-03-01T00:00:00\", \"2016-06-01T00:00:00\", \"2016-09-01T00:00:00\", \"2016-12-01T00:00:00\", \"2017-03-01T00:00:00\", \"2017-06-01T00:00:00\", \"2017-09-01T00:00:00\", \"2017-12-01T00:00:00\", \"2018-03-01T00:00:00\", \"2018-06-01T00:00:00\", \"2018-09-01T00:00:00\", \"2018-12-01T00:00:00\", \"2019-03-01T00:00:00\", \"2019-06-01T00:00:00\", \"2019-09-01T00:00:00\", \"2019-12-01T00:00:00\", \"2020-03-01T00:00:00\"], \"y\": [601.65, 603.82, 608.15, 535.65, 542.76, 429.13, 473.47, 492.0, 444.0, 350.0, 365.0, 332.5, 367.5, 398.25, 400.0, 422.0, 435.5, 431.0, 457.25, 477.1, 470.0, 505.0, 516.0, 566.0, 549.75, 568.75, 591.5, 599.0, 633.0, 588.25, 609.25, 533.0, 550.5, 466.0, 369.75, 345.75, 385.0, 411.0, 496.2, 504.3, 492.0, 481.0, 550.8, 523.15, 564.7, 483.3, 487.7, 541.0, 522.58, 545.6, 564.6, 594.54, 602.0, 619.1, 630.4, 637.1, 650.09, 652.46, 605.3, 624.2, 650.7, 581.2, 582.42, 546.11, 570.0, 636.0, 660.0, 701.1, 704.1, 708.92, 724.3, 679.9, 690.7, 717.6, 646.1, 652.2, 706.7, 699.83, 691.85, 482.25]}, {\"line\": {\"color\": \"orange\"}, \"name\": \"Invested\", \"opacity\": 0.5, \"type\": \"scatter\", \"x\": [\"2020-02-25\"], \"y\": [700, 600]}],\n",
       "                        {\"template\": {\"data\": {\"bar\": [{\"error_x\": {\"color\": \"#2a3f5f\"}, \"error_y\": {\"color\": \"#2a3f5f\"}, \"marker\": {\"line\": {\"color\": \"#E5ECF6\", \"width\": 0.5}}, \"type\": \"bar\"}], \"barpolar\": [{\"marker\": {\"line\": {\"color\": \"#E5ECF6\", \"width\": 0.5}}, \"type\": \"barpolar\"}], \"carpet\": [{\"aaxis\": {\"endlinecolor\": \"#2a3f5f\", \"gridcolor\": \"white\", \"linecolor\": \"white\", \"minorgridcolor\": \"white\", \"startlinecolor\": \"#2a3f5f\"}, \"baxis\": {\"endlinecolor\": \"#2a3f5f\", \"gridcolor\": \"white\", \"linecolor\": \"white\", \"minorgridcolor\": \"white\", \"startlinecolor\": \"#2a3f5f\"}, \"type\": \"carpet\"}], \"choropleth\": [{\"colorbar\": {\"outlinewidth\": 0, \"ticks\": \"\"}, \"type\": \"choropleth\"}], \"contour\": [{\"colorbar\": {\"outlinewidth\": 0, \"ticks\": \"\"}, \"colorscale\": [[0.0, \"#0d0887\"], [0.1111111111111111, \"#46039f\"], [0.2222222222222222, \"#7201a8\"], [0.3333333333333333, \"#9c179e\"], [0.4444444444444444, \"#bd3786\"], [0.5555555555555556, \"#d8576b\"], [0.6666666666666666, \"#ed7953\"], [0.7777777777777778, \"#fb9f3a\"], [0.8888888888888888, \"#fdca26\"], [1.0, \"#f0f921\"]], \"type\": \"contour\"}], \"contourcarpet\": [{\"colorbar\": {\"outlinewidth\": 0, \"ticks\": \"\"}, \"type\": \"contourcarpet\"}], \"heatmap\": [{\"colorbar\": {\"outlinewidth\": 0, \"ticks\": \"\"}, \"colorscale\": [[0.0, \"#0d0887\"], [0.1111111111111111, \"#46039f\"], [0.2222222222222222, \"#7201a8\"], [0.3333333333333333, \"#9c179e\"], [0.4444444444444444, \"#bd3786\"], [0.5555555555555556, \"#d8576b\"], [0.6666666666666666, \"#ed7953\"], [0.7777777777777778, \"#fb9f3a\"], [0.8888888888888888, \"#fdca26\"], [1.0, \"#f0f921\"]], \"type\": \"heatmap\"}], \"heatmapgl\": [{\"colorbar\": {\"outlinewidth\": 0, \"ticks\": \"\"}, \"colorscale\": [[0.0, \"#0d0887\"], [0.1111111111111111, \"#46039f\"], [0.2222222222222222, \"#7201a8\"], [0.3333333333333333, \"#9c179e\"], [0.4444444444444444, \"#bd3786\"], [0.5555555555555556, \"#d8576b\"], [0.6666666666666666, \"#ed7953\"], [0.7777777777777778, \"#fb9f3a\"], [0.8888888888888888, \"#fdca26\"], [1.0, \"#f0f921\"]], \"type\": \"heatmapgl\"}], \"histogram\": [{\"marker\": {\"colorbar\": {\"outlinewidth\": 0, \"ticks\": \"\"}}, \"type\": \"histogram\"}], \"histogram2d\": [{\"colorbar\": {\"outlinewidth\": 0, \"ticks\": \"\"}, \"colorscale\": [[0.0, \"#0d0887\"], [0.1111111111111111, \"#46039f\"], [0.2222222222222222, \"#7201a8\"], [0.3333333333333333, \"#9c179e\"], [0.4444444444444444, \"#bd3786\"], [0.5555555555555556, \"#d8576b\"], [0.6666666666666666, \"#ed7953\"], [0.7777777777777778, \"#fb9f3a\"], [0.8888888888888888, \"#fdca26\"], [1.0, \"#f0f921\"]], \"type\": \"histogram2d\"}], \"histogram2dcontour\": [{\"colorbar\": {\"outlinewidth\": 0, \"ticks\": \"\"}, \"colorscale\": [[0.0, \"#0d0887\"], [0.1111111111111111, \"#46039f\"], [0.2222222222222222, \"#7201a8\"], [0.3333333333333333, \"#9c179e\"], [0.4444444444444444, \"#bd3786\"], [0.5555555555555556, \"#d8576b\"], [0.6666666666666666, \"#ed7953\"], [0.7777777777777778, \"#fb9f3a\"], [0.8888888888888888, \"#fdca26\"], [1.0, \"#f0f921\"]], \"type\": \"histogram2dcontour\"}], \"mesh3d\": [{\"colorbar\": {\"outlinewidth\": 0, \"ticks\": \"\"}, \"type\": \"mesh3d\"}], \"parcoords\": [{\"line\": {\"colorbar\": {\"outlinewidth\": 0, \"ticks\": \"\"}}, \"type\": \"parcoords\"}], \"pie\": [{\"automargin\": true, \"type\": \"pie\"}], \"scatter\": [{\"marker\": {\"colorbar\": {\"outlinewidth\": 0, \"ticks\": \"\"}}, \"type\": \"scatter\"}], \"scatter3d\": [{\"line\": {\"colorbar\": {\"outlinewidth\": 0, \"ticks\": \"\"}}, \"marker\": {\"colorbar\": {\"outlinewidth\": 0, \"ticks\": \"\"}}, \"type\": \"scatter3d\"}], \"scattercarpet\": [{\"marker\": {\"colorbar\": {\"outlinewidth\": 0, \"ticks\": \"\"}}, \"type\": \"scattercarpet\"}], \"scattergeo\": [{\"marker\": {\"colorbar\": {\"outlinewidth\": 0, \"ticks\": \"\"}}, \"type\": \"scattergeo\"}], \"scattergl\": [{\"marker\": {\"colorbar\": {\"outlinewidth\": 0, \"ticks\": \"\"}}, \"type\": \"scattergl\"}], \"scattermapbox\": [{\"marker\": {\"colorbar\": {\"outlinewidth\": 0, \"ticks\": \"\"}}, \"type\": \"scattermapbox\"}], \"scatterpolar\": [{\"marker\": {\"colorbar\": {\"outlinewidth\": 0, \"ticks\": \"\"}}, \"type\": \"scatterpolar\"}], \"scatterpolargl\": [{\"marker\": {\"colorbar\": {\"outlinewidth\": 0, \"ticks\": \"\"}}, \"type\": \"scatterpolargl\"}], \"scatterternary\": [{\"marker\": {\"colorbar\": {\"outlinewidth\": 0, \"ticks\": \"\"}}, \"type\": \"scatterternary\"}], \"surface\": [{\"colorbar\": {\"outlinewidth\": 0, \"ticks\": \"\"}, \"colorscale\": [[0.0, \"#0d0887\"], [0.1111111111111111, \"#46039f\"], [0.2222222222222222, \"#7201a8\"], [0.3333333333333333, \"#9c179e\"], [0.4444444444444444, \"#bd3786\"], [0.5555555555555556, \"#d8576b\"], [0.6666666666666666, \"#ed7953\"], [0.7777777777777778, \"#fb9f3a\"], [0.8888888888888888, \"#fdca26\"], [1.0, \"#f0f921\"]], \"type\": \"surface\"}], \"table\": [{\"cells\": {\"fill\": {\"color\": \"#EBF0F8\"}, \"line\": {\"color\": \"white\"}}, \"header\": {\"fill\": {\"color\": \"#C8D4E3\"}, \"line\": {\"color\": \"white\"}}, \"type\": \"table\"}]}, \"layout\": {\"annotationdefaults\": {\"arrowcolor\": \"#2a3f5f\", \"arrowhead\": 0, \"arrowwidth\": 1}, \"coloraxis\": {\"colorbar\": {\"outlinewidth\": 0, \"ticks\": \"\"}}, \"colorscale\": {\"diverging\": [[0, \"#8e0152\"], [0.1, \"#c51b7d\"], [0.2, \"#de77ae\"], [0.3, \"#f1b6da\"], [0.4, \"#fde0ef\"], [0.5, \"#f7f7f7\"], [0.6, \"#e6f5d0\"], [0.7, \"#b8e186\"], [0.8, \"#7fbc41\"], [0.9, \"#4d9221\"], [1, \"#276419\"]], \"sequential\": [[0.0, \"#0d0887\"], [0.1111111111111111, \"#46039f\"], [0.2222222222222222, \"#7201a8\"], [0.3333333333333333, \"#9c179e\"], [0.4444444444444444, \"#bd3786\"], [0.5555555555555556, \"#d8576b\"], [0.6666666666666666, \"#ed7953\"], [0.7777777777777778, \"#fb9f3a\"], [0.8888888888888888, \"#fdca26\"], [1.0, \"#f0f921\"]], \"sequentialminus\": [[0.0, \"#0d0887\"], [0.1111111111111111, \"#46039f\"], [0.2222222222222222, \"#7201a8\"], [0.3333333333333333, \"#9c179e\"], [0.4444444444444444, \"#bd3786\"], [0.5555555555555556, \"#d8576b\"], [0.6666666666666666, \"#ed7953\"], [0.7777777777777778, \"#fb9f3a\"], [0.8888888888888888, \"#fdca26\"], [1.0, \"#f0f921\"]]}, \"colorway\": [\"#636efa\", \"#EF553B\", \"#00cc96\", \"#ab63fa\", \"#FFA15A\", \"#19d3f3\", \"#FF6692\", \"#B6E880\", \"#FF97FF\", \"#FECB52\"], \"font\": {\"color\": \"#2a3f5f\"}, \"geo\": {\"bgcolor\": \"white\", \"lakecolor\": \"white\", \"landcolor\": \"#E5ECF6\", \"showlakes\": true, \"showland\": true, \"subunitcolor\": \"white\"}, \"hoverlabel\": {\"align\": \"left\"}, \"hovermode\": \"closest\", \"mapbox\": {\"style\": \"light\"}, \"paper_bgcolor\": \"white\", \"plot_bgcolor\": \"#E5ECF6\", \"polar\": {\"angularaxis\": {\"gridcolor\": \"white\", \"linecolor\": \"white\", \"ticks\": \"\"}, \"bgcolor\": \"#E5ECF6\", \"radialaxis\": {\"gridcolor\": \"white\", \"linecolor\": \"white\", \"ticks\": \"\"}}, \"scene\": {\"xaxis\": {\"backgroundcolor\": \"#E5ECF6\", \"gridcolor\": \"white\", \"gridwidth\": 2, \"linecolor\": \"white\", \"showbackground\": true, \"ticks\": \"\", \"zerolinecolor\": \"white\"}, \"yaxis\": {\"backgroundcolor\": \"#E5ECF6\", \"gridcolor\": \"white\", \"gridwidth\": 2, \"linecolor\": \"white\", \"showbackground\": true, \"ticks\": \"\", \"zerolinecolor\": \"white\"}, \"zaxis\": {\"backgroundcolor\": \"#E5ECF6\", \"gridcolor\": \"white\", \"gridwidth\": 2, \"linecolor\": \"white\", \"showbackground\": true, \"ticks\": \"\", \"zerolinecolor\": \"white\"}}, \"shapedefaults\": {\"line\": {\"color\": \"#2a3f5f\"}}, \"ternary\": {\"aaxis\": {\"gridcolor\": \"white\", \"linecolor\": \"white\", \"ticks\": \"\"}, \"baxis\": {\"gridcolor\": \"white\", \"linecolor\": \"white\", \"ticks\": \"\"}, \"bgcolor\": \"#E5ECF6\", \"caxis\": {\"gridcolor\": \"white\", \"linecolor\": \"white\", \"ticks\": \"\"}}, \"title\": {\"x\": 0.05}, \"xaxis\": {\"automargin\": true, \"gridcolor\": \"white\", \"linecolor\": \"white\", \"ticks\": \"\", \"title\": {\"standoff\": 15}, \"zerolinecolor\": \"white\", \"zerolinewidth\": 2}, \"yaxis\": {\"automargin\": true, \"gridcolor\": \"white\", \"linecolor\": \"white\", \"ticks\": \"\", \"title\": {\"standoff\": 15}, \"zerolinecolor\": \"white\", \"zerolinewidth\": 2}}}, \"title\": {\"text\": \"High, Low and Avg Price by Quarter\"}},\n",
       "                        {\"responsive\": true}\n",
       "                    ).then(function(){\n",
       "                            \n",
       "var gd = document.getElementById('5955055d-61d3-4938-8c11-6a29ee73a3e0');\n",
       "var x = new MutationObserver(function (mutations, observer) {{\n",
       "        var display = window.getComputedStyle(gd).display;\n",
       "        if (!display || display === 'none') {{\n",
       "            console.log([gd, 'removed!']);\n",
       "            Plotly.purge(gd);\n",
       "            observer.disconnect();\n",
       "        }}\n",
       "}});\n",
       "\n",
       "// Listen for the removal of the full notebook cells\n",
       "var notebookContainer = gd.closest('#notebook-container');\n",
       "if (notebookContainer) {{\n",
       "    x.observe(notebookContainer, {childList: true});\n",
       "}}\n",
       "\n",
       "// Listen for the clearing of the current output cell\n",
       "var outputEl = gd.closest('.output');\n",
       "if (outputEl) {{\n",
       "    x.observe(outputEl, {childList: true});\n",
       "}}\n",
       "\n",
       "                        })\n",
       "                };\n",
       "                });\n",
       "            </script>\n",
       "        </div>"
      ]
     },
     "metadata": {},
     "output_type": "display_data"
    }
   ],
   "source": [
    "# df = pd.read_csv(\"https://raw.githubusercontent.com/plotly/datasets/master/finance-charts-apple.csv\")\n",
    "\n",
    "fig = go.Figure()\n",
    "\n",
    "fig.add_trace(go.Scatter(\n",
    "                x=tmp['date'],\n",
    "                y=tmp['High'],\n",
    "                name=\"High\",\n",
    "                line_color='red',\n",
    "                opacity=0.8))\n",
    "\n",
    "fig.add_trace(go.Scatter(\n",
    "                x=tmp['date'],\n",
    "                y=tmp['avg'],\n",
    "                name=\"Avg\",\n",
    "                line_color='deepskyblue',\n",
    "                opacity=0.8))\n",
    "\n",
    "fig.add_trace(go.Scatter(\n",
    "                x=tmp['date'],\n",
    "                y=tmp['Low'],\n",
    "                name=\"Low\",\n",
    "                line_color='dimgray',\n",
    "                opacity=0.8))\n",
    "\n",
    "# Personal Investments\n",
    "fig.add_trace(go.Scatter(\n",
    "                x=['2020-02-25'],\n",
    "                y=[700, 600],\n",
    "                name=\"Invested\",\n",
    "                line_color='orange',\n",
    "                opacity=0.5))\n",
    "\n",
    "# # Use date string to set xaxis range\n",
    "fig.update_layout(\n",
    "#     xaxis_range=['2016-07-01','2016-12-31'],\n",
    "    title_text=\"High, Low and Avg Price by Quarter\",\n",
    ")\n",
    "fig.show()"
   ]
  },
  {
   "cell_type": "markdown",
   "metadata": {},
   "source": [
    "### Days with the highest difference between high and low price (%)"
   ]
  },
  {
   "cell_type": "code",
   "execution_count": 8,
   "metadata": {},
   "outputs": [
    {
     "data": {
      "text/html": [
       "<div>\n",
       "<style scoped>\n",
       "    .dataframe tbody tr th:only-of-type {\n",
       "        vertical-align: middle;\n",
       "    }\n",
       "\n",
       "    .dataframe tbody tr th {\n",
       "        vertical-align: top;\n",
       "    }\n",
       "\n",
       "    .dataframe thead th {\n",
       "        text-align: right;\n",
       "    }\n",
       "</style>\n",
       "<table border=\"1\" class=\"dataframe\">\n",
       "  <thead>\n",
       "    <tr style=\"text-align: right;\">\n",
       "      <th></th>\n",
       "      <th>Date</th>\n",
       "      <th>Open</th>\n",
       "      <th>High</th>\n",
       "      <th>Low</th>\n",
       "      <th>Close</th>\n",
       "      <th>Volume</th>\n",
       "      <th>month</th>\n",
       "      <th>year</th>\n",
       "      <th>dat_name</th>\n",
       "      <th>weekofyear</th>\n",
       "      <th>is_quarter_end</th>\n",
       "      <th>is_quarter_start</th>\n",
       "      <th>quarter</th>\n",
       "      <th>avg</th>\n",
       "      <th>high_low_diff</th>\n",
       "    </tr>\n",
       "  </thead>\n",
       "  <tbody>\n",
       "    <tr>\n",
       "      <th>605</th>\n",
       "      <td>2002-09-24</td>\n",
       "      <td>447.75</td>\n",
       "      <td>447.75</td>\n",
       "      <td>363.27</td>\n",
       "      <td>405.50</td>\n",
       "      <td>1667346</td>\n",
       "      <td>September</td>\n",
       "      <td>2002</td>\n",
       "      <td>Tuesday</td>\n",
       "      <td>39</td>\n",
       "      <td>False</td>\n",
       "      <td>False</td>\n",
       "      <td>3</td>\n",
       "      <td>405.51</td>\n",
       "      <td>23.26</td>\n",
       "    </tr>\n",
       "    <tr>\n",
       "      <th>722</th>\n",
       "      <td>2003-03-12</td>\n",
       "      <td>349.00</td>\n",
       "      <td>392.25</td>\n",
       "      <td>332.50</td>\n",
       "      <td>332.75</td>\n",
       "      <td>4700711</td>\n",
       "      <td>March</td>\n",
       "      <td>2003</td>\n",
       "      <td>Wednesday</td>\n",
       "      <td>11</td>\n",
       "      <td>False</td>\n",
       "      <td>False</td>\n",
       "      <td>1</td>\n",
       "      <td>362.38</td>\n",
       "      <td>17.97</td>\n",
       "    </tr>\n",
       "    <tr>\n",
       "      <th>561</th>\n",
       "      <td>2002-07-23</td>\n",
       "      <td>398.70</td>\n",
       "      <td>404.75</td>\n",
       "      <td>350.00</td>\n",
       "      <td>350.00</td>\n",
       "      <td>1095590</td>\n",
       "      <td>July</td>\n",
       "      <td>2002</td>\n",
       "      <td>Tuesday</td>\n",
       "      <td>30</td>\n",
       "      <td>False</td>\n",
       "      <td>False</td>\n",
       "      <td>3</td>\n",
       "      <td>377.38</td>\n",
       "      <td>15.64</td>\n",
       "    </tr>\n",
       "    <tr>\n",
       "      <th>571</th>\n",
       "      <td>2002-08-06</td>\n",
       "      <td>404.75</td>\n",
       "      <td>416.42</td>\n",
       "      <td>361.00</td>\n",
       "      <td>361.00</td>\n",
       "      <td>1296269</td>\n",
       "      <td>August</td>\n",
       "      <td>2002</td>\n",
       "      <td>Tuesday</td>\n",
       "      <td>32</td>\n",
       "      <td>False</td>\n",
       "      <td>False</td>\n",
       "      <td>3</td>\n",
       "      <td>388.71</td>\n",
       "      <td>15.35</td>\n",
       "    </tr>\n",
       "    <tr>\n",
       "      <th>738</th>\n",
       "      <td>2003-04-03</td>\n",
       "      <td>437.50</td>\n",
       "      <td>437.50</td>\n",
       "      <td>381.00</td>\n",
       "      <td>383.50</td>\n",
       "      <td>4033746</td>\n",
       "      <td>April</td>\n",
       "      <td>2003</td>\n",
       "      <td>Thursday</td>\n",
       "      <td>14</td>\n",
       "      <td>False</td>\n",
       "      <td>False</td>\n",
       "      <td>2</td>\n",
       "      <td>409.25</td>\n",
       "      <td>14.83</td>\n",
       "    </tr>\n",
       "  </tbody>\n",
       "</table>\n",
       "</div>"
      ],
      "text/plain": [
       "          Date    Open    High     Low   Close   Volume      month  year  \\\n",
       "605 2002-09-24  447.75  447.75  363.27  405.50  1667346  September  2002   \n",
       "722 2003-03-12  349.00  392.25  332.50  332.75  4700711      March  2003   \n",
       "561 2002-07-23  398.70  404.75  350.00  350.00  1095590       July  2002   \n",
       "571 2002-08-06  404.75  416.42  361.00  361.00  1296269     August  2002   \n",
       "738 2003-04-03  437.50  437.50  381.00  383.50  4033746      April  2003   \n",
       "\n",
       "      dat_name  weekofyear  is_quarter_end  is_quarter_start  quarter     avg  \\\n",
       "605    Tuesday          39           False             False        3  405.51   \n",
       "722  Wednesday          11           False             False        1  362.38   \n",
       "561    Tuesday          30           False             False        3  377.38   \n",
       "571    Tuesday          32           False             False        3  388.71   \n",
       "738   Thursday          14           False             False        2  409.25   \n",
       "\n",
       "     high_low_diff  \n",
       "605          23.26  \n",
       "722          17.97  \n",
       "561          15.64  \n",
       "571          15.35  \n",
       "738          14.83  "
      ]
     },
     "execution_count": 8,
     "metadata": {},
     "output_type": "execute_result"
    }
   ],
   "source": [
    "df['high_low_diff'] = round(((df['High'] - df['Low'])/df['Low']) * 100, 2)\n",
    "df.sort_values(by='high_low_diff', ascending=False).head(5)"
   ]
  },
  {
   "cell_type": "code",
   "execution_count": 9,
   "metadata": {},
   "outputs": [
    {
     "name": "stdout",
     "output_type": "stream",
     "text": [
      "Mean difference between daily high and low over the last 20 year: 1.44%\n"
     ]
    }
   ],
   "source": [
    "p = 'Mean difference between daily high and low over the last 20 year: {}%'.format(df['high_low_diff'].mean().round(2))\n",
    "print(p)"
   ]
  },
  {
   "cell_type": "markdown",
   "metadata": {},
   "source": [
    "### High/Low difference by month"
   ]
  },
  {
   "cell_type": "code",
   "execution_count": 10,
   "metadata": {},
   "outputs": [],
   "source": [
    "agg_df = (\n",
    "    df[['year', 'month', 'High', 'Low']]\n",
    "    .groupby(['year', 'month'])\n",
    "    .agg({'High': 'max', 'Low': 'min'})\n",
    "    .reset_index()\n",
    "    )\n",
    "\n",
    "agg_df['high_low_diff'] = round(((agg_df['High'] - agg_df['Low'])/agg_df['Low']) * 100, 2)"
   ]
  },
  {
   "cell_type": "code",
   "execution_count": 11,
   "metadata": {},
   "outputs": [
    {
     "data": {
      "text/html": [
       "<div>\n",
       "<style scoped>\n",
       "    .dataframe tbody tr th:only-of-type {\n",
       "        vertical-align: middle;\n",
       "    }\n",
       "\n",
       "    .dataframe tbody tr th {\n",
       "        vertical-align: top;\n",
       "    }\n",
       "\n",
       "    .dataframe thead th {\n",
       "        text-align: right;\n",
       "    }\n",
       "</style>\n",
       "<table border=\"1\" class=\"dataframe\">\n",
       "  <thead>\n",
       "    <tr style=\"text-align: right;\">\n",
       "      <th></th>\n",
       "      <th>year</th>\n",
       "      <th>month</th>\n",
       "      <th>High</th>\n",
       "      <th>Low</th>\n",
       "      <th>high_low_diff</th>\n",
       "    </tr>\n",
       "  </thead>\n",
       "  <tbody>\n",
       "    <tr>\n",
       "      <th>238</th>\n",
       "      <td>2020</td>\n",
       "      <td>March</td>\n",
       "      <td>681.30</td>\n",
       "      <td>482.25</td>\n",
       "      <td>41.28</td>\n",
       "    </tr>\n",
       "    <tr>\n",
       "      <th>102</th>\n",
       "      <td>2008</td>\n",
       "      <td>October</td>\n",
       "      <td>507.00</td>\n",
       "      <td>369.75</td>\n",
       "      <td>37.12</td>\n",
       "    </tr>\n",
       "    <tr>\n",
       "      <th>25</th>\n",
       "      <td>2002</td>\n",
       "      <td>July</td>\n",
       "      <td>472.07</td>\n",
       "      <td>350.00</td>\n",
       "      <td>34.88</td>\n",
       "    </tr>\n",
       "    <tr>\n",
       "      <th>36</th>\n",
       "      <td>2003</td>\n",
       "      <td>January</td>\n",
       "      <td>437.50</td>\n",
       "      <td>341.50</td>\n",
       "      <td>28.11</td>\n",
       "    </tr>\n",
       "    <tr>\n",
       "      <th>21</th>\n",
       "      <td>2002</td>\n",
       "      <td>August</td>\n",
       "      <td>460.25</td>\n",
       "      <td>361.00</td>\n",
       "      <td>27.49</td>\n",
       "    </tr>\n",
       "    <tr>\n",
       "      <th>31</th>\n",
       "      <td>2002</td>\n",
       "      <td>September</td>\n",
       "      <td>457.75</td>\n",
       "      <td>363.27</td>\n",
       "      <td>26.01</td>\n",
       "    </tr>\n",
       "    <tr>\n",
       "      <th>19</th>\n",
       "      <td>2001</td>\n",
       "      <td>September</td>\n",
       "      <td>540.44</td>\n",
       "      <td>429.13</td>\n",
       "      <td>25.94</td>\n",
       "    </tr>\n",
       "    <tr>\n",
       "      <th>101</th>\n",
       "      <td>2008</td>\n",
       "      <td>November</td>\n",
       "      <td>467.00</td>\n",
       "      <td>379.25</td>\n",
       "      <td>23.14</td>\n",
       "    </tr>\n",
       "    <tr>\n",
       "      <th>138</th>\n",
       "      <td>2011</td>\n",
       "      <td>October</td>\n",
       "      <td>600.00</td>\n",
       "      <td>487.70</td>\n",
       "      <td>23.03</td>\n",
       "    </tr>\n",
       "    <tr>\n",
       "      <th>96</th>\n",
       "      <td>2008</td>\n",
       "      <td>January</td>\n",
       "      <td>654.25</td>\n",
       "      <td>533.00</td>\n",
       "      <td>22.75</td>\n",
       "    </tr>\n",
       "  </tbody>\n",
       "</table>\n",
       "</div>"
      ],
      "text/plain": [
       "     year      month    High     Low  high_low_diff\n",
       "238  2020      March  681.30  482.25          41.28\n",
       "102  2008    October  507.00  369.75          37.12\n",
       "25   2002       July  472.07  350.00          34.88\n",
       "36   2003    January  437.50  341.50          28.11\n",
       "21   2002     August  460.25  361.00          27.49\n",
       "31   2002  September  457.75  363.27          26.01\n",
       "19   2001  September  540.44  429.13          25.94\n",
       "101  2008   November  467.00  379.25          23.14\n",
       "138  2011    October  600.00  487.70          23.03\n",
       "96   2008    January  654.25  533.00          22.75"
      ]
     },
     "execution_count": 11,
     "metadata": {},
     "output_type": "execute_result"
    }
   ],
   "source": [
    "agg_df.sort_values(by='high_low_diff', ascending=False).head(10)"
   ]
  },
  {
   "cell_type": "markdown",
   "metadata": {},
   "source": [
    "#### FTSE 100 in October 2008\n",
    "\n",
    "We see that during October 2008, the highest price was 6314 and the lowest 3665, which a percentage difference of a massive 72%!!!"
   ]
  },
  {
   "cell_type": "markdown",
   "metadata": {},
   "source": [
    "#### Dates of highest high and lowest low in October 2008"
   ]
  },
  {
   "cell_type": "code",
   "execution_count": 12,
   "metadata": {},
   "outputs": [
    {
     "data": {
      "text/html": [
       "<div>\n",
       "<style scoped>\n",
       "    .dataframe tbody tr th:only-of-type {\n",
       "        vertical-align: middle;\n",
       "    }\n",
       "\n",
       "    .dataframe tbody tr th {\n",
       "        vertical-align: top;\n",
       "    }\n",
       "\n",
       "    .dataframe thead th {\n",
       "        text-align: right;\n",
       "    }\n",
       "</style>\n",
       "<table border=\"1\" class=\"dataframe\">\n",
       "  <thead>\n",
       "    <tr style=\"text-align: right;\">\n",
       "      <th></th>\n",
       "      <th>High</th>\n",
       "      <th>Date</th>\n",
       "    </tr>\n",
       "  </thead>\n",
       "  <tbody>\n",
       "    <tr>\n",
       "      <th>2122</th>\n",
       "      <td>507.0</td>\n",
       "      <td>2008-10-02</td>\n",
       "    </tr>\n",
       "    <tr>\n",
       "      <th>2121</th>\n",
       "      <td>503.5</td>\n",
       "      <td>2008-10-01</td>\n",
       "    </tr>\n",
       "    <tr>\n",
       "      <th>2123</th>\n",
       "      <td>503.0</td>\n",
       "      <td>2008-10-03</td>\n",
       "    </tr>\n",
       "    <tr>\n",
       "      <th>2124</th>\n",
       "      <td>481.0</td>\n",
       "      <td>2008-10-06</td>\n",
       "    </tr>\n",
       "    <tr>\n",
       "      <th>2125</th>\n",
       "      <td>477.5</td>\n",
       "      <td>2008-10-07</td>\n",
       "    </tr>\n",
       "  </tbody>\n",
       "</table>\n",
       "</div>"
      ],
      "text/plain": [
       "       High       Date\n",
       "2122  507.0 2008-10-02\n",
       "2121  503.5 2008-10-01\n",
       "2123  503.0 2008-10-03\n",
       "2124  481.0 2008-10-06\n",
       "2125  477.5 2008-10-07"
      ]
     },
     "execution_count": 12,
     "metadata": {},
     "output_type": "execute_result"
    }
   ],
   "source": [
    "(\n",
    "    df\n",
    "    .loc[(df['year'] == 2008) & (df['month'] == 'October'), ['High', 'Date']]\n",
    "    .sort_values(by='High', ascending=False)\n",
    "    .head(5)\n",
    ")"
   ]
  },
  {
   "cell_type": "code",
   "execution_count": 13,
   "metadata": {},
   "outputs": [
    {
     "data": {
      "text/html": [
       "<div>\n",
       "<style scoped>\n",
       "    .dataframe tbody tr th:only-of-type {\n",
       "        vertical-align: middle;\n",
       "    }\n",
       "\n",
       "    .dataframe tbody tr th {\n",
       "        vertical-align: top;\n",
       "    }\n",
       "\n",
       "    .dataframe thead th {\n",
       "        text-align: right;\n",
       "    }\n",
       "</style>\n",
       "<table border=\"1\" class=\"dataframe\">\n",
       "  <thead>\n",
       "    <tr style=\"text-align: right;\">\n",
       "      <th></th>\n",
       "      <th>Low</th>\n",
       "      <th>Date</th>\n",
       "    </tr>\n",
       "  </thead>\n",
       "  <tbody>\n",
       "    <tr>\n",
       "      <th>2139</th>\n",
       "      <td>369.75</td>\n",
       "      <td>2008-10-27</td>\n",
       "    </tr>\n",
       "    <tr>\n",
       "      <th>2138</th>\n",
       "      <td>372.75</td>\n",
       "      <td>2008-10-24</td>\n",
       "    </tr>\n",
       "    <tr>\n",
       "      <th>2132</th>\n",
       "      <td>384.50</td>\n",
       "      <td>2008-10-16</td>\n",
       "    </tr>\n",
       "    <tr>\n",
       "      <th>2140</th>\n",
       "      <td>387.75</td>\n",
       "      <td>2008-10-28</td>\n",
       "    </tr>\n",
       "    <tr>\n",
       "      <th>2128</th>\n",
       "      <td>388.75</td>\n",
       "      <td>2008-10-10</td>\n",
       "    </tr>\n",
       "  </tbody>\n",
       "</table>\n",
       "</div>"
      ],
      "text/plain": [
       "         Low       Date\n",
       "2139  369.75 2008-10-27\n",
       "2138  372.75 2008-10-24\n",
       "2132  384.50 2008-10-16\n",
       "2140  387.75 2008-10-28\n",
       "2128  388.75 2008-10-10"
      ]
     },
     "execution_count": 13,
     "metadata": {},
     "output_type": "execute_result"
    }
   ],
   "source": [
    "(\n",
    "    df\n",
    "    .loc[(df['year'] == 2008) & (df['month'] == 'October'), ['Low', 'Date']]\n",
    "    .sort_values(by='Low', ascending=True)\n",
    "    .head(5)\n",
    ")"
   ]
  },
  {
   "cell_type": "markdown",
   "metadata": {},
   "source": [
    "We see that the highest price in October 2008 was £6,314.50 on the 1st and the lowest price was £3,665.21 on the 27th."
   ]
  },
  {
   "cell_type": "markdown",
   "metadata": {},
   "source": [
    "## Strategy - 10 day Average lows\n",
    "\n",
    "There is no way to predict that the price would've dropped down to 3665 at the end of the month. However, what if we took the average lows for the first 10 days of October and put a limit order of anything below that average price. Would we have gotten a better price? \n",
    "\n",
    "Lets find out!"
   ]
  },
  {
   "cell_type": "code",
   "execution_count": 14,
   "metadata": {},
   "outputs": [
    {
     "name": "stdout",
     "output_type": "stream",
     "text": [
      "Average lowest price in first 10 days of October: £446.48\n"
     ]
    }
   ],
   "source": [
    "avg_low = (\n",
    "    df\n",
    "    .loc[(df['year'] == 2008) & (df['month'] == 'October'), ['Date', 'Low']]\n",
    "    .iloc[:10]\n",
    "    .loc[:, 'Low']\n",
    "    .mean()\n",
    "    .round(2)\n",
    ")\n",
    "\n",
    "print('Average lowest price in first 10 days of October: £{:,}'.format(avg_low))"
   ]
  },
  {
   "cell_type": "markdown",
   "metadata": {},
   "source": [
    "#### Lets now check the daily average difference between high and low price in the first 10 days of October"
   ]
  },
  {
   "cell_type": "code",
   "execution_count": 15,
   "metadata": {},
   "outputs": [
    {
     "data": {
      "text/html": [
       "<div>\n",
       "<style scoped>\n",
       "    .dataframe tbody tr th:only-of-type {\n",
       "        vertical-align: middle;\n",
       "    }\n",
       "\n",
       "    .dataframe tbody tr th {\n",
       "        vertical-align: top;\n",
       "    }\n",
       "\n",
       "    .dataframe thead th {\n",
       "        text-align: right;\n",
       "    }\n",
       "</style>\n",
       "<table border=\"1\" class=\"dataframe\">\n",
       "  <thead>\n",
       "    <tr style=\"text-align: right;\">\n",
       "      <th></th>\n",
       "      <th>Date</th>\n",
       "      <th>High</th>\n",
       "      <th>Low</th>\n",
       "      <th>high_low_diff</th>\n",
       "    </tr>\n",
       "  </thead>\n",
       "  <tbody>\n",
       "    <tr>\n",
       "      <th>2121</th>\n",
       "      <td>2008-10-01</td>\n",
       "      <td>503.5</td>\n",
       "      <td>491.75</td>\n",
       "      <td>2.39</td>\n",
       "    </tr>\n",
       "    <tr>\n",
       "      <th>2122</th>\n",
       "      <td>2008-10-02</td>\n",
       "      <td>507.0</td>\n",
       "      <td>489.75</td>\n",
       "      <td>3.52</td>\n",
       "    </tr>\n",
       "    <tr>\n",
       "      <th>2123</th>\n",
       "      <td>2008-10-03</td>\n",
       "      <td>503.0</td>\n",
       "      <td>485.00</td>\n",
       "      <td>3.71</td>\n",
       "    </tr>\n",
       "    <tr>\n",
       "      <th>2124</th>\n",
       "      <td>2008-10-06</td>\n",
       "      <td>481.0</td>\n",
       "      <td>457.25</td>\n",
       "      <td>5.19</td>\n",
       "    </tr>\n",
       "    <tr>\n",
       "      <th>2125</th>\n",
       "      <td>2008-10-07</td>\n",
       "      <td>477.5</td>\n",
       "      <td>454.00</td>\n",
       "      <td>5.18</td>\n",
       "    </tr>\n",
       "  </tbody>\n",
       "</table>\n",
       "</div>"
      ],
      "text/plain": [
       "           Date   High     Low  high_low_diff\n",
       "2121 2008-10-01  503.5  491.75           2.39\n",
       "2122 2008-10-02  507.0  489.75           3.52\n",
       "2123 2008-10-03  503.0  485.00           3.71\n",
       "2124 2008-10-06  481.0  457.25           5.19\n",
       "2125 2008-10-07  477.5  454.00           5.18"
      ]
     },
     "execution_count": 15,
     "metadata": {},
     "output_type": "execute_result"
    }
   ],
   "source": [
    "agg_df = (\n",
    "    df\n",
    "    .loc[(df['year'] == 2008) & (df['month'] == 'October')]\n",
    "    .iloc[:10]\n",
    "    .loc[:, ['Date', 'High', 'Low']]\n",
    ")\n",
    "\n",
    "agg_df['high_low_diff'] = utils.get_high_low_difference(agg_df['High'], agg_df['Low'])\n",
    "\n",
    "agg_df.head(5)"
   ]
  },
  {
   "cell_type": "code",
   "execution_count": 16,
   "metadata": {},
   "outputs": [
    {
     "name": "stdout",
     "output_type": "stream",
     "text": [
      "The average % difference between high and low during the first 10 days of october: 5.572%\n"
     ]
    }
   ],
   "source": [
    "mean_diff = agg_df['high_low_diff'].mean()\n",
    "\n",
    "print('The average % difference between high and low during the first 10 days of october: {}%'.format(mean_diff))"
   ]
  },
  {
   "cell_type": "code",
   "execution_count": null,
   "metadata": {},
   "outputs": [],
   "source": []
  },
  {
   "cell_type": "code",
   "execution_count": null,
   "metadata": {},
   "outputs": [],
   "source": []
  },
  {
   "cell_type": "code",
   "execution_count": null,
   "metadata": {},
   "outputs": [],
   "source": []
  },
  {
   "cell_type": "markdown",
   "metadata": {},
   "source": [
    "### Days with the highest difference between Open and Close Price (%)"
   ]
  },
  {
   "cell_type": "code",
   "execution_count": 19,
   "metadata": {},
   "outputs": [],
   "source": [
    "df['open_close_diff'] = round(((df['Close'] - df['Open'])/df['Open']) * 100, 2)"
   ]
  },
  {
   "cell_type": "markdown",
   "metadata": {},
   "source": [
    "#### Biggest decrease between open and close"
   ]
  },
  {
   "cell_type": "code",
   "execution_count": 20,
   "metadata": {},
   "outputs": [
    {
     "data": {
      "text/html": [
       "<div>\n",
       "<style scoped>\n",
       "    .dataframe tbody tr th:only-of-type {\n",
       "        vertical-align: middle;\n",
       "    }\n",
       "\n",
       "    .dataframe tbody tr th {\n",
       "        vertical-align: top;\n",
       "    }\n",
       "\n",
       "    .dataframe thead th {\n",
       "        text-align: right;\n",
       "    }\n",
       "</style>\n",
       "<table border=\"1\" class=\"dataframe\">\n",
       "  <thead>\n",
       "    <tr style=\"text-align: right;\">\n",
       "      <th></th>\n",
       "      <th>Date</th>\n",
       "      <th>Open</th>\n",
       "      <th>High</th>\n",
       "      <th>Low</th>\n",
       "      <th>Close</th>\n",
       "      <th>Volume</th>\n",
       "      <th>month</th>\n",
       "      <th>year</th>\n",
       "      <th>dat_name</th>\n",
       "      <th>weekofyear</th>\n",
       "      <th>is_quarter_end</th>\n",
       "      <th>is_quarter_start</th>\n",
       "      <th>quarter</th>\n",
       "      <th>avg</th>\n",
       "      <th>high_low_diff</th>\n",
       "      <th>open_close_diff</th>\n",
       "    </tr>\n",
       "  </thead>\n",
       "  <tbody>\n",
       "    <tr>\n",
       "      <th>738</th>\n",
       "      <td>2003-04-03</td>\n",
       "      <td>437.50</td>\n",
       "      <td>437.50</td>\n",
       "      <td>381.00</td>\n",
       "      <td>383.5</td>\n",
       "      <td>4033746</td>\n",
       "      <td>April</td>\n",
       "      <td>2003</td>\n",
       "      <td>Thursday</td>\n",
       "      <td>14</td>\n",
       "      <td>False</td>\n",
       "      <td>False</td>\n",
       "      <td>2</td>\n",
       "      <td>409.25</td>\n",
       "      <td>14.83</td>\n",
       "      <td>-12.34</td>\n",
       "    </tr>\n",
       "    <tr>\n",
       "      <th>561</th>\n",
       "      <td>2002-07-23</td>\n",
       "      <td>398.70</td>\n",
       "      <td>404.75</td>\n",
       "      <td>350.00</td>\n",
       "      <td>350.0</td>\n",
       "      <td>1095590</td>\n",
       "      <td>July</td>\n",
       "      <td>2002</td>\n",
       "      <td>Tuesday</td>\n",
       "      <td>30</td>\n",
       "      <td>False</td>\n",
       "      <td>False</td>\n",
       "      <td>3</td>\n",
       "      <td>377.38</td>\n",
       "      <td>15.64</td>\n",
       "      <td>-12.21</td>\n",
       "    </tr>\n",
       "    <tr>\n",
       "      <th>571</th>\n",
       "      <td>2002-08-06</td>\n",
       "      <td>404.75</td>\n",
       "      <td>416.42</td>\n",
       "      <td>361.00</td>\n",
       "      <td>361.0</td>\n",
       "      <td>1296269</td>\n",
       "      <td>August</td>\n",
       "      <td>2002</td>\n",
       "      <td>Tuesday</td>\n",
       "      <td>32</td>\n",
       "      <td>False</td>\n",
       "      <td>False</td>\n",
       "      <td>3</td>\n",
       "      <td>388.71</td>\n",
       "      <td>15.35</td>\n",
       "      <td>-10.81</td>\n",
       "    </tr>\n",
       "    <tr>\n",
       "      <th>683</th>\n",
       "      <td>2003-01-15</td>\n",
       "      <td>435.31</td>\n",
       "      <td>435.31</td>\n",
       "      <td>390.25</td>\n",
       "      <td>391.5</td>\n",
       "      <td>1009264</td>\n",
       "      <td>January</td>\n",
       "      <td>2003</td>\n",
       "      <td>Wednesday</td>\n",
       "      <td>3</td>\n",
       "      <td>False</td>\n",
       "      <td>False</td>\n",
       "      <td>1</td>\n",
       "      <td>412.78</td>\n",
       "      <td>11.55</td>\n",
       "      <td>-10.06</td>\n",
       "    </tr>\n",
       "    <tr>\n",
       "      <th>583</th>\n",
       "      <td>2002-08-22</td>\n",
       "      <td>449.00</td>\n",
       "      <td>449.00</td>\n",
       "      <td>405.00</td>\n",
       "      <td>405.0</td>\n",
       "      <td>2055893</td>\n",
       "      <td>August</td>\n",
       "      <td>2002</td>\n",
       "      <td>Thursday</td>\n",
       "      <td>34</td>\n",
       "      <td>False</td>\n",
       "      <td>False</td>\n",
       "      <td>3</td>\n",
       "      <td>427.00</td>\n",
       "      <td>10.86</td>\n",
       "      <td>-9.80</td>\n",
       "    </tr>\n",
       "  </tbody>\n",
       "</table>\n",
       "</div>"
      ],
      "text/plain": [
       "          Date    Open    High     Low  Close   Volume    month  year  \\\n",
       "738 2003-04-03  437.50  437.50  381.00  383.5  4033746    April  2003   \n",
       "561 2002-07-23  398.70  404.75  350.00  350.0  1095590     July  2002   \n",
       "571 2002-08-06  404.75  416.42  361.00  361.0  1296269   August  2002   \n",
       "683 2003-01-15  435.31  435.31  390.25  391.5  1009264  January  2003   \n",
       "583 2002-08-22  449.00  449.00  405.00  405.0  2055893   August  2002   \n",
       "\n",
       "      dat_name  weekofyear  is_quarter_end  is_quarter_start  quarter     avg  \\\n",
       "738   Thursday          14           False             False        2  409.25   \n",
       "561    Tuesday          30           False             False        3  377.38   \n",
       "571    Tuesday          32           False             False        3  388.71   \n",
       "683  Wednesday           3           False             False        1  412.78   \n",
       "583   Thursday          34           False             False        3  427.00   \n",
       "\n",
       "     high_low_diff  open_close_diff  \n",
       "738          14.83           -12.34  \n",
       "561          15.64           -12.21  \n",
       "571          15.35           -10.81  \n",
       "683          11.55           -10.06  \n",
       "583          10.86            -9.80  "
      ]
     },
     "execution_count": 20,
     "metadata": {},
     "output_type": "execute_result"
    }
   ],
   "source": [
    "df.sort_values(by='open_close_diff', ascending=True).head(5)"
   ]
  },
  {
   "cell_type": "markdown",
   "metadata": {},
   "source": [
    "#### Biggest increase between open and close"
   ]
  },
  {
   "cell_type": "code",
   "execution_count": 21,
   "metadata": {},
   "outputs": [
    {
     "data": {
      "text/html": [
       "<div>\n",
       "<style scoped>\n",
       "    .dataframe tbody tr th:only-of-type {\n",
       "        vertical-align: middle;\n",
       "    }\n",
       "\n",
       "    .dataframe tbody tr th {\n",
       "        vertical-align: top;\n",
       "    }\n",
       "\n",
       "    .dataframe thead th {\n",
       "        text-align: right;\n",
       "    }\n",
       "</style>\n",
       "<table border=\"1\" class=\"dataframe\">\n",
       "  <thead>\n",
       "    <tr style=\"text-align: right;\">\n",
       "      <th></th>\n",
       "      <th>Date</th>\n",
       "      <th>Open</th>\n",
       "      <th>High</th>\n",
       "      <th>Low</th>\n",
       "      <th>Close</th>\n",
       "      <th>Volume</th>\n",
       "      <th>month</th>\n",
       "      <th>year</th>\n",
       "      <th>dat_name</th>\n",
       "      <th>weekofyear</th>\n",
       "      <th>is_quarter_end</th>\n",
       "      <th>is_quarter_start</th>\n",
       "      <th>quarter</th>\n",
       "      <th>avg</th>\n",
       "      <th>high_low_diff</th>\n",
       "      <th>open_close_diff</th>\n",
       "    </tr>\n",
       "  </thead>\n",
       "  <tbody>\n",
       "    <tr>\n",
       "      <th>1945</th>\n",
       "      <td>2008-01-22</td>\n",
       "      <td>535.00</td>\n",
       "      <td>587.00</td>\n",
       "      <td>533.0</td>\n",
       "      <td>574.25</td>\n",
       "      <td>22788832</td>\n",
       "      <td>January</td>\n",
       "      <td>2008</td>\n",
       "      <td>Tuesday</td>\n",
       "      <td>4</td>\n",
       "      <td>False</td>\n",
       "      <td>False</td>\n",
       "      <td>1</td>\n",
       "      <td>560.00</td>\n",
       "      <td>10.13</td>\n",
       "      <td>7.34</td>\n",
       "    </tr>\n",
       "    <tr>\n",
       "      <th>588</th>\n",
       "      <td>2002-08-30</td>\n",
       "      <td>424.61</td>\n",
       "      <td>460.25</td>\n",
       "      <td>419.0</td>\n",
       "      <td>460.25</td>\n",
       "      <td>1327659</td>\n",
       "      <td>August</td>\n",
       "      <td>2002</td>\n",
       "      <td>Friday</td>\n",
       "      <td>35</td>\n",
       "      <td>False</td>\n",
       "      <td>False</td>\n",
       "      <td>3</td>\n",
       "      <td>439.62</td>\n",
       "      <td>9.84</td>\n",
       "      <td>8.39</td>\n",
       "    </tr>\n",
       "    <tr>\n",
       "      <th>719</th>\n",
       "      <td>2003-03-07</td>\n",
       "      <td>360.50</td>\n",
       "      <td>394.00</td>\n",
       "      <td>350.4</td>\n",
       "      <td>394.00</td>\n",
       "      <td>2510259</td>\n",
       "      <td>March</td>\n",
       "      <td>2003</td>\n",
       "      <td>Friday</td>\n",
       "      <td>10</td>\n",
       "      <td>False</td>\n",
       "      <td>False</td>\n",
       "      <td>1</td>\n",
       "      <td>372.20</td>\n",
       "      <td>12.44</td>\n",
       "      <td>9.29</td>\n",
       "    </tr>\n",
       "    <tr>\n",
       "      <th>564</th>\n",
       "      <td>2002-07-26</td>\n",
       "      <td>361.00</td>\n",
       "      <td>406.50</td>\n",
       "      <td>361.0</td>\n",
       "      <td>395.00</td>\n",
       "      <td>1514728</td>\n",
       "      <td>July</td>\n",
       "      <td>2002</td>\n",
       "      <td>Friday</td>\n",
       "      <td>30</td>\n",
       "      <td>False</td>\n",
       "      <td>False</td>\n",
       "      <td>3</td>\n",
       "      <td>383.75</td>\n",
       "      <td>12.60</td>\n",
       "      <td>9.42</td>\n",
       "    </tr>\n",
       "    <tr>\n",
       "      <th>595</th>\n",
       "      <td>2002-09-10</td>\n",
       "      <td>407.50</td>\n",
       "      <td>457.75</td>\n",
       "      <td>407.5</td>\n",
       "      <td>457.75</td>\n",
       "      <td>1510964</td>\n",
       "      <td>September</td>\n",
       "      <td>2002</td>\n",
       "      <td>Tuesday</td>\n",
       "      <td>37</td>\n",
       "      <td>False</td>\n",
       "      <td>False</td>\n",
       "      <td>3</td>\n",
       "      <td>432.62</td>\n",
       "      <td>12.33</td>\n",
       "      <td>12.33</td>\n",
       "    </tr>\n",
       "  </tbody>\n",
       "</table>\n",
       "</div>"
      ],
      "text/plain": [
       "           Date    Open    High    Low   Close    Volume      month  year  \\\n",
       "1945 2008-01-22  535.00  587.00  533.0  574.25  22788832    January  2008   \n",
       "588  2002-08-30  424.61  460.25  419.0  460.25   1327659     August  2002   \n",
       "719  2003-03-07  360.50  394.00  350.4  394.00   2510259      March  2003   \n",
       "564  2002-07-26  361.00  406.50  361.0  395.00   1514728       July  2002   \n",
       "595  2002-09-10  407.50  457.75  407.5  457.75   1510964  September  2002   \n",
       "\n",
       "     dat_name  weekofyear  is_quarter_end  is_quarter_start  quarter     avg  \\\n",
       "1945  Tuesday           4           False             False        1  560.00   \n",
       "588    Friday          35           False             False        3  439.62   \n",
       "719    Friday          10           False             False        1  372.20   \n",
       "564    Friday          30           False             False        3  383.75   \n",
       "595   Tuesday          37           False             False        3  432.62   \n",
       "\n",
       "      high_low_diff  open_close_diff  \n",
       "1945          10.13             7.34  \n",
       "588            9.84             8.39  \n",
       "719           12.44             9.29  \n",
       "564           12.60             9.42  \n",
       "595           12.33            12.33  "
      ]
     },
     "execution_count": 21,
     "metadata": {},
     "output_type": "execute_result"
    }
   ],
   "source": [
    "df.sort_values(by='open_close_diff', ascending=True).tail(5)"
   ]
  },
  {
   "cell_type": "code",
   "execution_count": null,
   "metadata": {},
   "outputs": [],
   "source": []
  },
  {
   "cell_type": "code",
   "execution_count": null,
   "metadata": {},
   "outputs": [],
   "source": []
  },
  {
   "cell_type": "code",
   "execution_count": null,
   "metadata": {},
   "outputs": [],
   "source": []
  },
  {
   "cell_type": "code",
   "execution_count": null,
   "metadata": {},
   "outputs": [],
   "source": []
  },
  {
   "cell_type": "code",
   "execution_count": null,
   "metadata": {},
   "outputs": [],
   "source": []
  },
  {
   "cell_type": "code",
   "execution_count": null,
   "metadata": {},
   "outputs": [],
   "source": []
  },
  {
   "cell_type": "code",
   "execution_count": null,
   "metadata": {},
   "outputs": [],
   "source": []
  },
  {
   "cell_type": "code",
   "execution_count": null,
   "metadata": {},
   "outputs": [],
   "source": []
  },
  {
   "cell_type": "code",
   "execution_count": null,
   "metadata": {},
   "outputs": [],
   "source": []
  },
  {
   "cell_type": "code",
   "execution_count": null,
   "metadata": {},
   "outputs": [],
   "source": []
  },
  {
   "cell_type": "code",
   "execution_count": null,
   "metadata": {},
   "outputs": [],
   "source": []
  },
  {
   "cell_type": "code",
   "execution_count": null,
   "metadata": {},
   "outputs": [],
   "source": []
  },
  {
   "cell_type": "code",
   "execution_count": null,
   "metadata": {},
   "outputs": [],
   "source": []
  },
  {
   "cell_type": "code",
   "execution_count": null,
   "metadata": {},
   "outputs": [],
   "source": []
  },
  {
   "cell_type": "code",
   "execution_count": null,
   "metadata": {},
   "outputs": [],
   "source": []
  },
  {
   "cell_type": "code",
   "execution_count": null,
   "metadata": {},
   "outputs": [],
   "source": []
  },
  {
   "cell_type": "code",
   "execution_count": null,
   "metadata": {},
   "outputs": [],
   "source": []
  },
  {
   "cell_type": "code",
   "execution_count": null,
   "metadata": {},
   "outputs": [],
   "source": []
  },
  {
   "cell_type": "code",
   "execution_count": null,
   "metadata": {},
   "outputs": [],
   "source": []
  },
  {
   "cell_type": "code",
   "execution_count": null,
   "metadata": {},
   "outputs": [],
   "source": []
  }
 ],
 "metadata": {
  "kernelspec": {
   "display_name": "Python 3",
   "language": "python",
   "name": "python3"
  },
  "language_info": {
   "codemirror_mode": {
    "name": "ipython",
    "version": 3
   },
   "file_extension": ".py",
   "mimetype": "text/x-python",
   "name": "python",
   "nbconvert_exporter": "python",
   "pygments_lexer": "ipython3",
   "version": "3.7.4"
  }
 },
 "nbformat": 4,
 "nbformat_minor": 4
}
