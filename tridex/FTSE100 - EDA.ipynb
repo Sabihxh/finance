{
 "cells": [
  {
   "cell_type": "markdown",
   "metadata": {},
   "source": [
    "# Defensive Investment Strategy\n",
    "Investing into Indexes is a lower risk investment strategy than indivually picking out stocks. The benchmark to beat market returns is hard for even professional investors and many fund managers make worse than average returns. \n",
    "\n",
    "As a defensive investor, instead of speculating the market and trying to pick out invidual stocks, its better to invest into an index fund and get the average market return. However, instead of setting up a regular payment to invest into a fund, what if we could take advantage of trading an index fund? Or better yet, if we could also take advantage of daily price movements of indexes.\n",
    "\n",
    "The index ETFs might be one way to do this, as they allow investors to place limit orders on major indexes such as FTSE 100, S&P 500 etc. We need a strategy to take advantage of price swings on indexs.\n",
    "\n",
    "\n",
    "### Quest to find an optimum strategy to invest £25,000 a year into index tracking ETFs\n",
    "\n",
    "Stocks and Shares ISA account allows £20,000 and \n",
    "Lifetime ISA allows £4,000 (+£1,000 government bonus) to be invested annually\n",
    "tax free. This gives us a total of £25,000 to be invested tax free.\n",
    "\n",
    "The goal is to use **pound cost averaging** strategy alongside another strategy to\n",
    "get the same or higher returns than the FTSE 100 average return. If these strategies work,\n",
    "then they can be extended to other indexes like S&P 500 etc. to diversify the portfolio.\n",
    "\n",
    "The idea is to invest 10-20 times a year, at the right time, in index tracking\n",
    "ETF's, as well as take advantage of daily price swings, then we can at the **minimum** keep \n",
    "up with the average market return.\n",
    "\n",
    "\n",
    "**Benchmark:**\n",
    "Our benchmark is investing into index funds once a month on a random day e.g. \n",
    "28th of every month in FTSE 100.\n",
    "\n",
    "\n",
    "#### The main challenge\n",
    "The hard part of this strategy is to beat the benchmark despite the higher dealing charges and fees of trading ETFs. Low cost index fund for FTSE 100 have an ongoing annual charge of 0.06% with £0 cost to buy or sell. On the other hand, investing into ETF's cost £10 (AJBell) to buy and £10 to sell, as well as an ongoing annual charge of \n",
    "0.07%. This means that our trading strategy needs to give us atleast slightly better return to cover the dealing cost,\n",
    "otherwise, we might do slightly worse than the market.\n",
    "\n",
    "\n",
    "#### Summary\n",
    "\n",
    "- Invest £1,250 to £2,500 per trade.\n",
    "- Invest 10-20 throughout the year (pound cost averaging).\n",
    "- Predict the price movement of FTSE 100 continously and invest once every 20-60 day period.\n",
    "- Come up with a strategy to take advantage of daily price movements.\n",
    "- Find a strategy to sell (not urgent as we're investing for mid/long term).\n",
    "\n"
   ]
  },
  {
   "cell_type": "markdown",
   "metadata": {},
   "source": [
    "## FTSE 100 - EDA"
   ]
  },
  {
   "cell_type": "code",
   "execution_count": 1,
   "metadata": {},
   "outputs": [],
   "source": [
    "import pandas as pd\n",
    "\n",
    "import utils"
   ]
  },
  {
   "cell_type": "code",
   "execution_count": 2,
   "metadata": {},
   "outputs": [],
   "source": [
    "df = pd.read_csv('../data/raw/download.csv')"
   ]
  },
  {
   "cell_type": "markdown",
   "metadata": {},
   "source": [
    "### Cleaning up data"
   ]
  },
  {
   "cell_type": "code",
   "execution_count": 3,
   "metadata": {},
   "outputs": [],
   "source": [
    "sheet = '{}{}{}'.format('https://docs.google.com/spreadsheets/d/',\n",
    "                        '10cihRP6XxJOSrWsASfW5C7VeHufD32TS0JKCXLoWhL8',\n",
    "                        '/export?gid=0&format=csv')"
   ]
  },
  {
   "cell_type": "code",
   "execution_count": 4,
   "metadata": {},
   "outputs": [],
   "source": [
    "df = pd.read_csv(sheet)"
   ]
  },
  {
   "cell_type": "code",
   "execution_count": 5,
   "metadata": {},
   "outputs": [
    {
     "data": {
      "text/html": [
       "<div>\n",
       "<style scoped>\n",
       "    .dataframe tbody tr th:only-of-type {\n",
       "        vertical-align: middle;\n",
       "    }\n",
       "\n",
       "    .dataframe tbody tr th {\n",
       "        vertical-align: top;\n",
       "    }\n",
       "\n",
       "    .dataframe thead th {\n",
       "        text-align: right;\n",
       "    }\n",
       "</style>\n",
       "<table border=\"1\" class=\"dataframe\">\n",
       "  <thead>\n",
       "    <tr style=\"text-align: right;\">\n",
       "      <th></th>\n",
       "      <th>Date</th>\n",
       "      <th>Unnamed: 1</th>\n",
       "      <th>High</th>\n",
       "      <th>Low</th>\n",
       "      <th>Close</th>\n",
       "      <th>Volume</th>\n",
       "    </tr>\n",
       "  </thead>\n",
       "  <tbody>\n",
       "    <tr>\n",
       "      <th>0</th>\n",
       "      <td>02/01/1990 16:30:00</td>\n",
       "      <td>2442.4</td>\n",
       "      <td>2443.3</td>\n",
       "      <td>2425.5</td>\n",
       "      <td>2434.1</td>\n",
       "      <td>0</td>\n",
       "    </tr>\n",
       "    <tr>\n",
       "      <th>1</th>\n",
       "      <td>03/01/1990 16:30:00</td>\n",
       "      <td>2451.3</td>\n",
       "      <td>2466.2</td>\n",
       "      <td>2445.8</td>\n",
       "      <td>2463.7</td>\n",
       "      <td>0</td>\n",
       "    </tr>\n",
       "  </tbody>\n",
       "</table>\n",
       "</div>"
      ],
      "text/plain": [
       "                  Date  Unnamed: 1    High     Low   Close  Volume\n",
       "0  02/01/1990 16:30:00      2442.4  2443.3  2425.5  2434.1       0\n",
       "1  03/01/1990 16:30:00      2451.3  2466.2  2445.8  2463.7       0"
      ]
     },
     "execution_count": 5,
     "metadata": {},
     "output_type": "execute_result"
    }
   ],
   "source": [
    "df.head(2)"
   ]
  },
  {
   "cell_type": "code",
   "execution_count": 6,
   "metadata": {},
   "outputs": [],
   "source": [
    "# Rename columns\n",
    "df = df.rename(columns={'Unnamed: 1': 'Open'})\n",
    "\n",
    "# Convert to datetime\n",
    "df['Date'] = pd.to_datetime(df['Date'])\n",
    "\n",
    "# Get datetime related fields\n",
    "df['month'] = df['Date'].dt.month_name()\n",
    "df['year'] = df['Date'].dt.year\n",
    "df['dat_name'] = df['Date'].dt.day_name()\n",
    "df['weekofyear'] = df['Date'].dt.weekofyear\n",
    "df['is_quarter_end'] = df['Date'].dt.is_quarter_end\n",
    "df['is_quarter_start'] = df['Date'].dt.is_quarter_start\n",
    "df['quarter'] = df['Date'].dt.quarter"
   ]
  },
  {
   "cell_type": "code",
   "execution_count": 7,
   "metadata": {},
   "outputs": [
    {
     "data": {
      "text/html": [
       "<div>\n",
       "<style scoped>\n",
       "    .dataframe tbody tr th:only-of-type {\n",
       "        vertical-align: middle;\n",
       "    }\n",
       "\n",
       "    .dataframe tbody tr th {\n",
       "        vertical-align: top;\n",
       "    }\n",
       "\n",
       "    .dataframe thead th {\n",
       "        text-align: right;\n",
       "    }\n",
       "</style>\n",
       "<table border=\"1\" class=\"dataframe\">\n",
       "  <thead>\n",
       "    <tr style=\"text-align: right;\">\n",
       "      <th></th>\n",
       "      <th>Date</th>\n",
       "      <th>Open</th>\n",
       "      <th>High</th>\n",
       "      <th>Low</th>\n",
       "      <th>Close</th>\n",
       "      <th>Volume</th>\n",
       "      <th>month</th>\n",
       "      <th>year</th>\n",
       "      <th>dat_name</th>\n",
       "      <th>weekofyear</th>\n",
       "      <th>is_quarter_end</th>\n",
       "      <th>is_quarter_start</th>\n",
       "      <th>quarter</th>\n",
       "    </tr>\n",
       "  </thead>\n",
       "  <tbody>\n",
       "    <tr>\n",
       "      <th>7626</th>\n",
       "      <td>2020-03-18 16:30:00</td>\n",
       "      <td>5294.90</td>\n",
       "      <td>5294.90</td>\n",
       "      <td>5006.20</td>\n",
       "      <td>5080.58</td>\n",
       "      <td>0</td>\n",
       "      <td>March</td>\n",
       "      <td>2020</td>\n",
       "      <td>Wednesday</td>\n",
       "      <td>12</td>\n",
       "      <td>False</td>\n",
       "      <td>False</td>\n",
       "      <td>1</td>\n",
       "    </tr>\n",
       "    <tr>\n",
       "      <th>7627</th>\n",
       "      <td>2020-03-19 16:30:00</td>\n",
       "      <td>5080.58</td>\n",
       "      <td>5181.04</td>\n",
       "      <td>4942.37</td>\n",
       "      <td>5151.61</td>\n",
       "      <td>0</td>\n",
       "      <td>March</td>\n",
       "      <td>2020</td>\n",
       "      <td>Thursday</td>\n",
       "      <td>12</td>\n",
       "      <td>False</td>\n",
       "      <td>False</td>\n",
       "      <td>1</td>\n",
       "    </tr>\n",
       "  </tbody>\n",
       "</table>\n",
       "</div>"
      ],
      "text/plain": [
       "                    Date     Open     High      Low    Close  Volume  month  \\\n",
       "7626 2020-03-18 16:30:00  5294.90  5294.90  5006.20  5080.58       0  March   \n",
       "7627 2020-03-19 16:30:00  5080.58  5181.04  4942.37  5151.61       0  March   \n",
       "\n",
       "      year   dat_name  weekofyear  is_quarter_end  is_quarter_start  quarter  \n",
       "7626  2020  Wednesday          12           False             False        1  \n",
       "7627  2020   Thursday          12           False             False        1  "
      ]
     },
     "execution_count": 7,
     "metadata": {},
     "output_type": "execute_result"
    }
   ],
   "source": [
    "df.tail(2)"
   ]
  },
  {
   "cell_type": "markdown",
   "metadata": {},
   "source": [
    "### Days with the highest difference between high and low price (%)"
   ]
  },
  {
   "cell_type": "code",
   "execution_count": 26,
   "metadata": {},
   "outputs": [
    {
     "data": {
      "text/html": [
       "<div>\n",
       "<style scoped>\n",
       "    .dataframe tbody tr th:only-of-type {\n",
       "        vertical-align: middle;\n",
       "    }\n",
       "\n",
       "    .dataframe tbody tr th {\n",
       "        vertical-align: top;\n",
       "    }\n",
       "\n",
       "    .dataframe thead th {\n",
       "        text-align: right;\n",
       "    }\n",
       "</style>\n",
       "<table border=\"1\" class=\"dataframe\">\n",
       "  <thead>\n",
       "    <tr style=\"text-align: right;\">\n",
       "      <th></th>\n",
       "      <th>Date</th>\n",
       "      <th>Open</th>\n",
       "      <th>High</th>\n",
       "      <th>Low</th>\n",
       "      <th>Close</th>\n",
       "      <th>Volume</th>\n",
       "      <th>month</th>\n",
       "      <th>year</th>\n",
       "      <th>dat_name</th>\n",
       "      <th>weekofyear</th>\n",
       "      <th>is_quarter_end</th>\n",
       "      <th>is_quarter_start</th>\n",
       "      <th>quarter</th>\n",
       "      <th>high_low_diff</th>\n",
       "      <th>open_close_diff</th>\n",
       "    </tr>\n",
       "  </thead>\n",
       "  <tbody>\n",
       "    <tr>\n",
       "      <th>7622</th>\n",
       "      <td>2020-12-03 16:30:00</td>\n",
       "      <td>5876.52</td>\n",
       "      <td>5876.52</td>\n",
       "      <td>5237.48</td>\n",
       "      <td>5237.48</td>\n",
       "      <td>0</td>\n",
       "      <td>December</td>\n",
       "      <td>2020</td>\n",
       "      <td>Thursday</td>\n",
       "      <td>49</td>\n",
       "      <td>False</td>\n",
       "      <td>False</td>\n",
       "      <td>4</td>\n",
       "      <td>12.20</td>\n",
       "      <td>-10.87</td>\n",
       "    </tr>\n",
       "    <tr>\n",
       "      <th>4738</th>\n",
       "      <td>2008-10-10 16:30:00</td>\n",
       "      <td>4313.80</td>\n",
       "      <td>4313.80</td>\n",
       "      <td>3873.99</td>\n",
       "      <td>3932.06</td>\n",
       "      <td>0</td>\n",
       "      <td>October</td>\n",
       "      <td>2008</td>\n",
       "      <td>Friday</td>\n",
       "      <td>41</td>\n",
       "      <td>False</td>\n",
       "      <td>False</td>\n",
       "      <td>4</td>\n",
       "      <td>11.35</td>\n",
       "      <td>-8.85</td>\n",
       "    </tr>\n",
       "    <tr>\n",
       "      <th>4723</th>\n",
       "      <td>2008-09-19 16:30:00</td>\n",
       "      <td>4880.00</td>\n",
       "      <td>5351.20</td>\n",
       "      <td>4857.10</td>\n",
       "      <td>5311.30</td>\n",
       "      <td>0</td>\n",
       "      <td>September</td>\n",
       "      <td>2008</td>\n",
       "      <td>Friday</td>\n",
       "      <td>38</td>\n",
       "      <td>False</td>\n",
       "      <td>False</td>\n",
       "      <td>3</td>\n",
       "      <td>10.17</td>\n",
       "      <td>8.84</td>\n",
       "    </tr>\n",
       "    <tr>\n",
       "      <th>4748</th>\n",
       "      <td>2008-10-24 16:30:00</td>\n",
       "      <td>4087.83</td>\n",
       "      <td>4087.83</td>\n",
       "      <td>3715.24</td>\n",
       "      <td>3883.36</td>\n",
       "      <td>0</td>\n",
       "      <td>October</td>\n",
       "      <td>2008</td>\n",
       "      <td>Friday</td>\n",
       "      <td>43</td>\n",
       "      <td>False</td>\n",
       "      <td>False</td>\n",
       "      <td>4</td>\n",
       "      <td>10.03</td>\n",
       "      <td>-5.00</td>\n",
       "    </tr>\n",
       "    <tr>\n",
       "      <th>4769</th>\n",
       "      <td>2008-11-24 16:30:00</td>\n",
       "      <td>3780.96</td>\n",
       "      <td>4153.08</td>\n",
       "      <td>3780.96</td>\n",
       "      <td>4152.96</td>\n",
       "      <td>0</td>\n",
       "      <td>November</td>\n",
       "      <td>2008</td>\n",
       "      <td>Monday</td>\n",
       "      <td>48</td>\n",
       "      <td>False</td>\n",
       "      <td>False</td>\n",
       "      <td>4</td>\n",
       "      <td>9.84</td>\n",
       "      <td>9.84</td>\n",
       "    </tr>\n",
       "  </tbody>\n",
       "</table>\n",
       "</div>"
      ],
      "text/plain": [
       "                    Date     Open     High      Low    Close  Volume  \\\n",
       "7622 2020-12-03 16:30:00  5876.52  5876.52  5237.48  5237.48       0   \n",
       "4738 2008-10-10 16:30:00  4313.80  4313.80  3873.99  3932.06       0   \n",
       "4723 2008-09-19 16:30:00  4880.00  5351.20  4857.10  5311.30       0   \n",
       "4748 2008-10-24 16:30:00  4087.83  4087.83  3715.24  3883.36       0   \n",
       "4769 2008-11-24 16:30:00  3780.96  4153.08  3780.96  4152.96       0   \n",
       "\n",
       "          month  year  dat_name  weekofyear  is_quarter_end  is_quarter_start  \\\n",
       "7622   December  2020  Thursday          49           False             False   \n",
       "4738    October  2008    Friday          41           False             False   \n",
       "4723  September  2008    Friday          38           False             False   \n",
       "4748    October  2008    Friday          43           False             False   \n",
       "4769   November  2008    Monday          48           False             False   \n",
       "\n",
       "      quarter  high_low_diff  open_close_diff  \n",
       "7622        4          12.20           -10.87  \n",
       "4738        4          11.35            -8.85  \n",
       "4723        3          10.17             8.84  \n",
       "4748        4          10.03            -5.00  \n",
       "4769        4           9.84             9.84  "
      ]
     },
     "execution_count": 26,
     "metadata": {},
     "output_type": "execute_result"
    }
   ],
   "source": [
    "df['high_low_diff'] = round(((df['High'] - df['Low'])/df['Low']) * 100, 2)\n",
    "df.sort_values(by='high_low_diff', ascending=False).head(5)"
   ]
  },
  {
   "cell_type": "code",
   "execution_count": 9,
   "metadata": {},
   "outputs": [
    {
     "name": "stdout",
     "output_type": "stream",
     "text": [
      "Mean difference between daily high and low over the last 20 year: 1.28%\n"
     ]
    }
   ],
   "source": [
    "p = 'Mean difference between daily high and low over the last 20 year: {}%'.format(df['high_low_diff'].mean().round(2))\n",
    "print(p)"
   ]
  },
  {
   "cell_type": "markdown",
   "metadata": {},
   "source": [
    "### High/Low difference by month"
   ]
  },
  {
   "cell_type": "code",
   "execution_count": 10,
   "metadata": {},
   "outputs": [],
   "source": [
    "agg_df = (\n",
    "    df[['year', 'month', 'High', 'Low']]\n",
    "    .groupby(['year', 'month'])\n",
    "    .agg({'High': 'max', 'Low': 'min'})\n",
    "    .reset_index()\n",
    "    )\n",
    "\n",
    "agg_df['high_low_diff'] = round(((agg_df['High'] - agg_df['Low'])/agg_df['Low']) * 100, 2)"
   ]
  },
  {
   "cell_type": "code",
   "execution_count": 11,
   "metadata": {},
   "outputs": [
    {
     "data": {
      "text/html": [
       "<div>\n",
       "<style scoped>\n",
       "    .dataframe tbody tr th:only-of-type {\n",
       "        vertical-align: middle;\n",
       "    }\n",
       "\n",
       "    .dataframe tbody tr th {\n",
       "        vertical-align: top;\n",
       "    }\n",
       "\n",
       "    .dataframe thead th {\n",
       "        text-align: right;\n",
       "    }\n",
       "</style>\n",
       "<table border=\"1\" class=\"dataframe\">\n",
       "  <thead>\n",
       "    <tr style=\"text-align: right;\">\n",
       "      <th></th>\n",
       "      <th>year</th>\n",
       "      <th>month</th>\n",
       "      <th>High</th>\n",
       "      <th>Low</th>\n",
       "      <th>high_low_diff</th>\n",
       "    </tr>\n",
       "  </thead>\n",
       "  <tbody>\n",
       "    <tr>\n",
       "      <th>226</th>\n",
       "      <td>2008</td>\n",
       "      <td>October</td>\n",
       "      <td>6314.50</td>\n",
       "      <td>3665.21</td>\n",
       "      <td>72.28</td>\n",
       "    </tr>\n",
       "    <tr>\n",
       "      <th>225</th>\n",
       "      <td>2008</td>\n",
       "      <td>November</td>\n",
       "      <td>6251.80</td>\n",
       "      <td>3734.07</td>\n",
       "      <td>67.43</td>\n",
       "    </tr>\n",
       "    <tr>\n",
       "      <th>219</th>\n",
       "      <td>2008</td>\n",
       "      <td>February</td>\n",
       "      <td>6512.30</td>\n",
       "      <td>3973.26</td>\n",
       "      <td>63.90</td>\n",
       "    </tr>\n",
       "    <tr>\n",
       "      <th>223</th>\n",
       "      <td>2008</td>\n",
       "      <td>March</td>\n",
       "      <td>6487.80</td>\n",
       "      <td>4042.31</td>\n",
       "      <td>60.50</td>\n",
       "    </tr>\n",
       "    <tr>\n",
       "      <th>216</th>\n",
       "      <td>2008</td>\n",
       "      <td>April</td>\n",
       "      <td>6534.70</td>\n",
       "      <td>4090.04</td>\n",
       "      <td>59.77</td>\n",
       "    </tr>\n",
       "    <tr>\n",
       "      <th>224</th>\n",
       "      <td>2008</td>\n",
       "      <td>May</td>\n",
       "      <td>6377.00</td>\n",
       "      <td>4002.21</td>\n",
       "      <td>59.34</td>\n",
       "    </tr>\n",
       "    <tr>\n",
       "      <th>367</th>\n",
       "      <td>2020</td>\n",
       "      <td>March</td>\n",
       "      <td>7626.41</td>\n",
       "      <td>4898.79</td>\n",
       "      <td>55.68</td>\n",
       "    </tr>\n",
       "    <tr>\n",
       "      <th>220</th>\n",
       "      <td>2008</td>\n",
       "      <td>January</td>\n",
       "      <td>6247.30</td>\n",
       "      <td>4038.45</td>\n",
       "      <td>54.70</td>\n",
       "    </tr>\n",
       "    <tr>\n",
       "      <th>235</th>\n",
       "      <td>2009</td>\n",
       "      <td>March</td>\n",
       "      <td>5372.18</td>\n",
       "      <td>3497.27</td>\n",
       "      <td>53.61</td>\n",
       "    </tr>\n",
       "    <tr>\n",
       "      <th>228</th>\n",
       "      <td>2009</td>\n",
       "      <td>April</td>\n",
       "      <td>5373.21</td>\n",
       "      <td>3512.09</td>\n",
       "      <td>52.99</td>\n",
       "    </tr>\n",
       "  </tbody>\n",
       "</table>\n",
       "</div>"
      ],
      "text/plain": [
       "     year     month     High      Low  high_low_diff\n",
       "226  2008   October  6314.50  3665.21          72.28\n",
       "225  2008  November  6251.80  3734.07          67.43\n",
       "219  2008  February  6512.30  3973.26          63.90\n",
       "223  2008     March  6487.80  4042.31          60.50\n",
       "216  2008     April  6534.70  4090.04          59.77\n",
       "224  2008       May  6377.00  4002.21          59.34\n",
       "367  2020     March  7626.41  4898.79          55.68\n",
       "220  2008   January  6247.30  4038.45          54.70\n",
       "235  2009     March  5372.18  3497.27          53.61\n",
       "228  2009     April  5373.21  3512.09          52.99"
      ]
     },
     "execution_count": 11,
     "metadata": {},
     "output_type": "execute_result"
    }
   ],
   "source": [
    "agg_df.sort_values(by='high_low_diff', ascending=False).head(10)"
   ]
  },
  {
   "cell_type": "markdown",
   "metadata": {},
   "source": [
    "#### FTSE 100 in October 2008\n",
    "\n",
    "We see that during October 2008, the highest price was 6314 and the lowest 3665, which a percentage difference of a massive 72%!!!"
   ]
  },
  {
   "cell_type": "markdown",
   "metadata": {},
   "source": [
    "#### Dates of highest high and lowest low in October 2008"
   ]
  },
  {
   "cell_type": "code",
   "execution_count": 12,
   "metadata": {},
   "outputs": [
    {
     "data": {
      "text/html": [
       "<div>\n",
       "<style scoped>\n",
       "    .dataframe tbody tr th:only-of-type {\n",
       "        vertical-align: middle;\n",
       "    }\n",
       "\n",
       "    .dataframe tbody tr th {\n",
       "        vertical-align: top;\n",
       "    }\n",
       "\n",
       "    .dataframe thead th {\n",
       "        text-align: right;\n",
       "    }\n",
       "</style>\n",
       "<table border=\"1\" class=\"dataframe\">\n",
       "  <thead>\n",
       "    <tr style=\"text-align: right;\">\n",
       "      <th></th>\n",
       "      <th>High</th>\n",
       "      <th>Date</th>\n",
       "    </tr>\n",
       "  </thead>\n",
       "  <tbody>\n",
       "    <tr>\n",
       "      <th>4547</th>\n",
       "      <td>6314.5</td>\n",
       "      <td>2008-10-01 16:30:00</td>\n",
       "    </tr>\n",
       "    <tr>\n",
       "      <th>4610</th>\n",
       "      <td>6003.2</td>\n",
       "      <td>2008-10-04 16:30:00</td>\n",
       "    </tr>\n",
       "    <tr>\n",
       "      <th>4651</th>\n",
       "      <td>5877.6</td>\n",
       "      <td>2008-10-06 16:30:00</td>\n",
       "    </tr>\n",
       "    <tr>\n",
       "      <th>4589</th>\n",
       "      <td>5718.8</td>\n",
       "      <td>2008-10-03 16:30:00</td>\n",
       "    </tr>\n",
       "    <tr>\n",
       "      <th>4673</th>\n",
       "      <td>5529.6</td>\n",
       "      <td>2008-10-07 16:30:00</td>\n",
       "    </tr>\n",
       "  </tbody>\n",
       "</table>\n",
       "</div>"
      ],
      "text/plain": [
       "        High                Date\n",
       "4547  6314.5 2008-10-01 16:30:00\n",
       "4610  6003.2 2008-10-04 16:30:00\n",
       "4651  5877.6 2008-10-06 16:30:00\n",
       "4589  5718.8 2008-10-03 16:30:00\n",
       "4673  5529.6 2008-10-07 16:30:00"
      ]
     },
     "execution_count": 12,
     "metadata": {},
     "output_type": "execute_result"
    }
   ],
   "source": [
    "(\n",
    "    df\n",
    "    .loc[(df['year'] == 2008) & (df['month'] == 'October'), ['High', 'Date']]\n",
    "    .sort_values(by='High', ascending=False)\n",
    "    .head(5)\n",
    ")"
   ]
  },
  {
   "cell_type": "code",
   "execution_count": 13,
   "metadata": {},
   "outputs": [
    {
     "data": {
      "text/html": [
       "<div>\n",
       "<style scoped>\n",
       "    .dataframe tbody tr th:only-of-type {\n",
       "        vertical-align: middle;\n",
       "    }\n",
       "\n",
       "    .dataframe tbody tr th {\n",
       "        vertical-align: top;\n",
       "    }\n",
       "\n",
       "    .dataframe thead th {\n",
       "        text-align: right;\n",
       "    }\n",
       "</style>\n",
       "<table border=\"1\" class=\"dataframe\">\n",
       "  <thead>\n",
       "    <tr style=\"text-align: right;\">\n",
       "      <th></th>\n",
       "      <th>Low</th>\n",
       "      <th>Date</th>\n",
       "    </tr>\n",
       "  </thead>\n",
       "  <tbody>\n",
       "    <tr>\n",
       "      <th>4749</th>\n",
       "      <td>3665.21</td>\n",
       "      <td>2008-10-27 16:30:00</td>\n",
       "    </tr>\n",
       "    <tr>\n",
       "      <th>4748</th>\n",
       "      <td>3715.24</td>\n",
       "      <td>2008-10-24 16:30:00</td>\n",
       "    </tr>\n",
       "    <tr>\n",
       "      <th>4750</th>\n",
       "      <td>3847.55</td>\n",
       "      <td>2008-10-28 16:30:00</td>\n",
       "    </tr>\n",
       "    <tr>\n",
       "      <th>4742</th>\n",
       "      <td>3861.39</td>\n",
       "      <td>2008-10-16 16:30:00</td>\n",
       "    </tr>\n",
       "    <tr>\n",
       "      <th>4738</th>\n",
       "      <td>3873.99</td>\n",
       "      <td>2008-10-10 16:30:00</td>\n",
       "    </tr>\n",
       "  </tbody>\n",
       "</table>\n",
       "</div>"
      ],
      "text/plain": [
       "          Low                Date\n",
       "4749  3665.21 2008-10-27 16:30:00\n",
       "4748  3715.24 2008-10-24 16:30:00\n",
       "4750  3847.55 2008-10-28 16:30:00\n",
       "4742  3861.39 2008-10-16 16:30:00\n",
       "4738  3873.99 2008-10-10 16:30:00"
      ]
     },
     "execution_count": 13,
     "metadata": {},
     "output_type": "execute_result"
    }
   ],
   "source": [
    "(\n",
    "    df\n",
    "    .loc[(df['year'] == 2008) & (df['month'] == 'October'), ['Low', 'Date']]\n",
    "    .sort_values(by='Low', ascending=True)\n",
    "    .head(5)\n",
    ")"
   ]
  },
  {
   "cell_type": "markdown",
   "metadata": {},
   "source": [
    "We see that the highest price in October 2008 was £6,314.50 on the 1st and the lowest price was £3,665.21 on the 27th."
   ]
  },
  {
   "cell_type": "markdown",
   "metadata": {},
   "source": [
    "## Strategy - 10 day Average lows\n",
    "\n",
    "There is no way to predict that the price would've dropped down to 3665 at the end of the month. However, what if we took the average lows for the first 10 days of October and put a limit order of anything below that average price. Would we have gotten a better price? \n",
    "\n",
    "Lets find out!"
   ]
  },
  {
   "cell_type": "code",
   "execution_count": 14,
   "metadata": {},
   "outputs": [
    {
     "name": "stdout",
     "output_type": "stream",
     "text": [
      "Average lowest price in first 10 days of October: £5,038.78\n"
     ]
    }
   ],
   "source": [
    "avg_low = (\n",
    "    df\n",
    "    .loc[(df['year'] == 2008) & (df['month'] == 'October'), ['Date', 'Low']]\n",
    "    .iloc[:10]\n",
    "    .loc[:, 'Low']\n",
    "    .mean()\n",
    "    .round(2)\n",
    ")\n",
    "\n",
    "print('Average lowest price in first 10 days of October: £{:,}'.format(avg_low))"
   ]
  },
  {
   "cell_type": "markdown",
   "metadata": {},
   "source": [
    "#### Lets now check the daily average difference between high and low price in the first 10 days of October"
   ]
  },
  {
   "cell_type": "code",
   "execution_count": 27,
   "metadata": {},
   "outputs": [
    {
     "data": {
      "text/html": [
       "<div>\n",
       "<style scoped>\n",
       "    .dataframe tbody tr th:only-of-type {\n",
       "        vertical-align: middle;\n",
       "    }\n",
       "\n",
       "    .dataframe tbody tr th {\n",
       "        vertical-align: top;\n",
       "    }\n",
       "\n",
       "    .dataframe thead th {\n",
       "        text-align: right;\n",
       "    }\n",
       "</style>\n",
       "<table border=\"1\" class=\"dataframe\">\n",
       "  <thead>\n",
       "    <tr style=\"text-align: right;\">\n",
       "      <th></th>\n",
       "      <th>Date</th>\n",
       "      <th>High</th>\n",
       "      <th>Low</th>\n",
       "      <th>high_low_diff</th>\n",
       "    </tr>\n",
       "  </thead>\n",
       "  <tbody>\n",
       "    <tr>\n",
       "      <th>4547</th>\n",
       "      <td>2008-10-01 16:30:00</td>\n",
       "      <td>6314.5</td>\n",
       "      <td>6213.0</td>\n",
       "      <td>1.63</td>\n",
       "    </tr>\n",
       "    <tr>\n",
       "      <th>4589</th>\n",
       "      <td>2008-10-03 16:30:00</td>\n",
       "      <td>5718.8</td>\n",
       "      <td>5616.6</td>\n",
       "      <td>1.82</td>\n",
       "    </tr>\n",
       "    <tr>\n",
       "      <th>4610</th>\n",
       "      <td>2008-10-04 16:30:00</td>\n",
       "      <td>6003.2</td>\n",
       "      <td>5881.9</td>\n",
       "      <td>2.06</td>\n",
       "    </tr>\n",
       "    <tr>\n",
       "      <th>4651</th>\n",
       "      <td>2008-10-06 16:30:00</td>\n",
       "      <td>5877.6</td>\n",
       "      <td>5813.4</td>\n",
       "      <td>1.10</td>\n",
       "    </tr>\n",
       "    <tr>\n",
       "      <th>4673</th>\n",
       "      <td>2008-10-07 16:30:00</td>\n",
       "      <td>5529.6</td>\n",
       "      <td>5392.6</td>\n",
       "      <td>2.54</td>\n",
       "    </tr>\n",
       "  </tbody>\n",
       "</table>\n",
       "</div>"
      ],
      "text/plain": [
       "                    Date    High     Low  high_low_diff\n",
       "4547 2008-10-01 16:30:00  6314.5  6213.0           1.63\n",
       "4589 2008-10-03 16:30:00  5718.8  5616.6           1.82\n",
       "4610 2008-10-04 16:30:00  6003.2  5881.9           2.06\n",
       "4651 2008-10-06 16:30:00  5877.6  5813.4           1.10\n",
       "4673 2008-10-07 16:30:00  5529.6  5392.6           2.54"
      ]
     },
     "execution_count": 27,
     "metadata": {},
     "output_type": "execute_result"
    }
   ],
   "source": [
    "agg_df = (\n",
    "    df\n",
    "    .loc[(df['year'] == 2008) & (df['month'] == 'October')]\n",
    "    .iloc[:10]\n",
    "    .loc[:, ['Date', 'High', 'Low']]\n",
    ")\n",
    "\n",
    "agg_df['high_low_diff'] = utils.get_high_low_difference(agg_df['High'], agg_df['Low'])\n",
    "\n",
    "agg_df.head(5)"
   ]
  },
  {
   "cell_type": "code",
   "execution_count": 31,
   "metadata": {},
   "outputs": [
    {
     "name": "stdout",
     "output_type": "stream",
     "text": [
      "The average % difference between high and low during the first 10 days of october: 3.7%\n"
     ]
    }
   ],
   "source": [
    "mean_diff = agg_df['high_low_diff'].mean()\n",
    "\n",
    "print('The average % difference between high and low during the first 10 days of october: {}%'.format(mean_diff))"
   ]
  },
  {
   "cell_type": "markdown",
   "metadata": {},
   "source": [
    "So if we now take the average low and the average high/low"
   ]
  },
  {
   "cell_type": "markdown",
   "metadata": {},
   "source": [
    "### Days with the highest difference between Open and Close Price (%)"
   ]
  },
  {
   "cell_type": "code",
   "execution_count": 16,
   "metadata": {},
   "outputs": [],
   "source": [
    "df['open_close_diff'] = round(((df['Close'] - df['Open'])/df['Open']) * 100, 2)"
   ]
  },
  {
   "cell_type": "markdown",
   "metadata": {},
   "source": [
    "#### Biggest decrease between open and close"
   ]
  },
  {
   "cell_type": "code",
   "execution_count": 17,
   "metadata": {},
   "outputs": [
    {
     "data": {
      "text/html": [
       "<div>\n",
       "<style scoped>\n",
       "    .dataframe tbody tr th:only-of-type {\n",
       "        vertical-align: middle;\n",
       "    }\n",
       "\n",
       "    .dataframe tbody tr th {\n",
       "        vertical-align: top;\n",
       "    }\n",
       "\n",
       "    .dataframe thead th {\n",
       "        text-align: right;\n",
       "    }\n",
       "</style>\n",
       "<table border=\"1\" class=\"dataframe\">\n",
       "  <thead>\n",
       "    <tr style=\"text-align: right;\">\n",
       "      <th></th>\n",
       "      <th>Date</th>\n",
       "      <th>Open</th>\n",
       "      <th>High</th>\n",
       "      <th>Low</th>\n",
       "      <th>Close</th>\n",
       "      <th>Volume</th>\n",
       "      <th>month</th>\n",
       "      <th>year</th>\n",
       "      <th>dat_name</th>\n",
       "      <th>weekofyear</th>\n",
       "      <th>is_quarter_end</th>\n",
       "      <th>is_quarter_start</th>\n",
       "      <th>quarter</th>\n",
       "      <th>high_low_diff</th>\n",
       "      <th>open_close_diff</th>\n",
       "    </tr>\n",
       "  </thead>\n",
       "  <tbody>\n",
       "    <tr>\n",
       "      <th>7622</th>\n",
       "      <td>2020-12-03 16:30:00</td>\n",
       "      <td>5876.52</td>\n",
       "      <td>5876.52</td>\n",
       "      <td>5237.48</td>\n",
       "      <td>5237.48</td>\n",
       "      <td>0</td>\n",
       "      <td>December</td>\n",
       "      <td>2020</td>\n",
       "      <td>Thursday</td>\n",
       "      <td>49</td>\n",
       "      <td>False</td>\n",
       "      <td>False</td>\n",
       "      <td>4</td>\n",
       "      <td>12.20</td>\n",
       "      <td>-10.87</td>\n",
       "    </tr>\n",
       "    <tr>\n",
       "      <th>4738</th>\n",
       "      <td>2008-10-10 16:30:00</td>\n",
       "      <td>4313.80</td>\n",
       "      <td>4313.80</td>\n",
       "      <td>3873.99</td>\n",
       "      <td>3932.06</td>\n",
       "      <td>0</td>\n",
       "      <td>October</td>\n",
       "      <td>2008</td>\n",
       "      <td>Friday</td>\n",
       "      <td>41</td>\n",
       "      <td>False</td>\n",
       "      <td>False</td>\n",
       "      <td>4</td>\n",
       "      <td>11.35</td>\n",
       "      <td>-8.85</td>\n",
       "    </tr>\n",
       "    <tr>\n",
       "      <th>4734</th>\n",
       "      <td>2008-06-10 16:30:00</td>\n",
       "      <td>4980.25</td>\n",
       "      <td>4980.25</td>\n",
       "      <td>4549.66</td>\n",
       "      <td>4589.19</td>\n",
       "      <td>0</td>\n",
       "      <td>June</td>\n",
       "      <td>2008</td>\n",
       "      <td>Tuesday</td>\n",
       "      <td>24</td>\n",
       "      <td>False</td>\n",
       "      <td>False</td>\n",
       "      <td>2</td>\n",
       "      <td>9.46</td>\n",
       "      <td>-7.85</td>\n",
       "    </tr>\n",
       "    <tr>\n",
       "      <th>7619</th>\n",
       "      <td>2020-09-03 16:30:00</td>\n",
       "      <td>6462.55</td>\n",
       "      <td>6462.55</td>\n",
       "      <td>5891.56</td>\n",
       "      <td>5965.77</td>\n",
       "      <td>0</td>\n",
       "      <td>September</td>\n",
       "      <td>2020</td>\n",
       "      <td>Thursday</td>\n",
       "      <td>36</td>\n",
       "      <td>False</td>\n",
       "      <td>False</td>\n",
       "      <td>3</td>\n",
       "      <td>9.69</td>\n",
       "      <td>-7.69</td>\n",
       "    </tr>\n",
       "    <tr>\n",
       "      <th>2957</th>\n",
       "      <td>2001-11-09 16:30:00</td>\n",
       "      <td>5033.70</td>\n",
       "      <td>5129.00</td>\n",
       "      <td>4746.00</td>\n",
       "      <td>4746.00</td>\n",
       "      <td>0</td>\n",
       "      <td>November</td>\n",
       "      <td>2001</td>\n",
       "      <td>Friday</td>\n",
       "      <td>45</td>\n",
       "      <td>False</td>\n",
       "      <td>False</td>\n",
       "      <td>4</td>\n",
       "      <td>8.07</td>\n",
       "      <td>-5.72</td>\n",
       "    </tr>\n",
       "  </tbody>\n",
       "</table>\n",
       "</div>"
      ],
      "text/plain": [
       "                    Date     Open     High      Low    Close  Volume  \\\n",
       "7622 2020-12-03 16:30:00  5876.52  5876.52  5237.48  5237.48       0   \n",
       "4738 2008-10-10 16:30:00  4313.80  4313.80  3873.99  3932.06       0   \n",
       "4734 2008-06-10 16:30:00  4980.25  4980.25  4549.66  4589.19       0   \n",
       "7619 2020-09-03 16:30:00  6462.55  6462.55  5891.56  5965.77       0   \n",
       "2957 2001-11-09 16:30:00  5033.70  5129.00  4746.00  4746.00       0   \n",
       "\n",
       "          month  year  dat_name  weekofyear  is_quarter_end  is_quarter_start  \\\n",
       "7622   December  2020  Thursday          49           False             False   \n",
       "4738    October  2008    Friday          41           False             False   \n",
       "4734       June  2008   Tuesday          24           False             False   \n",
       "7619  September  2020  Thursday          36           False             False   \n",
       "2957   November  2001    Friday          45           False             False   \n",
       "\n",
       "      quarter  high_low_diff  open_close_diff  \n",
       "7622        4          12.20           -10.87  \n",
       "4738        4          11.35            -8.85  \n",
       "4734        2           9.46            -7.85  \n",
       "7619        3           9.69            -7.69  \n",
       "2957        4           8.07            -5.72  "
      ]
     },
     "execution_count": 17,
     "metadata": {},
     "output_type": "execute_result"
    }
   ],
   "source": [
    "df.sort_values(by='open_close_diff', ascending=True).head(5)"
   ]
  },
  {
   "cell_type": "markdown",
   "metadata": {},
   "source": [
    "#### Biggest increase between open and close"
   ]
  },
  {
   "cell_type": "code",
   "execution_count": 18,
   "metadata": {},
   "outputs": [
    {
     "data": {
      "text/html": [
       "<div>\n",
       "<style scoped>\n",
       "    .dataframe tbody tr th:only-of-type {\n",
       "        vertical-align: middle;\n",
       "    }\n",
       "\n",
       "    .dataframe tbody tr th {\n",
       "        vertical-align: top;\n",
       "    }\n",
       "\n",
       "    .dataframe thead th {\n",
       "        text-align: right;\n",
       "    }\n",
       "</style>\n",
       "<table border=\"1\" class=\"dataframe\">\n",
       "  <thead>\n",
       "    <tr style=\"text-align: right;\">\n",
       "      <th></th>\n",
       "      <th>Date</th>\n",
       "      <th>Open</th>\n",
       "      <th>High</th>\n",
       "      <th>Low</th>\n",
       "      <th>Close</th>\n",
       "      <th>Volume</th>\n",
       "      <th>month</th>\n",
       "      <th>year</th>\n",
       "      <th>dat_name</th>\n",
       "      <th>weekofyear</th>\n",
       "      <th>is_quarter_end</th>\n",
       "      <th>is_quarter_start</th>\n",
       "      <th>quarter</th>\n",
       "      <th>high_low_diff</th>\n",
       "      <th>open_close_diff</th>\n",
       "    </tr>\n",
       "  </thead>\n",
       "  <tbody>\n",
       "    <tr>\n",
       "      <th>3337</th>\n",
       "      <td>2003-03-13 16:30:00</td>\n",
       "      <td>3287.00</td>\n",
       "      <td>3489.10</td>\n",
       "      <td>3287.00</td>\n",
       "      <td>3486.90</td>\n",
       "      <td>0</td>\n",
       "      <td>March</td>\n",
       "      <td>2003</td>\n",
       "      <td>Thursday</td>\n",
       "      <td>11</td>\n",
       "      <td>False</td>\n",
       "      <td>False</td>\n",
       "      <td>1</td>\n",
       "      <td>6.15</td>\n",
       "      <td>6.08</td>\n",
       "    </tr>\n",
       "    <tr>\n",
       "      <th>4751</th>\n",
       "      <td>2008-10-29 16:30:00</td>\n",
       "      <td>3926.38</td>\n",
       "      <td>4242.54</td>\n",
       "      <td>3926.38</td>\n",
       "      <td>4242.54</td>\n",
       "      <td>0</td>\n",
       "      <td>October</td>\n",
       "      <td>2008</td>\n",
       "      <td>Wednesday</td>\n",
       "      <td>44</td>\n",
       "      <td>False</td>\n",
       "      <td>False</td>\n",
       "      <td>4</td>\n",
       "      <td>8.05</td>\n",
       "      <td>8.05</td>\n",
       "    </tr>\n",
       "    <tr>\n",
       "      <th>4739</th>\n",
       "      <td>2008-10-13 16:30:00</td>\n",
       "      <td>3932.06</td>\n",
       "      <td>4256.90</td>\n",
       "      <td>3932.06</td>\n",
       "      <td>4256.90</td>\n",
       "      <td>0</td>\n",
       "      <td>October</td>\n",
       "      <td>2008</td>\n",
       "      <td>Monday</td>\n",
       "      <td>42</td>\n",
       "      <td>False</td>\n",
       "      <td>False</td>\n",
       "      <td>4</td>\n",
       "      <td>8.26</td>\n",
       "      <td>8.26</td>\n",
       "    </tr>\n",
       "    <tr>\n",
       "      <th>4723</th>\n",
       "      <td>2008-09-19 16:30:00</td>\n",
       "      <td>4880.00</td>\n",
       "      <td>5351.20</td>\n",
       "      <td>4857.10</td>\n",
       "      <td>5311.30</td>\n",
       "      <td>0</td>\n",
       "      <td>September</td>\n",
       "      <td>2008</td>\n",
       "      <td>Friday</td>\n",
       "      <td>38</td>\n",
       "      <td>False</td>\n",
       "      <td>False</td>\n",
       "      <td>3</td>\n",
       "      <td>10.17</td>\n",
       "      <td>8.84</td>\n",
       "    </tr>\n",
       "    <tr>\n",
       "      <th>4769</th>\n",
       "      <td>2008-11-24 16:30:00</td>\n",
       "      <td>3780.96</td>\n",
       "      <td>4153.08</td>\n",
       "      <td>3780.96</td>\n",
       "      <td>4152.96</td>\n",
       "      <td>0</td>\n",
       "      <td>November</td>\n",
       "      <td>2008</td>\n",
       "      <td>Monday</td>\n",
       "      <td>48</td>\n",
       "      <td>False</td>\n",
       "      <td>False</td>\n",
       "      <td>4</td>\n",
       "      <td>9.84</td>\n",
       "      <td>9.84</td>\n",
       "    </tr>\n",
       "  </tbody>\n",
       "</table>\n",
       "</div>"
      ],
      "text/plain": [
       "                    Date     Open     High      Low    Close  Volume  \\\n",
       "3337 2003-03-13 16:30:00  3287.00  3489.10  3287.00  3486.90       0   \n",
       "4751 2008-10-29 16:30:00  3926.38  4242.54  3926.38  4242.54       0   \n",
       "4739 2008-10-13 16:30:00  3932.06  4256.90  3932.06  4256.90       0   \n",
       "4723 2008-09-19 16:30:00  4880.00  5351.20  4857.10  5311.30       0   \n",
       "4769 2008-11-24 16:30:00  3780.96  4153.08  3780.96  4152.96       0   \n",
       "\n",
       "          month  year   dat_name  weekofyear  is_quarter_end  \\\n",
       "3337      March  2003   Thursday          11           False   \n",
       "4751    October  2008  Wednesday          44           False   \n",
       "4739    October  2008     Monday          42           False   \n",
       "4723  September  2008     Friday          38           False   \n",
       "4769   November  2008     Monday          48           False   \n",
       "\n",
       "      is_quarter_start  quarter  high_low_diff  open_close_diff  \n",
       "3337             False        1           6.15             6.08  \n",
       "4751             False        4           8.05             8.05  \n",
       "4739             False        4           8.26             8.26  \n",
       "4723             False        3          10.17             8.84  \n",
       "4769             False        4           9.84             9.84  "
      ]
     },
     "execution_count": 18,
     "metadata": {},
     "output_type": "execute_result"
    }
   ],
   "source": [
    "df.sort_values(by='open_close_diff', ascending=True).tail(5)"
   ]
  },
  {
   "cell_type": "code",
   "execution_count": 19,
   "metadata": {},
   "outputs": [
    {
     "data": {
      "text/plain": [
       "2500.0"
      ]
     },
     "execution_count": 19,
     "metadata": {},
     "output_type": "execute_result"
    }
   ],
   "source": [
    "25000/10"
   ]
  },
  {
   "cell_type": "code",
   "execution_count": 20,
   "metadata": {},
   "outputs": [
    {
     "data": {
      "text/plain": [
       "2000.0"
      ]
     },
     "execution_count": 20,
     "metadata": {},
     "output_type": "execute_result"
    }
   ],
   "source": [
    "24000/12"
   ]
  },
  {
   "cell_type": "code",
   "execution_count": null,
   "metadata": {},
   "outputs": [],
   "source": []
  },
  {
   "cell_type": "code",
   "execution_count": null,
   "metadata": {},
   "outputs": [],
   "source": []
  },
  {
   "cell_type": "code",
   "execution_count": null,
   "metadata": {},
   "outputs": [],
   "source": []
  },
  {
   "cell_type": "code",
   "execution_count": 21,
   "metadata": {},
   "outputs": [],
   "source": [
    "import sys"
   ]
  },
  {
   "cell_type": "code",
   "execution_count": 22,
   "metadata": {},
   "outputs": [
    {
     "data": {
      "text/plain": [
       "['/Users/sabihhasan/Desktop/projects/tridex/tridex',\n",
       " '/Library/Frameworks/Python.framework/Versions/3.7/lib/python37.zip',\n",
       " '/Library/Frameworks/Python.framework/Versions/3.7/lib/python3.7',\n",
       " '/Library/Frameworks/Python.framework/Versions/3.7/lib/python3.7/lib-dynload',\n",
       " '',\n",
       " '/Library/Frameworks/Python.framework/Versions/3.7/lib/python3.7/site-packages',\n",
       " '/Library/Frameworks/Python.framework/Versions/3.7/lib/python3.7/site-packages/IPython/extensions',\n",
       " '/Users/sabihhasan/.ipython']"
      ]
     },
     "execution_count": 22,
     "metadata": {},
     "output_type": "execute_result"
    }
   ],
   "source": [
    "sys.path"
   ]
  },
  {
   "cell_type": "code",
   "execution_count": null,
   "metadata": {},
   "outputs": [],
   "source": []
  },
  {
   "cell_type": "code",
   "execution_count": null,
   "metadata": {},
   "outputs": [],
   "source": []
  },
  {
   "cell_type": "code",
   "execution_count": null,
   "metadata": {},
   "outputs": [],
   "source": []
  },
  {
   "cell_type": "code",
   "execution_count": null,
   "metadata": {},
   "outputs": [],
   "source": []
  },
  {
   "cell_type": "code",
   "execution_count": null,
   "metadata": {},
   "outputs": [],
   "source": []
  },
  {
   "cell_type": "code",
   "execution_count": null,
   "metadata": {},
   "outputs": [],
   "source": []
  }
 ],
 "metadata": {
  "kernelspec": {
   "display_name": "Python 3",
   "language": "python",
   "name": "python3"
  },
  "language_info": {
   "codemirror_mode": {
    "name": "ipython",
    "version": 3
   },
   "file_extension": ".py",
   "mimetype": "text/x-python",
   "name": "python",
   "nbconvert_exporter": "python",
   "pygments_lexer": "ipython3",
   "version": "3.7.6"
  }
 },
 "nbformat": 4,
 "nbformat_minor": 4
}
