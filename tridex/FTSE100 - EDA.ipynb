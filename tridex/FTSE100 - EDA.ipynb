{
 "cells": [
  {
   "cell_type": "markdown",
   "metadata": {},
   "source": [
    "## Defensive Investment Strategy\n",
    "Investing into Indexes is a lower risk investment strategy than indivually picking out stocks. The benchmark to beat market returns is hard for even professional investors and many fund managers make worse than average returns. \n",
    "\n",
    "As a defensive investor, instead of speculating the market and trying to pick out invidual stocks, its better to invest into an index fund and get the average market return. However, instead of setting up a regular payment to invest into a fund, what if we could take advantage of trading an index fund? Or better yet, if we could also take advantage of daily price movements of indexes.\n",
    "\n",
    "The index ETFs might be one way to do this, as they allow investors to place limit orders on major indexes such as FTSE 100, S&P 500 etc. We need a strategy to take advantage of price swings on indexs.\n",
    "\n",
    "\n",
    "### Quest to find an optimum strategy to invest £25,000 a year into index tracking ETFs\n",
    "\n",
    "Stocks and Shares ISA account allows £20,000 and \n",
    "Lifetime ISA allows £4,000 (+£1,000 government bonus) to be invested annually\n",
    "tax free. This gives us a total of £25,000 to be invested tax free.\n",
    "\n",
    "The goal is to use **pound cost averaging** strategy alongside another strategy to\n",
    "get the same or higher returns than the FTSE 100 average return. If these strategies work,\n",
    "then they can be extended to other indexes like S&P 500 etc. to diversify the portfolio.\n",
    "\n",
    "The idea is to invest 10-20 times a year, at the right time, in index tracking\n",
    "ETF's, as well as take advantage of daily price swings, then we can at the **minimum** keep \n",
    "up with the average market return.\n",
    "\n",
    "\n",
    "**Benchmark:**\n",
    "Our benchmark is investing into index funds once a month on a random day e.g. \n",
    "28th of every month in FTSE 100.\n",
    "\n",
    "\n",
    "#### The main challenge\n",
    "The hard part of this strategy is to beat the benchmark despite the higher dealing charges and fees of trading ETFs. Low cost index fund for FTSE 100 have an ongoing annual charge of 0.06% with £0 cost to buy or sell. On the other hand, investing into ETF's cost £10 (AJBell) to buy and £10 to sell, as well as an ongoing annual charge of \n",
    "0.07%. This means that our trading strategy needs to give us atleast slightly better return to cover the dealing cost,\n",
    "otherwise, we might do slightly worse than the market.\n",
    "\n",
    "\n",
    "#### Summary\n",
    "\n",
    "- Invest £1,250 to £2,500 per trade.\n",
    "- Invest 10-20 throughout the year (pound cost averaging).\n",
    "- Predict the price movement of FTSE 100 continously and invest once every 20-60 day period.\n",
    "- Come up with a strategy to take advantage of daily price movements.\n",
    "- Find a strategy to sell (not urgent as we're investing for mid/long term).\n",
    "\n"
   ]
  },
  {
   "cell_type": "markdown",
   "metadata": {},
   "source": [
    "## FTSE 100 - EDA"
   ]
  },
  {
   "cell_type": "code",
   "execution_count": 4,
   "metadata": {},
   "outputs": [],
   "source": [
    "import pandas as pd"
   ]
  },
  {
   "cell_type": "code",
   "execution_count": 5,
   "metadata": {},
   "outputs": [],
   "source": [
    "df = pd.read_csv('../data/raw/download.csv')"
   ]
  },
  {
   "cell_type": "markdown",
   "metadata": {},
   "source": [
    "### Cleaning up data"
   ]
  },
  {
   "cell_type": "code",
   "execution_count": 6,
   "metadata": {},
   "outputs": [],
   "source": [
    "sheet = '{}{}{}'.format('https://docs.google.com/spreadsheets/d/',\n",
    "                        '10cihRP6XxJOSrWsASfW5C7VeHufD32TS0JKCXLoWhL8',\n",
    "                        '/export?gid=0&format=csv')"
   ]
  },
  {
   "cell_type": "code",
   "execution_count": 7,
   "metadata": {},
   "outputs": [],
   "source": [
    "df = pd.read_csv(sheet, index_col=0)"
   ]
  },
  {
   "cell_type": "code",
   "execution_count": 9,
   "metadata": {},
   "outputs": [
    {
     "data": {
      "text/html": [
       "<div>\n",
       "<style scoped>\n",
       "    .dataframe tbody tr th:only-of-type {\n",
       "        vertical-align: middle;\n",
       "    }\n",
       "\n",
       "    .dataframe tbody tr th {\n",
       "        vertical-align: top;\n",
       "    }\n",
       "\n",
       "    .dataframe thead th {\n",
       "        text-align: right;\n",
       "    }\n",
       "</style>\n",
       "<table border=\"1\" class=\"dataframe\">\n",
       "  <thead>\n",
       "    <tr style=\"text-align: right;\">\n",
       "      <th></th>\n",
       "      <th>Unnamed: 1</th>\n",
       "      <th>High</th>\n",
       "      <th>Low</th>\n",
       "      <th>Close</th>\n",
       "      <th>Volume</th>\n",
       "    </tr>\n",
       "    <tr>\n",
       "      <th>Date</th>\n",
       "      <th></th>\n",
       "      <th></th>\n",
       "      <th></th>\n",
       "      <th></th>\n",
       "      <th></th>\n",
       "    </tr>\n",
       "  </thead>\n",
       "  <tbody>\n",
       "    <tr>\n",
       "      <th>02/01/1990 16:30:00</th>\n",
       "      <td>2442.4</td>\n",
       "      <td>2443.3</td>\n",
       "      <td>2425.5</td>\n",
       "      <td>2434.1</td>\n",
       "      <td>0</td>\n",
       "    </tr>\n",
       "    <tr>\n",
       "      <th>03/01/1990 16:30:00</th>\n",
       "      <td>2451.3</td>\n",
       "      <td>2466.2</td>\n",
       "      <td>2445.8</td>\n",
       "      <td>2463.7</td>\n",
       "      <td>0</td>\n",
       "    </tr>\n",
       "  </tbody>\n",
       "</table>\n",
       "</div>"
      ],
      "text/plain": [
       "                     Unnamed: 1    High     Low   Close  Volume\n",
       "Date                                                           \n",
       "02/01/1990 16:30:00      2442.4  2443.3  2425.5  2434.1       0\n",
       "03/01/1990 16:30:00      2451.3  2466.2  2445.8  2463.7       0"
      ]
     },
     "execution_count": 9,
     "metadata": {},
     "output_type": "execute_result"
    }
   ],
   "source": [
    "df.head(2)"
   ]
  },
  {
   "cell_type": "code",
   "execution_count": 10,
   "metadata": {},
   "outputs": [],
   "source": [
    "df = df.rename(columns={'Unnamed: 1': 'Open'})"
   ]
  },
  {
   "cell_type": "code",
   "execution_count": 11,
   "metadata": {},
   "outputs": [
    {
     "data": {
      "text/html": [
       "<div>\n",
       "<style scoped>\n",
       "    .dataframe tbody tr th:only-of-type {\n",
       "        vertical-align: middle;\n",
       "    }\n",
       "\n",
       "    .dataframe tbody tr th {\n",
       "        vertical-align: top;\n",
       "    }\n",
       "\n",
       "    .dataframe thead th {\n",
       "        text-align: right;\n",
       "    }\n",
       "</style>\n",
       "<table border=\"1\" class=\"dataframe\">\n",
       "  <thead>\n",
       "    <tr style=\"text-align: right;\">\n",
       "      <th></th>\n",
       "      <th>Open</th>\n",
       "      <th>High</th>\n",
       "      <th>Low</th>\n",
       "      <th>Close</th>\n",
       "      <th>Volume</th>\n",
       "    </tr>\n",
       "    <tr>\n",
       "      <th>Date</th>\n",
       "      <th></th>\n",
       "      <th></th>\n",
       "      <th></th>\n",
       "      <th></th>\n",
       "      <th></th>\n",
       "    </tr>\n",
       "  </thead>\n",
       "  <tbody>\n",
       "    <tr>\n",
       "      <th>18/03/2020 16:30:00</th>\n",
       "      <td>5294.90</td>\n",
       "      <td>5294.90</td>\n",
       "      <td>5006.20</td>\n",
       "      <td>5080.58</td>\n",
       "      <td>0</td>\n",
       "    </tr>\n",
       "    <tr>\n",
       "      <th>19/03/2020 16:30:00</th>\n",
       "      <td>5080.58</td>\n",
       "      <td>5181.04</td>\n",
       "      <td>4942.37</td>\n",
       "      <td>5151.61</td>\n",
       "      <td>0</td>\n",
       "    </tr>\n",
       "  </tbody>\n",
       "</table>\n",
       "</div>"
      ],
      "text/plain": [
       "                        Open     High      Low    Close  Volume\n",
       "Date                                                           \n",
       "18/03/2020 16:30:00  5294.90  5294.90  5006.20  5080.58       0\n",
       "19/03/2020 16:30:00  5080.58  5181.04  4942.37  5151.61       0"
      ]
     },
     "execution_count": 11,
     "metadata": {},
     "output_type": "execute_result"
    }
   ],
   "source": [
    "df.tail(2)"
   ]
  },
  {
   "cell_type": "markdown",
   "metadata": {},
   "source": [
    "### Days with the highest difference between high and low price (%)"
   ]
  },
  {
   "cell_type": "code",
   "execution_count": 15,
   "metadata": {},
   "outputs": [
    {
     "data": {
      "text/html": [
       "<div>\n",
       "<style scoped>\n",
       "    .dataframe tbody tr th:only-of-type {\n",
       "        vertical-align: middle;\n",
       "    }\n",
       "\n",
       "    .dataframe tbody tr th {\n",
       "        vertical-align: top;\n",
       "    }\n",
       "\n",
       "    .dataframe thead th {\n",
       "        text-align: right;\n",
       "    }\n",
       "</style>\n",
       "<table border=\"1\" class=\"dataframe\">\n",
       "  <thead>\n",
       "    <tr style=\"text-align: right;\">\n",
       "      <th></th>\n",
       "      <th>Open</th>\n",
       "      <th>High</th>\n",
       "      <th>Low</th>\n",
       "      <th>Close</th>\n",
       "      <th>Volume</th>\n",
       "      <th>high_low_diff</th>\n",
       "      <th>open_close_diff</th>\n",
       "    </tr>\n",
       "    <tr>\n",
       "      <th>Date</th>\n",
       "      <th></th>\n",
       "      <th></th>\n",
       "      <th></th>\n",
       "      <th></th>\n",
       "      <th></th>\n",
       "      <th></th>\n",
       "      <th></th>\n",
       "    </tr>\n",
       "  </thead>\n",
       "  <tbody>\n",
       "    <tr>\n",
       "      <th>12/03/2020 16:30:00</th>\n",
       "      <td>5876.52</td>\n",
       "      <td>5876.52</td>\n",
       "      <td>5237.48</td>\n",
       "      <td>5237.48</td>\n",
       "      <td>0</td>\n",
       "      <td>12.20</td>\n",
       "      <td>-10.87</td>\n",
       "    </tr>\n",
       "    <tr>\n",
       "      <th>10/10/2008 16:30:00</th>\n",
       "      <td>4313.80</td>\n",
       "      <td>4313.80</td>\n",
       "      <td>3873.99</td>\n",
       "      <td>3932.06</td>\n",
       "      <td>0</td>\n",
       "      <td>11.35</td>\n",
       "      <td>-8.85</td>\n",
       "    </tr>\n",
       "    <tr>\n",
       "      <th>19/09/2008 16:30:00</th>\n",
       "      <td>4880.00</td>\n",
       "      <td>5351.20</td>\n",
       "      <td>4857.10</td>\n",
       "      <td>5311.30</td>\n",
       "      <td>0</td>\n",
       "      <td>10.17</td>\n",
       "      <td>8.84</td>\n",
       "    </tr>\n",
       "    <tr>\n",
       "      <th>24/10/2008 16:30:00</th>\n",
       "      <td>4087.83</td>\n",
       "      <td>4087.83</td>\n",
       "      <td>3715.24</td>\n",
       "      <td>3883.36</td>\n",
       "      <td>0</td>\n",
       "      <td>10.03</td>\n",
       "      <td>-5.00</td>\n",
       "    </tr>\n",
       "    <tr>\n",
       "      <th>24/11/2008 16:30:00</th>\n",
       "      <td>3780.96</td>\n",
       "      <td>4153.08</td>\n",
       "      <td>3780.96</td>\n",
       "      <td>4152.96</td>\n",
       "      <td>0</td>\n",
       "      <td>9.84</td>\n",
       "      <td>9.84</td>\n",
       "    </tr>\n",
       "  </tbody>\n",
       "</table>\n",
       "</div>"
      ],
      "text/plain": [
       "                        Open     High      Low    Close  Volume  \\\n",
       "Date                                                              \n",
       "12/03/2020 16:30:00  5876.52  5876.52  5237.48  5237.48       0   \n",
       "10/10/2008 16:30:00  4313.80  4313.80  3873.99  3932.06       0   \n",
       "19/09/2008 16:30:00  4880.00  5351.20  4857.10  5311.30       0   \n",
       "24/10/2008 16:30:00  4087.83  4087.83  3715.24  3883.36       0   \n",
       "24/11/2008 16:30:00  3780.96  4153.08  3780.96  4152.96       0   \n",
       "\n",
       "                     high_low_diff  open_close_diff  \n",
       "Date                                                 \n",
       "12/03/2020 16:30:00          12.20           -10.87  \n",
       "10/10/2008 16:30:00          11.35            -8.85  \n",
       "19/09/2008 16:30:00          10.17             8.84  \n",
       "24/10/2008 16:30:00          10.03            -5.00  \n",
       "24/11/2008 16:30:00           9.84             9.84  "
      ]
     },
     "execution_count": 15,
     "metadata": {},
     "output_type": "execute_result"
    }
   ],
   "source": [
    "df['high_low_diff'] = round(((df['High'] - df['Low'])/df['Low']) * 100, 2)\n",
    "df.sort_values(by='high_low_diff', ascending=False).head(5)"
   ]
  },
  {
   "cell_type": "code",
   "execution_count": 18,
   "metadata": {},
   "outputs": [
    {
     "name": "stdout",
     "output_type": "stream",
     "text": [
      "Mean difference between high and low over the last 20 year: 1.28%\n"
     ]
    }
   ],
   "source": [
    "p = 'Mean difference between high and low over the last 20 year: {}%'.format(df['high_low_diff'].mean().round(2))\n",
    "print(p)"
   ]
  },
  {
   "cell_type": "markdown",
   "metadata": {},
   "source": [
    "### Days with the highest difference between Open and Close Price (%)"
   ]
  },
  {
   "cell_type": "code",
   "execution_count": 24,
   "metadata": {},
   "outputs": [],
   "source": [
    "df['open_close_diff'] = round(((df['Close'] - df['Open'])/df['Open']) * 100, 2)"
   ]
  },
  {
   "cell_type": "markdown",
   "metadata": {},
   "source": [
    "#### Biggest decrease between open and close"
   ]
  },
  {
   "cell_type": "code",
   "execution_count": 25,
   "metadata": {},
   "outputs": [
    {
     "data": {
      "text/html": [
       "<div>\n",
       "<style scoped>\n",
       "    .dataframe tbody tr th:only-of-type {\n",
       "        vertical-align: middle;\n",
       "    }\n",
       "\n",
       "    .dataframe tbody tr th {\n",
       "        vertical-align: top;\n",
       "    }\n",
       "\n",
       "    .dataframe thead th {\n",
       "        text-align: right;\n",
       "    }\n",
       "</style>\n",
       "<table border=\"1\" class=\"dataframe\">\n",
       "  <thead>\n",
       "    <tr style=\"text-align: right;\">\n",
       "      <th></th>\n",
       "      <th>Open</th>\n",
       "      <th>High</th>\n",
       "      <th>Low</th>\n",
       "      <th>Close</th>\n",
       "      <th>Volume</th>\n",
       "      <th>high_low_diff</th>\n",
       "      <th>open_close_diff</th>\n",
       "    </tr>\n",
       "    <tr>\n",
       "      <th>Date</th>\n",
       "      <th></th>\n",
       "      <th></th>\n",
       "      <th></th>\n",
       "      <th></th>\n",
       "      <th></th>\n",
       "      <th></th>\n",
       "      <th></th>\n",
       "    </tr>\n",
       "  </thead>\n",
       "  <tbody>\n",
       "    <tr>\n",
       "      <th>12/03/2020 16:30:00</th>\n",
       "      <td>5876.52</td>\n",
       "      <td>5876.52</td>\n",
       "      <td>5237.48</td>\n",
       "      <td>5237.48</td>\n",
       "      <td>0</td>\n",
       "      <td>12.20</td>\n",
       "      <td>-10.87</td>\n",
       "    </tr>\n",
       "    <tr>\n",
       "      <th>10/10/2008 16:30:00</th>\n",
       "      <td>4313.80</td>\n",
       "      <td>4313.80</td>\n",
       "      <td>3873.99</td>\n",
       "      <td>3932.06</td>\n",
       "      <td>0</td>\n",
       "      <td>11.35</td>\n",
       "      <td>-8.85</td>\n",
       "    </tr>\n",
       "    <tr>\n",
       "      <th>06/10/2008 16:30:00</th>\n",
       "      <td>4980.25</td>\n",
       "      <td>4980.25</td>\n",
       "      <td>4549.66</td>\n",
       "      <td>4589.19</td>\n",
       "      <td>0</td>\n",
       "      <td>9.46</td>\n",
       "      <td>-7.85</td>\n",
       "    </tr>\n",
       "    <tr>\n",
       "      <th>09/03/2020 16:30:00</th>\n",
       "      <td>6462.55</td>\n",
       "      <td>6462.55</td>\n",
       "      <td>5891.56</td>\n",
       "      <td>5965.77</td>\n",
       "      <td>0</td>\n",
       "      <td>9.69</td>\n",
       "      <td>-7.69</td>\n",
       "    </tr>\n",
       "    <tr>\n",
       "      <th>11/09/2001 16:30:00</th>\n",
       "      <td>5033.70</td>\n",
       "      <td>5129.00</td>\n",
       "      <td>4746.00</td>\n",
       "      <td>4746.00</td>\n",
       "      <td>0</td>\n",
       "      <td>8.07</td>\n",
       "      <td>-5.72</td>\n",
       "    </tr>\n",
       "  </tbody>\n",
       "</table>\n",
       "</div>"
      ],
      "text/plain": [
       "                        Open     High      Low    Close  Volume  \\\n",
       "Date                                                              \n",
       "12/03/2020 16:30:00  5876.52  5876.52  5237.48  5237.48       0   \n",
       "10/10/2008 16:30:00  4313.80  4313.80  3873.99  3932.06       0   \n",
       "06/10/2008 16:30:00  4980.25  4980.25  4549.66  4589.19       0   \n",
       "09/03/2020 16:30:00  6462.55  6462.55  5891.56  5965.77       0   \n",
       "11/09/2001 16:30:00  5033.70  5129.00  4746.00  4746.00       0   \n",
       "\n",
       "                     high_low_diff  open_close_diff  \n",
       "Date                                                 \n",
       "12/03/2020 16:30:00          12.20           -10.87  \n",
       "10/10/2008 16:30:00          11.35            -8.85  \n",
       "06/10/2008 16:30:00           9.46            -7.85  \n",
       "09/03/2020 16:30:00           9.69            -7.69  \n",
       "11/09/2001 16:30:00           8.07            -5.72  "
      ]
     },
     "execution_count": 25,
     "metadata": {},
     "output_type": "execute_result"
    }
   ],
   "source": [
    "df.sort_values(by='open_close_diff', ascending=True).head(5)"
   ]
  },
  {
   "cell_type": "markdown",
   "metadata": {},
   "source": [
    "#### Biggest increase between open and close"
   ]
  },
  {
   "cell_type": "code",
   "execution_count": 23,
   "metadata": {},
   "outputs": [
    {
     "data": {
      "text/html": [
       "<div>\n",
       "<style scoped>\n",
       "    .dataframe tbody tr th:only-of-type {\n",
       "        vertical-align: middle;\n",
       "    }\n",
       "\n",
       "    .dataframe tbody tr th {\n",
       "        vertical-align: top;\n",
       "    }\n",
       "\n",
       "    .dataframe thead th {\n",
       "        text-align: right;\n",
       "    }\n",
       "</style>\n",
       "<table border=\"1\" class=\"dataframe\">\n",
       "  <thead>\n",
       "    <tr style=\"text-align: right;\">\n",
       "      <th></th>\n",
       "      <th>Open</th>\n",
       "      <th>High</th>\n",
       "      <th>Low</th>\n",
       "      <th>Close</th>\n",
       "      <th>Volume</th>\n",
       "      <th>high_low_diff</th>\n",
       "      <th>open_close_diff</th>\n",
       "    </tr>\n",
       "    <tr>\n",
       "      <th>Date</th>\n",
       "      <th></th>\n",
       "      <th></th>\n",
       "      <th></th>\n",
       "      <th></th>\n",
       "      <th></th>\n",
       "      <th></th>\n",
       "      <th></th>\n",
       "    </tr>\n",
       "  </thead>\n",
       "  <tbody>\n",
       "    <tr>\n",
       "      <th>13/03/2003 16:30:00</th>\n",
       "      <td>3287.00</td>\n",
       "      <td>3489.10</td>\n",
       "      <td>3287.00</td>\n",
       "      <td>3486.90</td>\n",
       "      <td>0</td>\n",
       "      <td>6.15</td>\n",
       "      <td>6.08</td>\n",
       "    </tr>\n",
       "    <tr>\n",
       "      <th>29/10/2008 16:30:00</th>\n",
       "      <td>3926.38</td>\n",
       "      <td>4242.54</td>\n",
       "      <td>3926.38</td>\n",
       "      <td>4242.54</td>\n",
       "      <td>0</td>\n",
       "      <td>8.05</td>\n",
       "      <td>8.05</td>\n",
       "    </tr>\n",
       "    <tr>\n",
       "      <th>13/10/2008 16:30:00</th>\n",
       "      <td>3932.06</td>\n",
       "      <td>4256.90</td>\n",
       "      <td>3932.06</td>\n",
       "      <td>4256.90</td>\n",
       "      <td>0</td>\n",
       "      <td>8.26</td>\n",
       "      <td>8.26</td>\n",
       "    </tr>\n",
       "    <tr>\n",
       "      <th>19/09/2008 16:30:00</th>\n",
       "      <td>4880.00</td>\n",
       "      <td>5351.20</td>\n",
       "      <td>4857.10</td>\n",
       "      <td>5311.30</td>\n",
       "      <td>0</td>\n",
       "      <td>10.17</td>\n",
       "      <td>8.84</td>\n",
       "    </tr>\n",
       "    <tr>\n",
       "      <th>24/11/2008 16:30:00</th>\n",
       "      <td>3780.96</td>\n",
       "      <td>4153.08</td>\n",
       "      <td>3780.96</td>\n",
       "      <td>4152.96</td>\n",
       "      <td>0</td>\n",
       "      <td>9.84</td>\n",
       "      <td>9.84</td>\n",
       "    </tr>\n",
       "  </tbody>\n",
       "</table>\n",
       "</div>"
      ],
      "text/plain": [
       "                        Open     High      Low    Close  Volume  \\\n",
       "Date                                                              \n",
       "13/03/2003 16:30:00  3287.00  3489.10  3287.00  3486.90       0   \n",
       "29/10/2008 16:30:00  3926.38  4242.54  3926.38  4242.54       0   \n",
       "13/10/2008 16:30:00  3932.06  4256.90  3932.06  4256.90       0   \n",
       "19/09/2008 16:30:00  4880.00  5351.20  4857.10  5311.30       0   \n",
       "24/11/2008 16:30:00  3780.96  4153.08  3780.96  4152.96       0   \n",
       "\n",
       "                     high_low_diff  open_close_diff  \n",
       "Date                                                 \n",
       "13/03/2003 16:30:00           6.15             6.08  \n",
       "29/10/2008 16:30:00           8.05             8.05  \n",
       "13/10/2008 16:30:00           8.26             8.26  \n",
       "19/09/2008 16:30:00          10.17             8.84  \n",
       "24/11/2008 16:30:00           9.84             9.84  "
      ]
     },
     "execution_count": 23,
     "metadata": {},
     "output_type": "execute_result"
    }
   ],
   "source": [
    "df.sort_values(by='open_close_diff', ascending=True).tail(5)"
   ]
  },
  {
   "cell_type": "code",
   "execution_count": 37,
   "metadata": {},
   "outputs": [
    {
     "data": {
      "text/plain": [
       "2500.0"
      ]
     },
     "execution_count": 37,
     "metadata": {},
     "output_type": "execute_result"
    }
   ],
   "source": [
    "25000/10"
   ]
  },
  {
   "cell_type": "code",
   "execution_count": 28,
   "metadata": {},
   "outputs": [
    {
     "data": {
      "text/plain": [
       "2000.0"
      ]
     },
     "execution_count": 28,
     "metadata": {},
     "output_type": "execute_result"
    }
   ],
   "source": [
    "24000/12"
   ]
  },
  {
   "cell_type": "code",
   "execution_count": null,
   "metadata": {},
   "outputs": [],
   "source": []
  },
  {
   "cell_type": "code",
   "execution_count": null,
   "metadata": {},
   "outputs": [],
   "source": []
  },
  {
   "cell_type": "code",
   "execution_count": null,
   "metadata": {},
   "outputs": [],
   "source": []
  },
  {
   "cell_type": "code",
   "execution_count": null,
   "metadata": {},
   "outputs": [],
   "source": []
  },
  {
   "cell_type": "code",
   "execution_count": null,
   "metadata": {},
   "outputs": [],
   "source": []
  },
  {
   "cell_type": "code",
   "execution_count": null,
   "metadata": {},
   "outputs": [],
   "source": []
  },
  {
   "cell_type": "code",
   "execution_count": null,
   "metadata": {},
   "outputs": [],
   "source": []
  },
  {
   "cell_type": "code",
   "execution_count": null,
   "metadata": {},
   "outputs": [],
   "source": []
  },
  {
   "cell_type": "code",
   "execution_count": null,
   "metadata": {},
   "outputs": [],
   "source": []
  },
  {
   "cell_type": "code",
   "execution_count": null,
   "metadata": {},
   "outputs": [],
   "source": []
  },
  {
   "cell_type": "code",
   "execution_count": null,
   "metadata": {},
   "outputs": [],
   "source": []
  },
  {
   "cell_type": "code",
   "execution_count": null,
   "metadata": {},
   "outputs": [],
   "source": []
  }
 ],
 "metadata": {
  "kernelspec": {
   "display_name": "Python 3",
   "language": "python",
   "name": "python3"
  },
  "language_info": {
   "codemirror_mode": {
    "name": "ipython",
    "version": 3
   },
   "file_extension": ".py",
   "mimetype": "text/x-python",
   "name": "python",
   "nbconvert_exporter": "python",
   "pygments_lexer": "ipython3",
   "version": "3.7.6"
  }
 },
 "nbformat": 4,
 "nbformat_minor": 4
}
