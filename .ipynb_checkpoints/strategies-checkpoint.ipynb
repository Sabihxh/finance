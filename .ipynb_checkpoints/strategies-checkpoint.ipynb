{
 "cells": [
  {
   "cell_type": "code",
   "execution_count": 18,
   "metadata": {},
   "outputs": [],
   "source": [
    "import os\n",
    "\n",
    "import numpy as np\n",
    "import pandas as pd"
   ]
  },
  {
   "cell_type": "code",
   "execution_count": 19,
   "metadata": {},
   "outputs": [],
   "source": [
    "data_dir = './data_stocks'\n",
    "stocks_csv_files = [os.path.join(data_dir, x) for x in os.listdir(data_dir) if x.endswith('.L.csv')]\n",
    "BARC = os.path.join(data_dir, 'BARC.L.csv')\n",
    "barc_df = pd.read_csv(BARC)"
   ]
  },
  {
   "cell_type": "code",
   "execution_count": 20,
   "metadata": {},
   "outputs": [
    {
     "data": {
      "text/html": [
       "<div>\n",
       "<style scoped>\n",
       "    .dataframe tbody tr th:only-of-type {\n",
       "        vertical-align: middle;\n",
       "    }\n",
       "\n",
       "    .dataframe tbody tr th {\n",
       "        vertical-align: top;\n",
       "    }\n",
       "\n",
       "    .dataframe thead th {\n",
       "        text-align: right;\n",
       "    }\n",
       "</style>\n",
       "<table border=\"1\" class=\"dataframe\">\n",
       "  <thead>\n",
       "    <tr style=\"text-align: right;\">\n",
       "      <th></th>\n",
       "      <th>Date</th>\n",
       "      <th>High</th>\n",
       "      <th>Low</th>\n",
       "      <th>Open</th>\n",
       "      <th>Close</th>\n",
       "      <th>Volume</th>\n",
       "      <th>Adj Close</th>\n",
       "    </tr>\n",
       "  </thead>\n",
       "  <tbody>\n",
       "    <tr>\n",
       "      <th>0</th>\n",
       "      <td>2014-01-02</td>\n",
       "      <td>274.651001</td>\n",
       "      <td>268.350006</td>\n",
       "      <td>273.000000</td>\n",
       "      <td>271.049988</td>\n",
       "      <td>30563664.0</td>\n",
       "      <td>235.943085</td>\n",
       "    </tr>\n",
       "    <tr>\n",
       "      <th>1</th>\n",
       "      <td>2014-01-03</td>\n",
       "      <td>273.910004</td>\n",
       "      <td>270.399994</td>\n",
       "      <td>271.250000</td>\n",
       "      <td>272.850006</td>\n",
       "      <td>23678963.0</td>\n",
       "      <td>237.510010</td>\n",
       "    </tr>\n",
       "    <tr>\n",
       "      <th>2</th>\n",
       "      <td>2014-01-06</td>\n",
       "      <td>278.666992</td>\n",
       "      <td>271.200012</td>\n",
       "      <td>271.549988</td>\n",
       "      <td>277.500000</td>\n",
       "      <td>47008835.0</td>\n",
       "      <td>241.557693</td>\n",
       "    </tr>\n",
       "    <tr>\n",
       "      <th>3</th>\n",
       "      <td>2014-01-07</td>\n",
       "      <td>282.778015</td>\n",
       "      <td>275.000000</td>\n",
       "      <td>276.950012</td>\n",
       "      <td>280.950012</td>\n",
       "      <td>44374624.0</td>\n",
       "      <td>244.560913</td>\n",
       "    </tr>\n",
       "    <tr>\n",
       "      <th>4</th>\n",
       "      <td>2014-01-08</td>\n",
       "      <td>285.899994</td>\n",
       "      <td>281.250000</td>\n",
       "      <td>282.350006</td>\n",
       "      <td>283.700012</td>\n",
       "      <td>45068534.0</td>\n",
       "      <td>246.954666</td>\n",
       "    </tr>\n",
       "  </tbody>\n",
       "</table>\n",
       "</div>"
      ],
      "text/plain": [
       "         Date        High         Low        Open       Close      Volume  \\\n",
       "0  2014-01-02  274.651001  268.350006  273.000000  271.049988  30563664.0   \n",
       "1  2014-01-03  273.910004  270.399994  271.250000  272.850006  23678963.0   \n",
       "2  2014-01-06  278.666992  271.200012  271.549988  277.500000  47008835.0   \n",
       "3  2014-01-07  282.778015  275.000000  276.950012  280.950012  44374624.0   \n",
       "4  2014-01-08  285.899994  281.250000  282.350006  283.700012  45068534.0   \n",
       "\n",
       "    Adj Close  \n",
       "0  235.943085  \n",
       "1  237.510010  \n",
       "2  241.557693  \n",
       "3  244.560913  \n",
       "4  246.954666  "
      ]
     },
     "execution_count": 20,
     "metadata": {},
     "output_type": "execute_result"
    }
   ],
   "source": [
    "barc_df.head()"
   ]
  },
  {
   "cell_type": "code",
   "execution_count": 41,
   "metadata": {},
   "outputs": [],
   "source": [
    "def get_data(code):\n",
    "    return pd.read_csv(data_dir + '/' + code + '.csv')"
   ]
  },
  {
   "cell_type": "code",
   "execution_count": 21,
   "metadata": {},
   "outputs": [
    {
     "data": {
      "text/plain": [
       "296.5"
      ]
     },
     "execution_count": 21,
     "metadata": {},
     "output_type": "execute_result"
    }
   ],
   "source": [
    "def highest_close_price(df):\n",
    "    return df.loc[df['Close'].idxmax(), 'Close']\n",
    "highest_close_price(barc_df)"
   ]
  },
  {
   "cell_type": "code",
   "execution_count": 22,
   "metadata": {},
   "outputs": [
    {
     "data": {
      "text/plain": [
       "'2014-01-15'"
      ]
     },
     "execution_count": 22,
     "metadata": {},
     "output_type": "execute_result"
    }
   ],
   "source": [
    "def highest_close_date(df):\n",
    "    return df.loc[df['Close'].idxmax(), 'Date']\n",
    "highest_close_date(barc_df)"
   ]
  },
  {
   "cell_type": "code",
   "execution_count": 23,
   "metadata": {},
   "outputs": [
    {
     "data": {
      "text/plain": [
       "165.94000244140625"
      ]
     },
     "execution_count": 23,
     "metadata": {},
     "output_type": "execute_result"
    }
   ],
   "source": [
    "def latest_close_price(df):\n",
    "    return df.loc[df.index[-1], 'Close']\n",
    "latest_close_price(barc_df)"
   ]
  },
  {
   "cell_type": "code",
   "execution_count": 24,
   "metadata": {},
   "outputs": [
    {
     "data": {
      "text/plain": [
       "'2019-03-15'"
      ]
     },
     "execution_count": 24,
     "metadata": {},
     "output_type": "execute_result"
    }
   ],
   "source": [
    "def latest_close_date(df):\n",
    "    return df.loc[df.index[-1], 'Date']\n",
    "latest_close_date(barc_df)"
   ]
  },
  {
   "cell_type": "code",
   "execution_count": 25,
   "metadata": {},
   "outputs": [
    {
     "data": {
      "text/plain": [
       "-79.0"
      ]
     },
     "execution_count": 25,
     "metadata": {},
     "output_type": "execute_result"
    }
   ],
   "source": [
    "def highest_current_percentage(df):\n",
    "    \"\"\"\n",
    "    Returns the percentage (2 d.p.) difference between\n",
    "    the highest and current closing price\n",
    "    \"\"\"\n",
    "    highest_close = df.loc[df['Close'].idxmax(), 'Close']\n",
    "    current_close = df.loc[df.index[-1], 'Close']\n",
    "    return round((current_close - highest_close) / current_close, 2) * 100\n",
    "\n",
    "highest_current_percentage(barc_df)"
   ]
  },
  {
   "cell_type": "code",
   "execution_count": 26,
   "metadata": {},
   "outputs": [],
   "source": [
    "# Percentage difference between highest close and current close for all stocks\n",
    "result = []\n",
    "\n",
    "for file in stocks_csv_files:\n",
    "    df = pd.read_csv(file)\n",
    "    percentage = highest_current_percentage(df)\n",
    "    code = file.rsplit('/')[-1].replace('.csv', '')\n",
    "    result.append((percentage, code))"
   ]
  },
  {
   "cell_type": "code",
   "execution_count": 27,
   "metadata": {
    "scrolled": true
   },
   "outputs": [],
   "source": [
    "agg_df = pd.DataFrame(result, columns=['percentage', 'code'])"
   ]
  },
  {
   "cell_type": "code",
   "execution_count": 28,
   "metadata": {},
   "outputs": [],
   "source": [
    "agg_df = agg_df.sort_values(by='percentage', ascending=False)"
   ]
  },
  {
   "cell_type": "code",
   "execution_count": 55,
   "metadata": {},
   "outputs": [
    {
     "data": {
      "text/html": [
       "<div>\n",
       "<style scoped>\n",
       "    .dataframe tbody tr th:only-of-type {\n",
       "        vertical-align: middle;\n",
       "    }\n",
       "\n",
       "    .dataframe tbody tr th {\n",
       "        vertical-align: top;\n",
       "    }\n",
       "\n",
       "    .dataframe thead th {\n",
       "        text-align: right;\n",
       "    }\n",
       "</style>\n",
       "<table border=\"1\" class=\"dataframe\">\n",
       "  <thead>\n",
       "    <tr style=\"text-align: right;\">\n",
       "      <th></th>\n",
       "      <th>percentage</th>\n",
       "      <th>code</th>\n",
       "    </tr>\n",
       "  </thead>\n",
       "  <tbody>\n",
       "    <tr>\n",
       "      <th>139</th>\n",
       "      <td>-186.0</td>\n",
       "      <td>CNA.L</td>\n",
       "    </tr>\n",
       "    <tr>\n",
       "      <th>148</th>\n",
       "      <td>-169.0</td>\n",
       "      <td>WMH.L</td>\n",
       "    </tr>\n",
       "    <tr>\n",
       "      <th>216</th>\n",
       "      <td>-166.0</td>\n",
       "      <td>IPO.L</td>\n",
       "    </tr>\n",
       "    <tr>\n",
       "      <th>50</th>\n",
       "      <td>-164.0</td>\n",
       "      <td>ESNT.L</td>\n",
       "    </tr>\n",
       "    <tr>\n",
       "      <th>159</th>\n",
       "      <td>-157.0</td>\n",
       "      <td>SGC.L</td>\n",
       "    </tr>\n",
       "    <tr>\n",
       "      <th>345</th>\n",
       "      <td>-157.0</td>\n",
       "      <td>ISAT.L</td>\n",
       "    </tr>\n",
       "    <tr>\n",
       "      <th>222</th>\n",
       "      <td>-154.0</td>\n",
       "      <td>PLUS.L</td>\n",
       "    </tr>\n",
       "    <tr>\n",
       "      <th>21</th>\n",
       "      <td>-150.0</td>\n",
       "      <td>FRES.L</td>\n",
       "    </tr>\n",
       "    <tr>\n",
       "      <th>314</th>\n",
       "      <td>-149.0</td>\n",
       "      <td>CTEC.L</td>\n",
       "    </tr>\n",
       "    <tr>\n",
       "      <th>68</th>\n",
       "      <td>-146.0</td>\n",
       "      <td>AGK.L</td>\n",
       "    </tr>\n",
       "    <tr>\n",
       "      <th>248</th>\n",
       "      <td>-141.0</td>\n",
       "      <td>PTEC.L</td>\n",
       "    </tr>\n",
       "    <tr>\n",
       "      <th>249</th>\n",
       "      <td>-140.0</td>\n",
       "      <td>BAB.L</td>\n",
       "    </tr>\n",
       "    <tr>\n",
       "      <th>56</th>\n",
       "      <td>-135.0</td>\n",
       "      <td>RMG.L</td>\n",
       "    </tr>\n",
       "    <tr>\n",
       "      <th>272</th>\n",
       "      <td>-129.0</td>\n",
       "      <td>SXX.L</td>\n",
       "    </tr>\n",
       "    <tr>\n",
       "      <th>28</th>\n",
       "      <td>-127.0</td>\n",
       "      <td>HFD.L</td>\n",
       "    </tr>\n",
       "    <tr>\n",
       "      <th>258</th>\n",
       "      <td>-126.0</td>\n",
       "      <td>BGEO.L</td>\n",
       "    </tr>\n",
       "    <tr>\n",
       "      <th>303</th>\n",
       "      <td>-125.0</td>\n",
       "      <td>WPP.L</td>\n",
       "    </tr>\n",
       "    <tr>\n",
       "      <th>146</th>\n",
       "      <td>-123.0</td>\n",
       "      <td>TUI.L</td>\n",
       "    </tr>\n",
       "    <tr>\n",
       "      <th>307</th>\n",
       "      <td>-122.0</td>\n",
       "      <td>BT-A.L</td>\n",
       "    </tr>\n",
       "    <tr>\n",
       "      <th>295</th>\n",
       "      <td>-122.0</td>\n",
       "      <td>SMT.L</td>\n",
       "    </tr>\n",
       "    <tr>\n",
       "      <th>254</th>\n",
       "      <td>-121.0</td>\n",
       "      <td>COB.L</td>\n",
       "    </tr>\n",
       "    <tr>\n",
       "      <th>197</th>\n",
       "      <td>-121.0</td>\n",
       "      <td>MKS.L</td>\n",
       "    </tr>\n",
       "    <tr>\n",
       "      <th>177</th>\n",
       "      <td>-118.0</td>\n",
       "      <td>DRX.L</td>\n",
       "    </tr>\n",
       "    <tr>\n",
       "      <th>268</th>\n",
       "      <td>-114.0</td>\n",
       "      <td>GVC.L</td>\n",
       "    </tr>\n",
       "    <tr>\n",
       "      <th>301</th>\n",
       "      <td>-112.0</td>\n",
       "      <td>STAN.L</td>\n",
       "    </tr>\n",
       "    <tr>\n",
       "      <th>237</th>\n",
       "      <td>-112.0</td>\n",
       "      <td>SLA.L</td>\n",
       "    </tr>\n",
       "    <tr>\n",
       "      <th>175</th>\n",
       "      <td>-111.0</td>\n",
       "      <td>GFRD.L</td>\n",
       "    </tr>\n",
       "    <tr>\n",
       "      <th>323</th>\n",
       "      <td>-109.0</td>\n",
       "      <td>CEY.L</td>\n",
       "    </tr>\n",
       "    <tr>\n",
       "      <th>316</th>\n",
       "      <td>-107.0</td>\n",
       "      <td>ITV.L</td>\n",
       "    </tr>\n",
       "    <tr>\n",
       "      <th>73</th>\n",
       "      <td>-107.0</td>\n",
       "      <td>CARD.L</td>\n",
       "    </tr>\n",
       "    <tr>\n",
       "      <th>...</th>\n",
       "      <td>...</td>\n",
       "      <td>...</td>\n",
       "    </tr>\n",
       "    <tr>\n",
       "      <th>10</th>\n",
       "      <td>-17.0</td>\n",
       "      <td>SYNC.L</td>\n",
       "    </tr>\n",
       "    <tr>\n",
       "      <th>12</th>\n",
       "      <td>-17.0</td>\n",
       "      <td>CSH.L</td>\n",
       "    </tr>\n",
       "    <tr>\n",
       "      <th>92</th>\n",
       "      <td>-17.0</td>\n",
       "      <td>OSB.L</td>\n",
       "    </tr>\n",
       "    <tr>\n",
       "      <th>72</th>\n",
       "      <td>-17.0</td>\n",
       "      <td>DNLM.L</td>\n",
       "    </tr>\n",
       "    <tr>\n",
       "      <th>321</th>\n",
       "      <td>-16.0</td>\n",
       "      <td>RHIM.L</td>\n",
       "    </tr>\n",
       "    <tr>\n",
       "      <th>19</th>\n",
       "      <td>-16.0</td>\n",
       "      <td>GRI.L</td>\n",
       "    </tr>\n",
       "    <tr>\n",
       "      <th>291</th>\n",
       "      <td>-16.0</td>\n",
       "      <td>BCA.L</td>\n",
       "    </tr>\n",
       "    <tr>\n",
       "      <th>346</th>\n",
       "      <td>-16.0</td>\n",
       "      <td>JMG.L</td>\n",
       "    </tr>\n",
       "    <tr>\n",
       "      <th>113</th>\n",
       "      <td>-15.0</td>\n",
       "      <td>TBCG.L</td>\n",
       "    </tr>\n",
       "    <tr>\n",
       "      <th>46</th>\n",
       "      <td>-15.0</td>\n",
       "      <td>JAM.L</td>\n",
       "    </tr>\n",
       "    <tr>\n",
       "      <th>76</th>\n",
       "      <td>-15.0</td>\n",
       "      <td>DJAN.L</td>\n",
       "    </tr>\n",
       "    <tr>\n",
       "      <th>155</th>\n",
       "      <td>-15.0</td>\n",
       "      <td>TW.L</td>\n",
       "    </tr>\n",
       "    <tr>\n",
       "      <th>187</th>\n",
       "      <td>-15.0</td>\n",
       "      <td>GSK.L</td>\n",
       "    </tr>\n",
       "    <tr>\n",
       "      <th>318</th>\n",
       "      <td>-15.0</td>\n",
       "      <td>RAT.L</td>\n",
       "    </tr>\n",
       "    <tr>\n",
       "      <th>201</th>\n",
       "      <td>-14.0</td>\n",
       "      <td>ATST.L</td>\n",
       "    </tr>\n",
       "    <tr>\n",
       "      <th>328</th>\n",
       "      <td>-14.0</td>\n",
       "      <td>DLG.L</td>\n",
       "    </tr>\n",
       "    <tr>\n",
       "      <th>97</th>\n",
       "      <td>-14.0</td>\n",
       "      <td>CBG.L</td>\n",
       "    </tr>\n",
       "    <tr>\n",
       "      <th>284</th>\n",
       "      <td>-14.0</td>\n",
       "      <td>BME.L</td>\n",
       "    </tr>\n",
       "    <tr>\n",
       "      <th>348</th>\n",
       "      <td>-14.0</td>\n",
       "      <td>BDEV.L</td>\n",
       "    </tr>\n",
       "    <tr>\n",
       "      <th>95</th>\n",
       "      <td>-13.0</td>\n",
       "      <td>CSP.L</td>\n",
       "    </tr>\n",
       "    <tr>\n",
       "      <th>2</th>\n",
       "      <td>-13.0</td>\n",
       "      <td>SVS.L</td>\n",
       "    </tr>\n",
       "    <tr>\n",
       "      <th>233</th>\n",
       "      <td>-13.0</td>\n",
       "      <td>IHP.L</td>\n",
       "    </tr>\n",
       "    <tr>\n",
       "      <th>41</th>\n",
       "      <td>-13.0</td>\n",
       "      <td>BBY.L</td>\n",
       "    </tr>\n",
       "    <tr>\n",
       "      <th>166</th>\n",
       "      <td>-13.0</td>\n",
       "      <td>WKP.L</td>\n",
       "    </tr>\n",
       "    <tr>\n",
       "      <th>15</th>\n",
       "      <td>-12.0</td>\n",
       "      <td>WTAN.L</td>\n",
       "    </tr>\n",
       "    <tr>\n",
       "      <th>267</th>\n",
       "      <td>-12.0</td>\n",
       "      <td>PCT.L</td>\n",
       "    </tr>\n",
       "    <tr>\n",
       "      <th>292</th>\n",
       "      <td>-11.0</td>\n",
       "      <td>BVS.L</td>\n",
       "    </tr>\n",
       "    <tr>\n",
       "      <th>100</th>\n",
       "      <td>-11.0</td>\n",
       "      <td>MGGT.L</td>\n",
       "    </tr>\n",
       "    <tr>\n",
       "      <th>144</th>\n",
       "      <td>-11.0</td>\n",
       "      <td>ICP.L</td>\n",
       "    </tr>\n",
       "    <tr>\n",
       "      <th>64</th>\n",
       "      <td>-11.0</td>\n",
       "      <td>SPT.L</td>\n",
       "    </tr>\n",
       "  </tbody>\n",
       "</table>\n",
       "<p>221 rows × 2 columns</p>\n",
       "</div>"
      ],
      "text/plain": [
       "     percentage    code\n",
       "139      -186.0   CNA.L\n",
       "148      -169.0   WMH.L\n",
       "216      -166.0   IPO.L\n",
       "50       -164.0  ESNT.L\n",
       "159      -157.0   SGC.L\n",
       "345      -157.0  ISAT.L\n",
       "222      -154.0  PLUS.L\n",
       "21       -150.0  FRES.L\n",
       "314      -149.0  CTEC.L\n",
       "68       -146.0   AGK.L\n",
       "248      -141.0  PTEC.L\n",
       "249      -140.0   BAB.L\n",
       "56       -135.0   RMG.L\n",
       "272      -129.0   SXX.L\n",
       "28       -127.0   HFD.L\n",
       "258      -126.0  BGEO.L\n",
       "303      -125.0   WPP.L\n",
       "146      -123.0   TUI.L\n",
       "307      -122.0  BT-A.L\n",
       "295      -122.0   SMT.L\n",
       "254      -121.0   COB.L\n",
       "197      -121.0   MKS.L\n",
       "177      -118.0   DRX.L\n",
       "268      -114.0   GVC.L\n",
       "301      -112.0  STAN.L\n",
       "237      -112.0   SLA.L\n",
       "175      -111.0  GFRD.L\n",
       "323      -109.0   CEY.L\n",
       "316      -107.0   ITV.L\n",
       "73       -107.0  CARD.L\n",
       "..          ...     ...\n",
       "10        -17.0  SYNC.L\n",
       "12        -17.0   CSH.L\n",
       "92        -17.0   OSB.L\n",
       "72        -17.0  DNLM.L\n",
       "321       -16.0  RHIM.L\n",
       "19        -16.0   GRI.L\n",
       "291       -16.0   BCA.L\n",
       "346       -16.0   JMG.L\n",
       "113       -15.0  TBCG.L\n",
       "46        -15.0   JAM.L\n",
       "76        -15.0  DJAN.L\n",
       "155       -15.0    TW.L\n",
       "187       -15.0   GSK.L\n",
       "318       -15.0   RAT.L\n",
       "201       -14.0  ATST.L\n",
       "328       -14.0   DLG.L\n",
       "97        -14.0   CBG.L\n",
       "284       -14.0   BME.L\n",
       "348       -14.0  BDEV.L\n",
       "95        -13.0   CSP.L\n",
       "2         -13.0   SVS.L\n",
       "233       -13.0   IHP.L\n",
       "41        -13.0   BBY.L\n",
       "166       -13.0   WKP.L\n",
       "15        -12.0  WTAN.L\n",
       "267       -12.0   PCT.L\n",
       "292       -11.0   BVS.L\n",
       "100       -11.0  MGGT.L\n",
       "144       -11.0   ICP.L\n",
       "64        -11.0   SPT.L\n",
       "\n",
       "[221 rows x 2 columns]"
      ]
     },
     "execution_count": 55,
     "metadata": {},
     "output_type": "execute_result"
    }
   ],
   "source": [
    "highest_close_price(barc_df)\n",
    "latest_close_price(barc_df)\n",
    "agg_df[(agg_df['percentage'] < -10) & (agg_df['percentage'] > -200)].sort_values(by='percentage')"
   ]
  },
  {
   "cell_type": "code",
   "execution_count": 48,
   "metadata": {},
   "outputs": [
    {
     "data": {
      "text/plain": [
       "598.5"
      ]
     },
     "execution_count": 48,
     "metadata": {},
     "output_type": "execute_result"
    }
   ],
   "source": [
    "mslh_df = get_data('MSLH.L')\n",
    "highest_close_price(mslh_df)"
   ]
  },
  {
   "cell_type": "code",
   "execution_count": 56,
   "metadata": {},
   "outputs": [
    {
     "data": {
      "text/plain": [
       "598.5"
      ]
     },
     "execution_count": 56,
     "metadata": {},
     "output_type": "execute_result"
    }
   ],
   "source": [
    "latest_close_price(mslh_df)"
   ]
  },
  {
   "cell_type": "code",
   "execution_count": 59,
   "metadata": {},
   "outputs": [
    {
     "data": {
      "text/plain": [
       "0              NaN\n",
       "1              NaN\n",
       "2              NaN\n",
       "3              NaN\n",
       "4              NaN\n",
       "5              NaN\n",
       "6              NaN\n",
       "7              NaN\n",
       "8              NaN\n",
       "9              NaN\n",
       "10             NaN\n",
       "11             NaN\n",
       "12             NaN\n",
       "13             NaN\n",
       "14             NaN\n",
       "15             NaN\n",
       "16             NaN\n",
       "17             NaN\n",
       "18             NaN\n",
       "19      281.170003\n",
       "20      281.370003\n",
       "21      281.352502\n",
       "22      280.762503\n",
       "23      279.942502\n",
       "24      279.005002\n",
       "25      278.282503\n",
       "26      277.687503\n",
       "27      276.852502\n",
       "28      275.500003\n",
       "29      273.697504\n",
       "           ...    \n",
       "1287    160.641000\n",
       "1288    160.801000\n",
       "1289    161.039000\n",
       "1290    160.893000\n",
       "1291    160.829000\n",
       "1292    160.715000\n",
       "1293    160.663000\n",
       "1294    160.494000\n",
       "1295    160.323000\n",
       "1296    160.005000\n",
       "1297    159.663000\n",
       "1298    159.450000\n",
       "1299    159.351000\n",
       "1300    159.257000\n",
       "1301    158.859000\n",
       "1302    158.816000\n",
       "1303    158.995999\n",
       "1304    159.248999\n",
       "1305    159.548000\n",
       "1306    159.742000\n",
       "1307    160.009000\n",
       "1308    160.211000\n",
       "1309    160.398000\n",
       "1310    160.691000\n",
       "1311    160.833000\n",
       "1312    161.041000\n",
       "1313    161.281001\n",
       "1314    161.575000\n",
       "1315    161.975999\n",
       "1316    162.298000\n",
       "Name: Close, Length: 1317, dtype: float64"
      ]
     },
     "execution_count": 59,
     "metadata": {},
     "output_type": "execute_result"
    }
   ],
   "source": [
    "barc_df['MA 20']barc_df['Close'].rolling(window=20).mean()"
   ]
  },
  {
   "cell_type": "code",
   "execution_count": 60,
   "metadata": {},
   "outputs": [
    {
     "data": {
      "text/plain": [
       "(1317, 7)"
      ]
     },
     "execution_count": 60,
     "metadata": {},
     "output_type": "execute_result"
    }
   ],
   "source": [
    "barc_df.shape"
   ]
  },
  {
   "cell_type": "code",
   "execution_count": 30,
   "metadata": {},
   "outputs": [],
   "source": [
    "agg_df.to_csv('./data_aggregated/highest_close_percentage.csv')"
   ]
  },
  {
   "cell_type": "code",
   "execution_count": null,
   "metadata": {},
   "outputs": [],
   "source": []
  },
  {
   "cell_type": "code",
   "execution_count": null,
   "metadata": {},
   "outputs": [],
   "source": []
  }
 ],
 "metadata": {
  "kernelspec": {
   "display_name": "Python 3",
   "language": "python",
   "name": "python3"
  },
  "language_info": {
   "codemirror_mode": {
    "name": "ipython",
    "version": 3
   },
   "file_extension": ".py",
   "mimetype": "text/x-python",
   "name": "python",
   "nbconvert_exporter": "python",
   "pygments_lexer": "ipython3",
   "version": "3.6.5"
  }
 },
 "nbformat": 4,
 "nbformat_minor": 2
}
