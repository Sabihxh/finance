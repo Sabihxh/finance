{
 "cells": [
  {
   "cell_type": "code",
   "execution_count": 1,
   "metadata": {},
   "outputs": [
    {
     "data": {
      "text/plain": [
       "['.DS_Store',\n",
       " 'ftse100_symbols.txt',\n",
       " 'ftse_all_share_symbols_yahoo.txt',\n",
       " 'ftse350_symbols.txt',\n",
       " 'lse_codes_companies.csv',\n",
       " 'ftse250_symbols.txt']"
      ]
     },
     "execution_count": 1,
     "metadata": {},
     "output_type": "execute_result"
    }
   ],
   "source": [
    "import os\n",
    "\n",
    "import numpy as np\n",
    "import pandas as pd\n",
    "\n",
    "os.listdir('./data_symbols/')"
   ]
  },
  {
   "cell_type": "code",
   "execution_count": 2,
   "metadata": {},
   "outputs": [],
   "source": [
    "# Get paths of ftse100 stocks data\n",
    "data_dir = './data_stocks/ftse100/'\n",
    "stocks_csv_files = [os.path.join(data_dir, x) for x in os.listdir(data_dir) if x.endswith('.L.csv')]\n",
    "companies_df = pd.read_csv('./data_symbols/lse_codes_companies.csv', usecols=[0, 1])\n",
    "\n",
    "# read barclays data for testing\n",
    "barc_df = pd.read_csv('./data_stocks/ftse100/BARC.L.csv')"
   ]
  },
  {
   "cell_type": "code",
   "execution_count": 3,
   "metadata": {},
   "outputs": [],
   "source": [
    "def file_to_symbol(file):\n",
    "    \"\"\"Takes a filepath and returns the symbol\"\"\"\n",
    "    return file.rsplit('/', 1)[1].rsplit('.', 1)[0]"
   ]
  },
  {
   "cell_type": "code",
   "execution_count": 4,
   "metadata": {},
   "outputs": [],
   "source": [
    "def get_data(code):\n",
    "    return pd.read_csv(data_dir + '/' + code + '.csv')"
   ]
  },
  {
   "cell_type": "code",
   "execution_count": 5,
   "metadata": {},
   "outputs": [
    {
     "data": {
      "text/plain": [
       "296.5"
      ]
     },
     "execution_count": 5,
     "metadata": {},
     "output_type": "execute_result"
    }
   ],
   "source": [
    "def highest_close_price(df):\n",
    "    return df.loc[df['Close'].idxmax(), 'Close']\n",
    "highest_close_price(barc_df)"
   ]
  },
  {
   "cell_type": "code",
   "execution_count": 6,
   "metadata": {},
   "outputs": [
    {
     "data": {
      "text/plain": [
       "'2014-01-15'"
      ]
     },
     "execution_count": 6,
     "metadata": {},
     "output_type": "execute_result"
    }
   ],
   "source": [
    "def highest_close_date(df):\n",
    "    return df.loc[df['Close'].idxmax(), 'Date']\n",
    "highest_close_date(barc_df)"
   ]
  },
  {
   "cell_type": "code",
   "execution_count": 7,
   "metadata": {},
   "outputs": [
    {
     "data": {
      "text/plain": [
       "154.67999267578125"
      ]
     },
     "execution_count": 7,
     "metadata": {},
     "output_type": "execute_result"
    }
   ],
   "source": [
    "def latest_close_price(df):\n",
    "    return df.loc[df.index[-1], 'Close']\n",
    "latest_close_price(barc_df)"
   ]
  },
  {
   "cell_type": "code",
   "execution_count": 8,
   "metadata": {},
   "outputs": [
    {
     "data": {
      "text/plain": [
       "'2019-03-29'"
      ]
     },
     "execution_count": 8,
     "metadata": {},
     "output_type": "execute_result"
    }
   ],
   "source": [
    "def latest_close_date(df):\n",
    "    return df.loc[df.index[-1], 'Date']\n",
    "latest_close_date(barc_df)"
   ]
  },
  {
   "cell_type": "code",
   "execution_count": 11,
   "metadata": {},
   "outputs": [
    {
     "data": {
      "text/plain": [
       "-92.0"
      ]
     },
     "execution_count": 11,
     "metadata": {},
     "output_type": "execute_result"
    }
   ],
   "source": [
    "def highest_current_percentage_diff(df):\n",
    "    \"\"\"\n",
    "    Returns the percentage (2 d.p.) difference between\n",
    "    the highest and current closing price\n",
    "    \"\"\"\n",
    "    highest_close = df.loc[df['Close'].idxmax(), 'Close']\n",
    "    current_close = df.loc[df.index[-1], 'Close']\n",
    "    return round((current_close - highest_close) / current_close, 2) * 100\n",
    "\n",
    "highest_current_percentage_diff(barc_df)"
   ]
  },
  {
   "cell_type": "code",
   "execution_count": 14,
   "metadata": {},
   "outputs": [
    {
     "data": {
      "text/html": [
       "<div>\n",
       "<style scoped>\n",
       "    .dataframe tbody tr th:only-of-type {\n",
       "        vertical-align: middle;\n",
       "    }\n",
       "\n",
       "    .dataframe tbody tr th {\n",
       "        vertical-align: top;\n",
       "    }\n",
       "\n",
       "    .dataframe thead th {\n",
       "        text-align: right;\n",
       "    }\n",
       "</style>\n",
       "<table border=\"1\" class=\"dataframe\">\n",
       "  <thead>\n",
       "    <tr style=\"text-align: right;\">\n",
       "      <th></th>\n",
       "      <th>percentage</th>\n",
       "      <th>code</th>\n",
       "    </tr>\n",
       "  </thead>\n",
       "  <tbody>\n",
       "    <tr>\n",
       "      <th>37</th>\n",
       "      <td>-202.0</td>\n",
       "      <td>CNA.L</td>\n",
       "    </tr>\n",
       "    <tr>\n",
       "      <th>40</th>\n",
       "      <td>-146.0</td>\n",
       "      <td>TUI.L</td>\n",
       "    </tr>\n",
       "    <tr>\n",
       "      <th>88</th>\n",
       "      <td>-137.0</td>\n",
       "      <td>WPP.L</td>\n",
       "    </tr>\n",
       "    <tr>\n",
       "      <th>5</th>\n",
       "      <td>-131.0</td>\n",
       "      <td>FRES.L</td>\n",
       "    </tr>\n",
       "    <tr>\n",
       "      <th>89</th>\n",
       "      <td>-124.0</td>\n",
       "      <td>BT-A.L</td>\n",
       "    </tr>\n",
       "  </tbody>\n",
       "</table>\n",
       "</div>"
      ],
      "text/plain": [
       "    percentage    code\n",
       "37      -202.0   CNA.L\n",
       "40      -146.0   TUI.L\n",
       "88      -137.0   WPP.L\n",
       "5       -131.0  FRES.L\n",
       "89      -124.0  BT-A.L"
      ]
     },
     "execution_count": 14,
     "metadata": {},
     "output_type": "execute_result"
    }
   ],
   "source": [
    "# Percentage difference between highest close and current close for all stocks\n",
    "def percentage_diff_df(stocks_csv_files):\n",
    "    result = []\n",
    "    for file in stocks_csv_files:\n",
    "        df = pd.read_csv(file)\n",
    "        percentage = highest_current_percentage_diff(df)\n",
    "        code = file.rsplit('/')[-1].replace('.csv', '')\n",
    "        result.append((percentage, code))\n",
    "    agg_df = (\n",
    "        pd.DataFrame(result, columns=['percentage', 'code'])\n",
    "        .sort_values(by='percentage', ascending=True)\n",
    "    )\n",
    "    return agg_df\n",
    "\n",
    "agg_df = percentage_diff_df(stocks_csv_files)\n",
    "agg_df.head()"
   ]
  },
  {
   "cell_type": "code",
   "execution_count": 16,
   "metadata": {},
   "outputs": [
    {
     "data": {
      "text/html": [
       "<div>\n",
       "<style scoped>\n",
       "    .dataframe tbody tr th:only-of-type {\n",
       "        vertical-align: middle;\n",
       "    }\n",
       "\n",
       "    .dataframe tbody tr th {\n",
       "        vertical-align: top;\n",
       "    }\n",
       "\n",
       "    .dataframe thead th {\n",
       "        text-align: right;\n",
       "    }\n",
       "</style>\n",
       "<table border=\"1\" class=\"dataframe\">\n",
       "  <thead>\n",
       "    <tr style=\"text-align: right;\">\n",
       "      <th></th>\n",
       "      <th>percentage</th>\n",
       "      <th>code</th>\n",
       "      <th>Company_x</th>\n",
       "      <th>Company_y</th>\n",
       "    </tr>\n",
       "  </thead>\n",
       "  <tbody>\n",
       "    <tr>\n",
       "      <th>0</th>\n",
       "      <td>-202.0</td>\n",
       "      <td>CNA.L</td>\n",
       "      <td>Centrica plc</td>\n",
       "      <td>Centrica plc</td>\n",
       "    </tr>\n",
       "    <tr>\n",
       "      <th>1</th>\n",
       "      <td>-146.0</td>\n",
       "      <td>TUI.L</td>\n",
       "      <td>TUI AG</td>\n",
       "      <td>TUI AG</td>\n",
       "    </tr>\n",
       "    <tr>\n",
       "      <th>2</th>\n",
       "      <td>-137.0</td>\n",
       "      <td>WPP.L</td>\n",
       "      <td>WPP plc</td>\n",
       "      <td>WPP plc</td>\n",
       "    </tr>\n",
       "    <tr>\n",
       "      <th>3</th>\n",
       "      <td>-131.0</td>\n",
       "      <td>FRES.L</td>\n",
       "      <td>Fresnillo PLC</td>\n",
       "      <td>Fresnillo PLC</td>\n",
       "    </tr>\n",
       "    <tr>\n",
       "      <th>4</th>\n",
       "      <td>-124.0</td>\n",
       "      <td>BT-A.L</td>\n",
       "      <td>BT Group plc</td>\n",
       "      <td>BT Group plc</td>\n",
       "    </tr>\n",
       "  </tbody>\n",
       "</table>\n",
       "</div>"
      ],
      "text/plain": [
       "   percentage    code      Company_x      Company_y\n",
       "0      -202.0   CNA.L   Centrica plc   Centrica plc\n",
       "1      -146.0   TUI.L         TUI AG         TUI AG\n",
       "2      -137.0   WPP.L        WPP plc        WPP plc\n",
       "3      -131.0  FRES.L  Fresnillo PLC  Fresnillo PLC\n",
       "4      -124.0  BT-A.L   BT Group plc   BT Group plc"
      ]
     },
     "execution_count": 16,
     "metadata": {},
     "output_type": "execute_result"
    }
   ],
   "source": [
    "# Merge company names\n",
    "if 'company' not in agg_df.columns:\n",
    "    agg_df = pd.merge(agg_df, companies_df, on='code', how='left', validate='one_to_one')\n",
    "agg_df.head()"
   ]
  },
  {
   "cell_type": "code",
   "execution_count": 17,
   "metadata": {},
   "outputs": [],
   "source": [
    "# # Export agg_df to csv file\n",
    "# agg_df.to_csv('./data_aggregated/highest_close_percentage_difference.csv')"
   ]
  },
  {
   "cell_type": "code",
   "execution_count": 18,
   "metadata": {},
   "outputs": [],
   "source": [
    "def add_moving_average(df, days):\n",
    "    column = 'ma_{}'.format(days)\n",
    "    df[column] = df['Close'].rolling(window=days).mean()\n",
    "    return df"
   ]
  },
  {
   "cell_type": "code",
   "execution_count": 19,
   "metadata": {},
   "outputs": [],
   "source": [
    "def add_ma_position(df, ma_1=50, ma_2=200):\n",
    "    \"\"\"\n",
    "    Creates a new column 'ma_position' with possible\n",
    "    values -1, +1.\n",
    "    -1 when shorter SMA is below longer SMA\n",
    "    +1 when shorter SMA is above longer SMA\n",
    "    \"\"\"\n",
    "    column = 'ma_position'\n",
    "    ma_1_df = df['Close'].rolling(window=ma_1).mean()\n",
    "    ma_2_df = df['Close'].rolling(window=ma_2).mean()\n",
    "    df[column] = np.where(ma_1_df > ma_2_df, 1, -1)\n",
    "    return df"
   ]
  },
  {
   "cell_type": "code",
   "execution_count": 20,
   "metadata": {},
   "outputs": [],
   "source": [
    "def add_ma_crossover(df, ma_1=50, ma_2=200, close_column='Close'):\n",
    "    \"\"\"\n",
    "    Takes stock data and adds a column 'ma_crossover'\n",
    "    which is 1 on the day where two moving averages cross over. \n",
    "    \"\"\"\n",
    "    column = 'ma_crossover'\n",
    "    \n",
    "    # Get moving averages\n",
    "    ma_1_df = df['Close'].rolling(window=ma_1).mean()\n",
    "    ma_2_df = df['Close'].rolling(window=ma_2).mean()\n",
    "\n",
    "    # MA_1 below MA_2 >>> -1, MA_1 above MA_2 >>> +1\n",
    "    position = pd.Series(np.where(ma_1_df > ma_2_df, 1, -1))\n",
    "    \n",
    "    # 1 if there is a change in position, otherwise 0\n",
    "    df[column] = np.where(position != position.shift(1).fillna(method='bfill'), 1, 0)\n",
    "    \n",
    "    return df\n",
    "\n",
    "def ma_crossover_dates(df):\n",
    "    df = add_ma_crossover(df)\n",
    "    return df[df['ma_crossover'] == 1]"
   ]
  },
  {
   "cell_type": "code",
   "execution_count": 23,
   "metadata": {},
   "outputs": [
    {
     "data": {
      "text/html": [
       "<div>\n",
       "<style scoped>\n",
       "    .dataframe tbody tr th:only-of-type {\n",
       "        vertical-align: middle;\n",
       "    }\n",
       "\n",
       "    .dataframe tbody tr th {\n",
       "        vertical-align: top;\n",
       "    }\n",
       "\n",
       "    .dataframe thead th {\n",
       "        text-align: right;\n",
       "    }\n",
       "</style>\n",
       "<table border=\"1\" class=\"dataframe\">\n",
       "  <thead>\n",
       "    <tr style=\"text-align: right;\">\n",
       "      <th></th>\n",
       "      <th>Date</th>\n",
       "      <th>High</th>\n",
       "      <th>Low</th>\n",
       "      <th>Open</th>\n",
       "      <th>Close</th>\n",
       "      <th>Volume</th>\n",
       "      <th>Adj Close</th>\n",
       "      <th>ma_crossover</th>\n",
       "      <th>ma_position</th>\n",
       "      <th>code</th>\n",
       "    </tr>\n",
       "  </thead>\n",
       "  <tbody>\n",
       "    <tr>\n",
       "      <th>1251</th>\n",
       "      <td>2019-03-15</td>\n",
       "      <td>751.599976</td>\n",
       "      <td>736.599976</td>\n",
       "      <td>743.0</td>\n",
       "      <td>742.599976</td>\n",
       "      <td>12936967.0</td>\n",
       "      <td>742.599976</td>\n",
       "      <td>1</td>\n",
       "      <td>1</td>\n",
       "      <td>JE.L</td>\n",
       "    </tr>\n",
       "    <tr>\n",
       "      <th>1316</th>\n",
       "      <td>2019-03-15</td>\n",
       "      <td>7160.000000</td>\n",
       "      <td>7070.000000</td>\n",
       "      <td>7110.0</td>\n",
       "      <td>7080.000000</td>\n",
       "      <td>235280.0</td>\n",
       "      <td>7080.000000</td>\n",
       "      <td>1</td>\n",
       "      <td>1</td>\n",
       "      <td>SPX.L</td>\n",
       "    </tr>\n",
       "    <tr>\n",
       "      <th>1317</th>\n",
       "      <td>2019-03-18</td>\n",
       "      <td>66.209999</td>\n",
       "      <td>64.849998</td>\n",
       "      <td>65.0</td>\n",
       "      <td>65.370003</td>\n",
       "      <td>230980421.0</td>\n",
       "      <td>65.370003</td>\n",
       "      <td>1</td>\n",
       "      <td>1</td>\n",
       "      <td>LLOY.L</td>\n",
       "    </tr>\n",
       "    <tr>\n",
       "      <th>1318</th>\n",
       "      <td>2019-03-22</td>\n",
       "      <td>4647.500000</td>\n",
       "      <td>4529.500000</td>\n",
       "      <td>4640.0</td>\n",
       "      <td>4538.500000</td>\n",
       "      <td>354587.0</td>\n",
       "      <td>4459.984863</td>\n",
       "      <td>1</td>\n",
       "      <td>1</td>\n",
       "      <td>IHG.L</td>\n",
       "    </tr>\n",
       "    <tr>\n",
       "      <th>1320</th>\n",
       "      <td>2019-03-22</td>\n",
       "      <td>930.400024</td>\n",
       "      <td>912.200012</td>\n",
       "      <td>929.0</td>\n",
       "      <td>913.400024</td>\n",
       "      <td>2141005.0</td>\n",
       "      <td>913.400024</td>\n",
       "      <td>1</td>\n",
       "      <td>1</td>\n",
       "      <td>LAND.L</td>\n",
       "    </tr>\n",
       "  </tbody>\n",
       "</table>\n",
       "</div>"
      ],
      "text/plain": [
       "            Date         High          Low    Open        Close       Volume  \\\n",
       "1251  2019-03-15   751.599976   736.599976   743.0   742.599976   12936967.0   \n",
       "1316  2019-03-15  7160.000000  7070.000000  7110.0  7080.000000     235280.0   \n",
       "1317  2019-03-18    66.209999    64.849998    65.0    65.370003  230980421.0   \n",
       "1318  2019-03-22  4647.500000  4529.500000  4640.0  4538.500000     354587.0   \n",
       "1320  2019-03-22   930.400024   912.200012   929.0   913.400024    2141005.0   \n",
       "\n",
       "        Adj Close  ma_crossover  ma_position    code  \n",
       "1251   742.599976             1            1    JE.L  \n",
       "1316  7080.000000             1            1   SPX.L  \n",
       "1317    65.370003             1            1  LLOY.L  \n",
       "1318  4459.984863             1            1   IHG.L  \n",
       "1320   913.400024             1            1  LAND.L  "
      ]
     },
     "execution_count": 23,
     "metadata": {},
     "output_type": "execute_result"
    }
   ],
   "source": [
    "# Name of stock and dates of moving average crossover\n",
    "def get_crossovers_df(stocks_csv_files):\n",
    "    \"\"\"\n",
    "    Loop over all csv files containing stock data\n",
    "    and return a dataframe on days where crossover\n",
    "    took place.\n",
    "    \"\"\"\n",
    "    crossover_df = pd.DataFrame()\n",
    "    for file in stocks_csv_files:\n",
    "        df = pd.read_csv(file)\n",
    "        df = add_ma_crossover(df)\n",
    "        df = add_ma_position(df)\n",
    "        df = df[(df['ma_crossover'] == 1) & (df['ma_position'] == 1)]\n",
    "        df['code'] = file_to_symbol(file)\n",
    "        crossover_df = pd.concat([crossover_df, df])\n",
    "    return crossover_df\n",
    "\n",
    "crossover_df = get_crossovers_df(stocks_csv_files)\n",
    "crossover_df.sort_values(by='Date').tail()"
   ]
  },
  {
   "cell_type": "code",
   "execution_count": null,
   "metadata": {},
   "outputs": [],
   "source": [
    "# crossover_df.sort_values(by='Date').to_csv('./data_aggregated/moving_average_crossovers.csv')"
   ]
  },
  {
   "cell_type": "code",
   "execution_count": 22,
   "metadata": {},
   "outputs": [
    {
     "data": {
      "text/html": [
       "<div>\n",
       "<style scoped>\n",
       "    .dataframe tbody tr th:only-of-type {\n",
       "        vertical-align: middle;\n",
       "    }\n",
       "\n",
       "    .dataframe tbody tr th {\n",
       "        vertical-align: top;\n",
       "    }\n",
       "\n",
       "    .dataframe thead th {\n",
       "        text-align: right;\n",
       "    }\n",
       "</style>\n",
       "<table border=\"1\" class=\"dataframe\">\n",
       "  <thead>\n",
       "    <tr style=\"text-align: right;\">\n",
       "      <th></th>\n",
       "      <th>Date</th>\n",
       "      <th>High</th>\n",
       "      <th>Low</th>\n",
       "      <th>Open</th>\n",
       "      <th>Close</th>\n",
       "      <th>Volume</th>\n",
       "      <th>Adj Close</th>\n",
       "      <th>ma_crossover</th>\n",
       "      <th>ma_position</th>\n",
       "      <th>code</th>\n",
       "    </tr>\n",
       "  </thead>\n",
       "  <tbody>\n",
       "    <tr>\n",
       "      <th>1251</th>\n",
       "      <td>2019-03-15</td>\n",
       "      <td>751.599976</td>\n",
       "      <td>736.599976</td>\n",
       "      <td>743.0</td>\n",
       "      <td>742.599976</td>\n",
       "      <td>12936967.0</td>\n",
       "      <td>742.599976</td>\n",
       "      <td>1</td>\n",
       "      <td>1</td>\n",
       "      <td>JE.L</td>\n",
       "    </tr>\n",
       "    <tr>\n",
       "      <th>1316</th>\n",
       "      <td>2019-03-15</td>\n",
       "      <td>7160.000000</td>\n",
       "      <td>7070.000000</td>\n",
       "      <td>7110.0</td>\n",
       "      <td>7080.000000</td>\n",
       "      <td>235280.0</td>\n",
       "      <td>7080.000000</td>\n",
       "      <td>1</td>\n",
       "      <td>1</td>\n",
       "      <td>SPX.L</td>\n",
       "    </tr>\n",
       "    <tr>\n",
       "      <th>1317</th>\n",
       "      <td>2019-03-18</td>\n",
       "      <td>66.209999</td>\n",
       "      <td>64.849998</td>\n",
       "      <td>65.0</td>\n",
       "      <td>65.370003</td>\n",
       "      <td>230980421.0</td>\n",
       "      <td>65.370003</td>\n",
       "      <td>1</td>\n",
       "      <td>1</td>\n",
       "      <td>LLOY.L</td>\n",
       "    </tr>\n",
       "    <tr>\n",
       "      <th>1318</th>\n",
       "      <td>2019-03-22</td>\n",
       "      <td>4647.500000</td>\n",
       "      <td>4529.500000</td>\n",
       "      <td>4640.0</td>\n",
       "      <td>4538.500000</td>\n",
       "      <td>354587.0</td>\n",
       "      <td>4459.984863</td>\n",
       "      <td>1</td>\n",
       "      <td>1</td>\n",
       "      <td>IHG.L</td>\n",
       "    </tr>\n",
       "    <tr>\n",
       "      <th>1320</th>\n",
       "      <td>2019-03-22</td>\n",
       "      <td>930.400024</td>\n",
       "      <td>912.200012</td>\n",
       "      <td>929.0</td>\n",
       "      <td>913.400024</td>\n",
       "      <td>2141005.0</td>\n",
       "      <td>913.400024</td>\n",
       "      <td>1</td>\n",
       "      <td>1</td>\n",
       "      <td>LAND.L</td>\n",
       "    </tr>\n",
       "  </tbody>\n",
       "</table>\n",
       "</div>"
      ],
      "text/plain": [
       "            Date         High          Low    Open        Close       Volume  \\\n",
       "1251  2019-03-15   751.599976   736.599976   743.0   742.599976   12936967.0   \n",
       "1316  2019-03-15  7160.000000  7070.000000  7110.0  7080.000000     235280.0   \n",
       "1317  2019-03-18    66.209999    64.849998    65.0    65.370003  230980421.0   \n",
       "1318  2019-03-22  4647.500000  4529.500000  4640.0  4538.500000     354587.0   \n",
       "1320  2019-03-22   930.400024   912.200012   929.0   913.400024    2141005.0   \n",
       "\n",
       "        Adj Close  ma_crossover  ma_position    code  \n",
       "1251   742.599976             1            1    JE.L  \n",
       "1316  7080.000000             1            1   SPX.L  \n",
       "1317    65.370003             1            1  LLOY.L  \n",
       "1318  4459.984863             1            1   IHG.L  \n",
       "1320   913.400024             1            1  LAND.L  "
      ]
     },
     "execution_count": 22,
     "metadata": {},
     "output_type": "execute_result"
    }
   ],
   "source": [
    "crossover_df.sort_values(by='Date').tail()"
   ]
  },
  {
   "cell_type": "markdown",
   "metadata": {},
   "source": [
    "### Largest gap between long term moving average and very short term moving average\n",
    "\n",
    "Long term MA = 200 days<br>\n",
    "Short term MA = 5 days\n",
    "\n",
    "There is bound to be a pull back or short term price reversal when the gap between MA 200 and MA 5 is large.\n",
    "\n",
    "Strategy is to itterate through all stocks and find the ones with the largest gap between the two moving averages.\n",
    "\n",
    "The gap needs to be in percentage, so that we can compare the gap between different stocks e.g. \n",
    "\n",
    "    symbol: LLOY.L\n",
    "    date: 28/12/2018\n",
    "    MA 200 = 61.01 \n",
    "    MA 5 = 50.94\n",
    "    gap = 16.5%\n",
    "    calculation: (61.01 - 50.94)/61.01"
   ]
  },
  {
   "cell_type": "code",
   "execution_count": null,
   "metadata": {},
   "outputs": [],
   "source": []
  },
  {
   "cell_type": "code",
   "execution_count": null,
   "metadata": {},
   "outputs": [],
   "source": []
  }
 ],
 "metadata": {
  "kernelspec": {
   "display_name": "Python 3",
   "language": "python",
   "name": "python3"
  },
  "language_info": {
   "codemirror_mode": {
    "name": "ipython",
    "version": 3
   },
   "file_extension": ".py",
   "mimetype": "text/x-python",
   "name": "python",
   "nbconvert_exporter": "python",
   "pygments_lexer": "ipython3",
   "version": "3.6.5"
  }
 },
 "nbformat": 4,
 "nbformat_minor": 2
}
